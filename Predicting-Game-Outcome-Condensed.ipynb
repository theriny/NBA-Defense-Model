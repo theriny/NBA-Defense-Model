{
 "cells": [
  {
   "cell_type": "markdown",
   "id": "96274774",
   "metadata": {},
   "source": [
    "# Predicting Game Outcome Using Team & Player Stats"
   ]
  },
  {
   "cell_type": "markdown",
   "id": "3b417b0a",
   "metadata": {},
   "source": [
    "NBA Seasons 2019-2022"
   ]
  },
  {
   "cell_type": "code",
   "execution_count": 4,
   "id": "3e0bc3d9",
   "metadata": {},
   "outputs": [],
   "source": [
    "import pandas as pd\n",
    "pd.set_option('display.max_rows', None)\n",
    "pd.set_option('display.max_columns', None)\n",
    "import seaborn as sns\n",
    "import matplotlib.pyplot as plt\n",
    "from sklearn.preprocessing import MinMaxScaler\n",
    "import numpy as np"
   ]
  },
  {
   "cell_type": "markdown",
   "id": "189f2639",
   "metadata": {},
   "source": [
    "## 1. Data Cleaning & Processing"
   ]
  },
  {
   "cell_type": "code",
   "execution_count": 32,
   "id": "14b1d758",
   "metadata": {},
   "outputs": [],
   "source": [
    "# read data source\n",
    "df_full = pd.read_csv('nba_stats.csv',index_col=False,usecols=['Team_Score','Opponent_Score','game_date','game_id','Team_Abbrev','Opponent_Abbrev','stl','blk','drb','fg','fg3','ft','orb','ast','pts'])"
   ]
  },
  {
   "cell_type": "code",
   "execution_count": 33,
   "id": "686d0846",
   "metadata": {},
   "outputs": [
    {
     "data": {
      "text/plain": [
       "(115715, 15)"
      ]
     },
     "execution_count": 33,
     "metadata": {},
     "output_type": "execute_result"
    }
   ],
   "source": [
    "df_full.shape"
   ]
  },
  {
   "cell_type": "code",
   "execution_count": 34,
   "id": "1c8aed06",
   "metadata": {},
   "outputs": [],
   "source": [
    "df_full.drop_duplicates(inplace=True)"
   ]
  },
  {
   "cell_type": "code",
   "execution_count": 35,
   "id": "452eeb7b",
   "metadata": {},
   "outputs": [
    {
     "data": {
      "text/plain": [
       "(78824, 15)"
      ]
     },
     "execution_count": 35,
     "metadata": {},
     "output_type": "execute_result"
    }
   ],
   "source": [
    "df_full.shape"
   ]
  },
  {
   "cell_type": "code",
   "execution_count": 36,
   "id": "9b88ffe5",
   "metadata": {},
   "outputs": [],
   "source": [
    "df_full.reset_index(inplace=True,drop=True)"
   ]
  },
  {
   "cell_type": "code",
   "execution_count": 37,
   "id": "761962ed",
   "metadata": {},
   "outputs": [],
   "source": [
    "# calculate win/lose field\n",
    "winlose = []\n",
    "for i in range(0,df_full.shape[0]):\n",
    "    if ((df_full['Team_Score'][i]) < (df_full['Opponent_Score'][i])):\n",
    "        winlose.append(0)\n",
    "    else:\n",
    "        winlose.append(1)\n",
    "\n",
    "df_full['outcome'] = winlose"
   ]
  },
  {
   "cell_type": "code",
   "execution_count": 38,
   "id": "9a87e4de",
   "metadata": {},
   "outputs": [],
   "source": [
    "#convert game date to datetime field\n",
    "df_full['game_date'] = pd.to_datetime(df_full['game_date'])"
   ]
  },
  {
   "cell_type": "code",
   "execution_count": 39,
   "id": "700b406c",
   "metadata": {},
   "outputs": [
    {
     "name": "stdout",
     "output_type": "stream",
     "text": [
      "Columns with NaN values: []\n"
     ]
    }
   ],
   "source": [
    "#get list of columns that contain NaN values\n",
    "columns_with_nan = df_full.columns[df_full.isna().any()].tolist()\n",
    "\n",
    "print(\"Columns with NaN values:\", columns_with_nan)"
   ]
  },
  {
   "cell_type": "code",
   "execution_count": 40,
   "id": "d8bc4611",
   "metadata": {},
   "outputs": [],
   "source": [
    "#drop rows with nan values\n",
    "df_full_cleaned = df_full.copy()"
   ]
  },
  {
   "cell_type": "code",
   "execution_count": 41,
   "id": "9eebc791",
   "metadata": {
    "scrolled": true
   },
   "outputs": [
    {
     "name": "stdout",
     "output_type": "stream",
     "text": [
      "<class 'pandas.core.frame.DataFrame'>\n",
      "RangeIndex: 78824 entries, 0 to 78823\n",
      "Data columns (total 16 columns):\n",
      " #   Column           Non-Null Count  Dtype         \n",
      "---  ------           --------------  -----         \n",
      " 0   game_id          78824 non-null  object        \n",
      " 1   game_date        78824 non-null  datetime64[ns]\n",
      " 2   Team_Abbrev      78824 non-null  object        \n",
      " 3   Team_Score       78824 non-null  int64         \n",
      " 4   Opponent_Abbrev  78824 non-null  object        \n",
      " 5   Opponent_Score   78824 non-null  int64         \n",
      " 6   fg               78824 non-null  int64         \n",
      " 7   fg3              78824 non-null  int64         \n",
      " 8   ft               78824 non-null  int64         \n",
      " 9   orb              78824 non-null  int64         \n",
      " 10  drb              78824 non-null  int64         \n",
      " 11  ast              78824 non-null  int64         \n",
      " 12  stl              78824 non-null  int64         \n",
      " 13  blk              78824 non-null  int64         \n",
      " 14  pts              78824 non-null  int64         \n",
      " 15  outcome          78824 non-null  int64         \n",
      "dtypes: datetime64[ns](1), int64(12), object(3)\n",
      "memory usage: 9.6+ MB\n"
     ]
    }
   ],
   "source": [
    "df_full_cleaned.info()"
   ]
  },
  {
   "cell_type": "code",
   "execution_count": 42,
   "id": "d7c5de33",
   "metadata": {},
   "outputs": [
    {
     "data": {
      "text/plain": [
       "(78824, 16)"
      ]
     },
     "execution_count": 42,
     "metadata": {},
     "output_type": "execute_result"
    }
   ],
   "source": [
    "df_full_cleaned.shape"
   ]
  },
  {
   "cell_type": "code",
   "execution_count": 43,
   "id": "5a6526a5",
   "metadata": {},
   "outputs": [],
   "source": [
    "#Define the pure defensive and offensive player stats (By pure I mean those stats that can only be regarded as defensive or offensive)--excluding percentages as a fg percentage of 100% is misleading if the player only attempted one fg.\n",
    "player_def_stats_cols = ['game_id','Team_Abbrev','Opponent_Abbrev','outcome','stl','blk','drb']\n",
    "\n",
    "player_off_stats_cols = ['game_id','Team_Abbrev','Opponent_Abbrev','outcome','fg','fg3','ft','orb','ast','pts']"
   ]
  },
  {
   "cell_type": "code",
   "execution_count": 44,
   "id": "a56b49ad",
   "metadata": {},
   "outputs": [],
   "source": [
    "#create player def stats dataframe\n",
    "df_player_def = df_full_cleaned[player_def_stats_cols]\n",
    "\n",
    "#create player off stats dataframe\n",
    "df_player_off = df_full_cleaned[player_off_stats_cols]\n",
    "\n",
    "#create df with combined (def+off) player stats\n",
    "df_player_combined = df_full_cleaned[player_def_stats_cols + player_off_stats_cols]\n",
    "df_player_combined = df_player_combined.iloc[:,4:]"
   ]
  },
  {
   "cell_type": "code",
   "execution_count": 45,
   "id": "d0363db7",
   "metadata": {},
   "outputs": [
    {
     "data": {
      "text/plain": [
       "((78824, 7), (78824, 10), (78824, 13))"
      ]
     },
     "execution_count": 45,
     "metadata": {},
     "output_type": "execute_result"
    }
   ],
   "source": [
    "df_player_def.shape, df_player_off.shape, df_player_combined.shape"
   ]
  },
  {
   "cell_type": "code",
   "execution_count": 46,
   "id": "7807613d",
   "metadata": {},
   "outputs": [],
   "source": [
    "#aggregate stats by team\n",
    "df_def_agg = df_player_def.groupby(by=['game_id','Team_Abbrev','Opponent_Abbrev','outcome'],as_index=False).agg (sumdrb = ('drb','sum'),sumstl=('stl','sum'),sumblk=('blk','sum'))\n",
    "df_off_agg = df_player_off.groupby(by=['game_id','Team_Abbrev','Opponent_Abbrev','outcome'],as_index=False).agg (sumfg = ('fg','sum'),sumfg3=('fg3','sum'),sumft=('ft','sum'),sumorb=('orb','sum'),sumast=('ast','sum'),sumpts=('pts','sum'))\n",
    "df_combined_agg = df_player_combined.groupby(by=['game_id','Team_Abbrev','Opponent_Abbrev','outcome'],as_index=False).agg (sumfg = ('fg','sum'),sumfg3=('fg3','sum'),sumft=('ft','sum'),sumorb=('orb','sum'),sumast=('ast','sum'),sumpts=('pts','sum'),sumdrb = ('drb','sum'),sumstl=('stl','sum'),sumblk=('blk','sum'))"
   ]
  },
  {
   "cell_type": "code",
   "execution_count": 47,
   "id": "2b2d5e90",
   "metadata": {},
   "outputs": [
    {
     "data": {
      "text/plain": [
       "(Index(['game_id', 'Team_Abbrev', 'Opponent_Abbrev', 'outcome', 'sumfg',\n",
       "        'sumfg3', 'sumft', 'sumorb', 'sumast', 'sumpts', 'sumdrb', 'sumstl',\n",
       "        'sumblk'],\n",
       "       dtype='object'),\n",
       " Index(['game_id', 'Team_Abbrev', 'Opponent_Abbrev', 'outcome', 'sumdrb',\n",
       "        'sumstl', 'sumblk'],\n",
       "       dtype='object'),\n",
       " Index(['game_id', 'Team_Abbrev', 'Opponent_Abbrev', 'outcome', 'sumfg',\n",
       "        'sumfg3', 'sumft', 'sumorb', 'sumast', 'sumpts'],\n",
       "       dtype='object'))"
      ]
     },
     "execution_count": 47,
     "metadata": {},
     "output_type": "execute_result"
    }
   ],
   "source": [
    "df_combined_agg.columns, df_def_agg.columns, df_off_agg.columns"
   ]
  },
  {
   "cell_type": "code",
   "execution_count": 54,
   "id": "108290c9",
   "metadata": {},
   "outputs": [],
   "source": [
    "#get subset of data that only contains fields with numerical values\n",
    "\n",
    "cols_to_exclude = ['game_id','Team_Abbrev','Opponent_Abbrev']\n",
    "\n",
    "df_def_num = df_def_agg.drop(columns=cols_to_exclude)\n",
    "df_off_num = df_off_agg.drop(columns=cols_to_exclude)\n",
    "df_combined_num = df_combined_agg.drop(columns=cols_to_exclude)"
   ]
  },
  {
   "cell_type": "code",
   "execution_count": 61,
   "id": "974a65a0",
   "metadata": {},
   "outputs": [],
   "source": [
    "#df_combined_num.to_csv('nba_data.csv',index=False)"
   ]
  },
  {
   "cell_type": "code",
   "execution_count": 55,
   "id": "119a7439",
   "metadata": {},
   "outputs": [
    {
     "data": {
      "text/html": [
       "<div>\n",
       "<style scoped>\n",
       "    .dataframe tbody tr th:only-of-type {\n",
       "        vertical-align: middle;\n",
       "    }\n",
       "\n",
       "    .dataframe tbody tr th {\n",
       "        vertical-align: top;\n",
       "    }\n",
       "\n",
       "    .dataframe thead th {\n",
       "        text-align: right;\n",
       "    }\n",
       "</style>\n",
       "<table border=\"1\" class=\"dataframe\">\n",
       "  <thead>\n",
       "    <tr style=\"text-align: right;\">\n",
       "      <th></th>\n",
       "      <th>outcome</th>\n",
       "      <th>sumfg</th>\n",
       "      <th>sumfg3</th>\n",
       "      <th>sumft</th>\n",
       "      <th>sumorb</th>\n",
       "      <th>sumast</th>\n",
       "      <th>sumpts</th>\n",
       "    </tr>\n",
       "  </thead>\n",
       "  <tbody>\n",
       "    <tr>\n",
       "      <th>0</th>\n",
       "      <td>1</td>\n",
       "      <td>42</td>\n",
       "      <td>11</td>\n",
       "      <td>17</td>\n",
       "      <td>11</td>\n",
       "      <td>24</td>\n",
       "      <td>112</td>\n",
       "    </tr>\n",
       "    <tr>\n",
       "      <th>1</th>\n",
       "      <td>0</td>\n",
       "      <td>37</td>\n",
       "      <td>13</td>\n",
       "      <td>15</td>\n",
       "      <td>9</td>\n",
       "      <td>20</td>\n",
       "      <td>102</td>\n",
       "    </tr>\n",
       "    <tr>\n",
       "      <th>2</th>\n",
       "      <td>0</td>\n",
       "      <td>43</td>\n",
       "      <td>19</td>\n",
       "      <td>17</td>\n",
       "      <td>16</td>\n",
       "      <td>30</td>\n",
       "      <td>122</td>\n",
       "    </tr>\n",
       "    <tr>\n",
       "      <th>3</th>\n",
       "      <td>1</td>\n",
       "      <td>42</td>\n",
       "      <td>14</td>\n",
       "      <td>32</td>\n",
       "      <td>16</td>\n",
       "      <td>23</td>\n",
       "      <td>130</td>\n",
       "    </tr>\n",
       "    <tr>\n",
       "      <th>4</th>\n",
       "      <td>0</td>\n",
       "      <td>48</td>\n",
       "      <td>15</td>\n",
       "      <td>15</td>\n",
       "      <td>10</td>\n",
       "      <td>19</td>\n",
       "      <td>126</td>\n",
       "    </tr>\n",
       "  </tbody>\n",
       "</table>\n",
       "</div>"
      ],
      "text/plain": [
       "   outcome  sumfg  sumfg3  sumft  sumorb  sumast  sumpts\n",
       "0        1     42      11     17      11      24     112\n",
       "1        0     37      13     15       9      20     102\n",
       "2        0     43      19     17      16      30     122\n",
       "3        1     42      14     32      16      23     130\n",
       "4        0     48      15     15      10      19     126"
      ]
     },
     "execution_count": 55,
     "metadata": {},
     "output_type": "execute_result"
    }
   ],
   "source": [
    "df_off_num.head()"
   ]
  },
  {
   "cell_type": "markdown",
   "id": "fe650840",
   "metadata": {},
   "source": [
    "## 2. Define & Train Model"
   ]
  },
  {
   "cell_type": "code",
   "execution_count": 48,
   "id": "6e7ead2c",
   "metadata": {},
   "outputs": [],
   "source": [
    "#import ML libraries\n",
    "from sklearn.svm import SVC\n",
    "\n",
    "\n",
    "from sklearn.metrics import accuracy_score, confusion_matrix\n",
    "from sklearn.tree import DecisionTreeClassifier\n",
    "from sklearn.ensemble import RandomForestClassifier\n",
    "from sklearn import svm\n",
    "from sklearn.neighbors import KNeighborsClassifier\n",
    "from sklearn import svm as svm_linear\n",
    "from sklearn.metrics import classification_report\n",
    "from sklearn.model_selection import RepeatedStratifiedKFold\n",
    "from sklearn.model_selection import cross_validate\n",
    "from sklearn.model_selection import cross_val_predict\n",
    "from sklearn.model_selection import cross_val_score\n",
    "from sklearn.model_selection import train_test_split as tts\n"
   ]
  },
  {
   "cell_type": "code",
   "execution_count": 49,
   "id": "12e7917c",
   "metadata": {},
   "outputs": [],
   "source": [
    "def misclassification_cost(arg1, arg2):\n",
    "    \n",
    "    # function for calculating the missclassification cost of a classifier given test labels and predicted labels returned from the\n",
    "    # trained classifier.\n",
    "    \n",
    "    '''\n",
    "    inputs:\n",
    "    arg1 = array of test labels\n",
    "    arg2 = array of predicted labels\n",
    "    \n",
    "    returns:\n",
    "    misclassification cost\n",
    "    '''\n",
    "\n",
    "    #print confusion matrix\n",
    "    CM = confusion_matrix(arg1,arg2)\n",
    "    print(CM)\n",
    "\n",
    "    #define cost matrix shape\n",
    "    cM = np.zeros(CM.shape)\n",
    "\n",
    "    #assign weights to cost matrix\n",
    "    if cM.shape == (3,3):\n",
    "        cM[0] = [0,1,2]\n",
    "        cM[1] = [1,0,1]\n",
    "        cM[2] = [2,1,0]\n",
    "\n",
    "    # for binary classification\n",
    "    elif cM.shape ==(2,2):\n",
    "        cM[0] = [0,1]\n",
    "        cM[1] = [1,0]\n",
    "\n",
    "    elif cM.shape == (5,5):\n",
    "        cM[0] = [0,1,2,3,4]\n",
    "        cM[1] = [1,0,1,2,3]\n",
    "        cM[2] = [2,1,0,1,2]\n",
    "        cM[3] = [3,2,1,0,1]\n",
    "        cM[4] = [4,3,2,1,0]\n",
    "\n",
    "    #calculate classification cost\n",
    "    cM_matrix = np.matrix(CM * cM)\n",
    "    clcost = cM_matrix.sum()/arg2.shape[0]\n",
    "    \n",
    "    return(clcost)"
   ]
  },
  {
   "cell_type": "code",
   "execution_count": 58,
   "id": "6b4bbc3a",
   "metadata": {},
   "outputs": [],
   "source": [
    "from sklearn.calibration import calibration_curve\n",
    "\n",
    "\n",
    "def classifier(arg1,arg2,arg3):\n",
    "    \n",
    "    '''\n",
    "    arg1: X Features\n",
    "    arg2: y Label\n",
    "    arg3: random seed\n",
    "    '''\n",
    "\n",
    "\n",
    "    modelDict = {'DecisionTreeClassifier':'max_depth = %d,random_state = %d' % (4,0),\n",
    "                 'RandomForestClassifier':'',\n",
    "                 'svm.SVC':'kernel=\"rbf\",probability=True', \n",
    "                 'KNeighborsClassifier':'n_neighbors = 4',\n",
    "                 'svm_linear.SVC':'kernel=\"linear\",probability=True'\n",
    "                }\n",
    "\n",
    "    model_lst = list(modelDict.keys())  \n",
    "\n",
    "\n",
    "    #create lists for storing model scores for cross-validation\n",
    "    models = []\n",
    "    accuracy = []\n",
    "    mpca = []\n",
    "    f1_wt = []\n",
    "\n",
    "    #create lists for storing model scores\n",
    "    accuracy2 = []\n",
    "    mpca2 = []\n",
    "    f1_wt2 = []\n",
    "    cost2 = []\n",
    "    unique2 = []\n",
    "\n",
    "\n",
    "\n",
    "    for key in modelDict.keys():\n",
    "        print(key)\n",
    "        models.append(key)\n",
    "\n",
    "        #define classifier with parameters including penalizing parameters\n",
    "        clf = eval('%s(%s)' % (key,modelDict[key]))\n",
    "\n",
    "\n",
    "        #evaluate pipeline\n",
    "\n",
    "        # define cross-validation method for model evaluation\n",
    "        cv = RepeatedStratifiedKFold(n_splits=10, n_repeats=3, random_state=1)       \n",
    "\n",
    "\n",
    "        #calculate cross-validated mean per class accuracy (recall macroaverage from classification report)\n",
    "        results = cross_validate(clf,arg1, arg2, scoring=['recall_macro','accuracy','f1_macro','f1_weighted'], cv=cv, n_jobs=-1,error_score='raise')\n",
    "\n",
    "        #append cross-validation results to respective lists\n",
    "        accuracy.append(results['test_accuracy'].mean())\n",
    "        mpca.append(results['test_recall_macro'].mean())\n",
    "        f1_wt.append(results['test_f1_weighted'].mean())\n",
    "\n",
    "\n",
    "\n",
    "\n",
    "\n",
    "        #train each model with training data and predict on test data\n",
    "\n",
    "        #split data into train and test data (75/25 split)\n",
    "        X_train, X_test, y_train, y_test = tts(arg1, arg2, random_state=arg3)\n",
    "\n",
    "\n",
    "        print(np.unique(y_train))\n",
    "        #train models\n",
    "        model = clf.fit(X_train, y_train)  \n",
    "\n",
    "\n",
    "        #predict on test data\n",
    "        y_hat = model.predict(X_test)      \n",
    "        print(classification_report(y_test, y_hat))\n",
    "        \n",
    "        #print confusion matrix\n",
    "        CM = confusion_matrix(y_test,y_hat)\n",
    "        print(\"Confusion Matrix\")\n",
    "        print(CM)\n",
    "        \n",
    "        print(\"Calibration Curve\")\n",
    "        prob_true, prob_pred = calibration_curve(y_test, y_hat, n_bins=10)\n",
    "        plt.plot(prob_pred, prob_true, marker='o', label=\"Calibration curve\")\n",
    "        plt.plot([0, 1], [0, 1], 'k--', label=\"Perfectly calibrated\")\n",
    "        plt.xlabel('Predicted Probability')\n",
    "        plt.ylabel('True Probability')\n",
    "        plt.legend()\n",
    "        plt.show()\n",
    "        \n",
    "        print(\"Residual Plot\")\n",
    "        \n",
    "        # Predict probabilities and class labels\n",
    "        y_pred_prob = model.predict_proba(X_test)[:, 1]  # Predicted probabilities for class 1\n",
    "\n",
    "        # 1. Residual Plot for Binary Classification\n",
    "        # Residuals = Actual - Predicted Probabilities\n",
    "        residuals = y_test - y_pred_prob\n",
    "\n",
    "        plt.figure(figsize=(8, 6))\n",
    "        sns.residplot(x=y_pred_prob, y=residuals, lowess=True, line_kws={'color': 'red'})\n",
    "        plt.xlabel('Predicted Probabilities')\n",
    "        plt.ylabel('Residuals (Actual - Predicted Probabilities)')\n",
    "        plt.title('Residual Plot for Binary Classification')\n",
    "        plt.show()\n",
    "        \n",
    "\n",
    "        #capture classification accuracy metrics\n",
    "        report_dict = classification_report(y_test,y_hat,output_dict=True)\n",
    "\n",
    "        #mean per class accuracy\n",
    "        mpca2.append(report_dict['macro avg']['recall']) #mean per class accuracy\n",
    "\n",
    "        #return f1 score\n",
    "        f1_wt2.append(report_dict['weighted avg']['f1-score'])\n",
    "\n",
    "        #accuracy\n",
    "        accuracy2.append(report_dict['accuracy'])   \n",
    "\n",
    "        #misclassification cost\n",
    "        cost2.append(misclassification_cost(y_test,y_hat))\n",
    "\n",
    "        #unique label predictions\n",
    "        unique2.append(np.unique(y_hat))\n",
    "\n",
    "\n",
    "\n",
    "    #create and populate dataframe with cross-validation results\n",
    "    df_scores = pd.DataFrame()\n",
    "    df_scores['Model'] = models\n",
    "    df_scores['CV Accuracy'] = accuracy\n",
    "    df_scores['CV MPCA'] = mpca\n",
    "    df_scores['CV F1_weighted'] = f1_wt\n",
    "    \n",
    "    \n",
    "    df_scores2 = pd.DataFrame()\n",
    "    df_scores2['Model'] = models\n",
    "    df_scores2['Accuracy'] = accuracy2\n",
    "    df_scores2['MPCA'] = mpca2\n",
    "    df_scores2['F1_weighted'] = f1_wt2\n",
    "    df_scores2['Misclassification_Cost'] = cost2\n",
    "    df_scores2['unique predictions'] = unique2\n",
    "\n",
    "\n",
    "\n",
    "\n",
    "    return(df_scores,df_scores2,model)"
   ]
  },
  {
   "cell_type": "code",
   "execution_count": 59,
   "id": "3212b704",
   "metadata": {},
   "outputs": [
    {
     "data": {
      "text/plain": [
       "\"\\nX_def = df_def_scaled.drop(columns= ['outcome'],axis=1) #predictors\\ny_def = df_def_scaled['outcome']\\n\\nX_com = df_combined_scaled.drop(columns= ['outcome'],axis=1) #predictors\\ny_com = df_combined_scaled['outcome']\\n\""
      ]
     },
     "execution_count": 59,
     "metadata": {},
     "output_type": "execute_result"
    }
   ],
   "source": [
    "#Define features and labels for offensive stat dataset\n",
    "X_off = df_off_num.drop(columns= ['outcome'],axis=1) #predictors\n",
    "y_off = df_off_num['outcome']\n",
    "\n",
    "\n",
    "'''\n",
    "X_def = df_def_scaled.drop(columns= ['outcome'],axis=1) #predictors\n",
    "y_def = df_def_scaled['outcome']\n",
    "\n",
    "X_com = df_combined_scaled.drop(columns= ['outcome'],axis=1) #predictors\n",
    "y_com = df_combined_scaled['outcome']\n",
    "'''"
   ]
  },
  {
   "cell_type": "code",
   "execution_count": 60,
   "id": "9928a2c2",
   "metadata": {},
   "outputs": [
    {
     "name": "stdout",
     "output_type": "stream",
     "text": [
      "DecisionTreeClassifier\n",
      "[0 1]\n",
      "              precision    recall  f1-score   support\n",
      "\n",
      "           0       0.70      0.76      0.73       907\n",
      "           1       0.73      0.66      0.69       865\n",
      "\n",
      "    accuracy                           0.71      1772\n",
      "   macro avg       0.71      0.71      0.71      1772\n",
      "weighted avg       0.71      0.71      0.71      1772\n",
      "\n",
      "Confusion Matrix\n",
      "[[692 215]\n",
      " [294 571]]\n",
      "Calibration Curve\n"
     ]
    },
    {
     "data": {
      "image/png": "[encoded data removed]",
      "text/plain": [
       "<Figure size 432x288 with 1 Axes>"
      ]
     },
     "metadata": {
      "needs_background": "light"
     },
     "output_type": "display_data"
    },
    {
     "name": "stdout",
     "output_type": "stream",
     "text": [
      "Residual Plot\n"
     ]
    },
    {
     "data": {
      "image/png": "[encoded data removed]",
      "text/plain": [
       "<Figure size 576x432 with 1 Axes>"
      ]
     },
     "metadata": {
      "needs_background": "light"
     },
     "output_type": "display_data"
    },
    {
     "name": "stdout",
     "output_type": "stream",
     "text": [
      "[[692 215]\n",
      " [294 571]]\n",
      "RandomForestClassifier\n",
      "[0 1]\n",
      "              precision    recall  f1-score   support\n",
      "\n",
      "           0       0.69      0.67      0.68       907\n",
      "           1       0.67      0.68      0.67       865\n",
      "\n",
      "    accuracy                           0.68      1772\n",
      "   macro avg       0.68      0.68      0.68      1772\n",
      "weighted avg       0.68      0.68      0.68      1772\n",
      "\n",
      "Confusion Matrix\n",
      "[[610 297]\n",
      " [275 590]]\n",
      "Calibration Curve\n"
     ]
    },
    {
     "data": {
      "image/png": "[encoded data removed]",
      "text/plain": [
       "<Figure size 432x288 with 1 Axes>"
      ]
     },
     "metadata": {
      "needs_background": "light"
     },
     "output_type": "display_data"
    },
    {
     "name": "stdout",
     "output_type": "stream",
     "text": [
      "Residual Plot\n"
     ]
    },
    {
     "data": {
      "image/png": "[encoded data removed]",
      "text/plain": [
       "<Figure size 576x432 with 1 Axes>"
      ]
     },
     "metadata": {
      "needs_background": "light"
     },
     "output_type": "display_data"
    },
    {
     "name": "stdout",
     "output_type": "stream",
     "text": [
      "[[610 297]\n",
      " [275 590]]\n",
      "svm.SVC\n",
      "[0 1]\n",
      "              precision    recall  f1-score   support\n",
      "\n",
      "           0       0.73      0.69      0.71       907\n",
      "           1       0.69      0.74      0.71       865\n",
      "\n",
      "    accuracy                           0.71      1772\n",
      "   macro avg       0.71      0.71      0.71      1772\n",
      "weighted avg       0.71      0.71      0.71      1772\n",
      "\n",
      "Confusion Matrix\n",
      "[[623 284]\n",
      " [226 639]]\n",
      "Calibration Curve\n"
     ]
    },
    {
     "data": {
      "image/png": "[encoded data removed]",
      "text/plain": [
       "<Figure size 432x288 with 1 Axes>"
      ]
     },
     "metadata": {
      "needs_background": "light"
     },
     "output_type": "display_data"
    },
    {
     "name": "stdout",
     "output_type": "stream",
     "text": [
      "Residual Plot\n"
     ]
    },
    {
     "data": {
      "image/png": "[encoded data removed]",
      "text/plain": [
       "<Figure size 576x432 with 1 Axes>"
      ]
     },
     "metadata": {
      "needs_background": "light"
     },
     "output_type": "display_data"
    },
    {
     "name": "stdout",
     "output_type": "stream",
     "text": [
      "[[623 284]\n",
      " [226 639]]\n",
      "KNeighborsClassifier\n",
      "[0 1]\n",
      "              precision    recall  f1-score   support\n",
      "\n",
      "           0       0.63      0.78      0.70       907\n",
      "           1       0.69      0.53      0.60       865\n",
      "\n",
      "    accuracy                           0.65      1772\n",
      "   macro avg       0.66      0.65      0.65      1772\n",
      "weighted avg       0.66      0.65      0.65      1772\n",
      "\n",
      "Confusion Matrix\n",
      "[[703 204]\n",
      " [408 457]]\n",
      "Calibration Curve\n"
     ]
    },
    {
     "data": {
      "image/png": "[encoded data removed]",
      "text/plain": [
       "<Figure size 432x288 with 1 Axes>"
      ]
     },
     "metadata": {
      "needs_background": "light"
     },
     "output_type": "display_data"
    },
    {
     "name": "stdout",
     "output_type": "stream",
     "text": [
      "Residual Plot\n"
     ]
    },
    {
     "data": {
      "image/png": "[encoded data removed]",
      "text/plain": [
       "<Figure size 576x432 with 1 Axes>"
      ]
     },
     "metadata": {
      "needs_background": "light"
     },
     "output_type": "display_data"
    },
    {
     "name": "stdout",
     "output_type": "stream",
     "text": [
      "[[703 204]\n",
      " [408 457]]\n",
      "svm_linear.SVC\n",
      "[0 1]\n",
      "              precision    recall  f1-score   support\n",
      "\n",
      "           0       0.72      0.73      0.72       907\n",
      "           1       0.71      0.71      0.71       865\n",
      "\n",
      "    accuracy                           0.72      1772\n",
      "   macro avg       0.72      0.72      0.72      1772\n",
      "weighted avg       0.72      0.72      0.72      1772\n",
      "\n",
      "Confusion Matrix\n",
      "[[658 249]\n",
      " [253 612]]\n",
      "Calibration Curve\n"
     ]
    },
    {
     "data": {
      "image/png": "[encoded data removed]",
      "text/plain": [
       "<Figure size 432x288 with 1 Axes>"
      ]
     },
     "metadata": {
      "needs_background": "light"
     },
     "output_type": "display_data"
    },
    {
     "name": "stdout",
     "output_type": "stream",
     "text": [
      "Residual Plot\n"
     ]
    },
    {
     "data": {
      "image/png": "[encoded data removed]",
      "text/plain": [
       "<Figure size 576x432 with 1 Axes>"
      ]
     },
     "metadata": {
      "needs_background": "light"
     },
     "output_type": "display_data"
    },
    {
     "name": "stdout",
     "output_type": "stream",
     "text": [
      "[[658 249]\n",
      " [253 612]]\n"
     ]
    }
   ],
   "source": [
    "offval,offmdl,mdl = classifier(X_off,y_off,42)"
   ]
  },
  {
   "cell_type": "code",
   "execution_count": 61,
   "id": "cab6e66e",
   "metadata": {},
   "outputs": [
    {
     "data": {
      "text/html": [
       "<div>\n",
       "<style scoped>\n",
       "    .dataframe tbody tr th:only-of-type {\n",
       "        vertical-align: middle;\n",
       "    }\n",
       "\n",
       "    .dataframe tbody tr th {\n",
       "        vertical-align: top;\n",
       "    }\n",
       "\n",
       "    .dataframe thead th {\n",
       "        text-align: right;\n",
       "    }\n",
       "</style>\n",
       "<table border=\"1\" class=\"dataframe\">\n",
       "  <thead>\n",
       "    <tr style=\"text-align: right;\">\n",
       "      <th></th>\n",
       "      <th>Model</th>\n",
       "      <th>CV Accuracy</th>\n",
       "      <th>CV MPCA</th>\n",
       "      <th>CV F1_weighted</th>\n",
       "    </tr>\n",
       "  </thead>\n",
       "  <tbody>\n",
       "    <tr>\n",
       "      <th>0</th>\n",
       "      <td>DecisionTreeClassifier</td>\n",
       "      <td>0.709603</td>\n",
       "      <td>0.709610</td>\n",
       "      <td>0.709318</td>\n",
       "    </tr>\n",
       "    <tr>\n",
       "      <th>1</th>\n",
       "      <td>RandomForestClassifier</td>\n",
       "      <td>0.684066</td>\n",
       "      <td>0.684067</td>\n",
       "      <td>0.683966</td>\n",
       "    </tr>\n",
       "    <tr>\n",
       "      <th>2</th>\n",
       "      <td>svm.SVC</td>\n",
       "      <td>0.710543</td>\n",
       "      <td>0.710544</td>\n",
       "      <td>0.710186</td>\n",
       "    </tr>\n",
       "    <tr>\n",
       "      <th>3</th>\n",
       "      <td>KNeighborsClassifier</td>\n",
       "      <td>0.643387</td>\n",
       "      <td>0.643383</td>\n",
       "      <td>0.637841</td>\n",
       "    </tr>\n",
       "    <tr>\n",
       "      <th>4</th>\n",
       "      <td>svm_linear.SVC</td>\n",
       "      <td>0.711813</td>\n",
       "      <td>0.711814</td>\n",
       "      <td>0.711739</td>\n",
       "    </tr>\n",
       "  </tbody>\n",
       "</table>\n",
       "</div>"
      ],
      "text/plain": [
       "                    Model  CV Accuracy   CV MPCA  CV F1_weighted\n",
       "0  DecisionTreeClassifier     0.709603  0.709610        0.709318\n",
       "1  RandomForestClassifier     0.684066  0.684067        0.683966\n",
       "2                 svm.SVC     0.710543  0.710544        0.710186\n",
       "3    KNeighborsClassifier     0.643387  0.643383        0.637841\n",
       "4          svm_linear.SVC     0.711813  0.711814        0.711739"
      ]
     },
     "execution_count": 61,
     "metadata": {},
     "output_type": "execute_result"
    }
   ],
   "source": [
    "offval"
   ]
  },
  {
   "cell_type": "code",
   "execution_count": 62,
   "id": "6f2d1c11",
   "metadata": {},
   "outputs": [
    {
     "data": {
      "text/html": [
       "<div>\n",
       "<style scoped>\n",
       "    .dataframe tbody tr th:only-of-type {\n",
       "        vertical-align: middle;\n",
       "    }\n",
       "\n",
       "    .dataframe tbody tr th {\n",
       "        vertical-align: top;\n",
       "    }\n",
       "\n",
       "    .dataframe thead th {\n",
       "        text-align: right;\n",
       "    }\n",
       "</style>\n",
       "<table border=\"1\" class=\"dataframe\">\n",
       "  <thead>\n",
       "    <tr style=\"text-align: right;\">\n",
       "      <th></th>\n",
       "      <th>Model</th>\n",
       "      <th>Accuracy</th>\n",
       "      <th>MPCA</th>\n",
       "      <th>F1_weighted</th>\n",
       "      <th>Misclassification_Cost</th>\n",
       "      <th>unique predictions</th>\n",
       "    </tr>\n",
       "  </thead>\n",
       "  <tbody>\n",
       "    <tr>\n",
       "      <th>0</th>\n",
       "      <td>DecisionTreeClassifier</td>\n",
       "      <td>0.712754</td>\n",
       "      <td>0.711535</td>\n",
       "      <td>0.711875</td>\n",
       "      <td>0.287246</td>\n",
       "      <td>[0, 1]</td>\n",
       "    </tr>\n",
       "    <tr>\n",
       "      <th>1</th>\n",
       "      <td>RandomForestClassifier</td>\n",
       "      <td>0.677201</td>\n",
       "      <td>0.677314</td>\n",
       "      <td>0.677246</td>\n",
       "      <td>0.322799</td>\n",
       "      <td>[0, 1]</td>\n",
       "    </tr>\n",
       "    <tr>\n",
       "      <th>2</th>\n",
       "      <td>svm.SVC</td>\n",
       "      <td>0.712190</td>\n",
       "      <td>0.712804</td>\n",
       "      <td>0.712105</td>\n",
       "      <td>0.287810</td>\n",
       "      <td>[0, 1]</td>\n",
       "    </tr>\n",
       "    <tr>\n",
       "      <th>3</th>\n",
       "      <td>KNeighborsClassifier</td>\n",
       "      <td>0.654628</td>\n",
       "      <td>0.651703</td>\n",
       "      <td>0.648999</td>\n",
       "      <td>0.345372</td>\n",
       "      <td>[0, 1]</td>\n",
       "    </tr>\n",
       "    <tr>\n",
       "      <th>4</th>\n",
       "      <td>svm_linear.SVC</td>\n",
       "      <td>0.716704</td>\n",
       "      <td>0.716492</td>\n",
       "      <td>0.716688</td>\n",
       "      <td>0.283296</td>\n",
       "      <td>[0, 1]</td>\n",
       "    </tr>\n",
       "  </tbody>\n",
       "</table>\n",
       "</div>"
      ],
      "text/plain": [
       "                    Model  Accuracy      MPCA  F1_weighted  \\\n",
       "0  DecisionTreeClassifier  0.712754  0.711535     0.711875   \n",
       "1  RandomForestClassifier  0.677201  0.677314     0.677246   \n",
       "2                 svm.SVC  0.712190  0.712804     0.712105   \n",
       "3    KNeighborsClassifier  0.654628  0.651703     0.648999   \n",
       "4          svm_linear.SVC  0.716704  0.716492     0.716688   \n",
       "\n",
       "   Misclassification_Cost unique predictions  \n",
       "0                0.287246             [0, 1]  \n",
       "1                0.322799             [0, 1]  \n",
       "2                0.287810             [0, 1]  \n",
       "3                0.345372             [0, 1]  \n",
       "4                0.283296             [0, 1]  "
      ]
     },
     "execution_count": 62,
     "metadata": {},
     "output_type": "execute_result"
    }
   ],
   "source": [
    "offmdl"
   ]
  },
  {
   "cell_type": "code",
   "execution_count": 63,
   "id": "26c84eb5",
   "metadata": {},
   "outputs": [],
   "source": [
    "# train and save the best performing model (althought the combined model was the best, I will use the offensive stats model since it requires fewer inputs to make a prediction and this will make for a more user-friendly UI)\n",
    "best_model = svm.SVC(kernel=\"linear\",probability=True).fit(X_off, y_off) "
   ]
  },
  {
   "cell_type": "code",
   "execution_count": 64,
   "id": "7f134a67",
   "metadata": {},
   "outputs": [],
   "source": [
    "prediction = best_model.predict_proba(np.array(X_off.iloc[2,:]).reshape(-1,6))"
   ]
  },
  {
   "cell_type": "code",
   "execution_count": 65,
   "id": "34a8557f",
   "metadata": {},
   "outputs": [
    {
     "data": {
      "text/plain": [
       "array([0, 1], dtype=int64)"
      ]
     },
     "execution_count": 65,
     "metadata": {},
     "output_type": "execute_result"
    }
   ],
   "source": [
    "best_model.classes_"
   ]
  },
  {
   "cell_type": "code",
   "execution_count": 66,
   "id": "a7cbb2d5",
   "metadata": {},
   "outputs": [
    {
     "data": {
      "text/plain": [
       "75.0"
      ]
     },
     "execution_count": 66,
     "metadata": {},
     "output_type": "execute_result"
    }
   ],
   "source": [
    "np.round(prediction[0][1]*100)"
   ]
  },
  {
   "cell_type": "markdown",
   "id": "c8cac370",
   "metadata": {},
   "source": [
    "# Save Model"
   ]
  },
  {
   "cell_type": "code",
   "execution_count": 83,
   "id": "ec8e6693",
   "metadata": {},
   "outputs": [
    {
     "data": {
      "text/plain": [
       "['offensive_stats_model.pkl']"
      ]
     },
     "execution_count": 83,
     "metadata": {},
     "output_type": "execute_result"
    }
   ],
   "source": [
    "import joblib\n",
    "\n",
    "joblib.dump(best_model,'offensive_stats_model.pkl')"
   ]
  },
  {
   "cell_type": "markdown",
   "id": "065f2cfa",
   "metadata": {},
   "source": [
    "# Supplemental Code"
   ]
  },
  {
   "cell_type": "code",
   "execution_count": 141,
   "id": "67fdfbac",
   "metadata": {},
   "outputs": [
    {
     "name": "stdout",
     "output_type": "stream",
     "text": [
      "Counter({0: 2692, 1: 2624})\n",
      "Counter({1: 920, 0: 852})\n",
      "Accuracy on test set: 0.6360045146726863\n",
      "              precision    recall  f1-score   support\n",
      "\n",
      "           0       0.65      0.54      0.59       852\n",
      "           1       0.63      0.73      0.67       920\n",
      "\n",
      "    accuracy                           0.64      1772\n",
      "   macro avg       0.64      0.63      0.63      1772\n",
      "weighted avg       0.64      0.64      0.63      1772\n",
      "\n",
      "Counter({0: 2692, 1: 2624})\n",
      "Counter({1: 920, 0: 852})\n",
      "Accuracy on test set: 0.6783295711060948\n",
      "              precision    recall  f1-score   support\n",
      "\n",
      "           0       0.68      0.62      0.65       852\n",
      "           1       0.68      0.73      0.70       920\n",
      "\n",
      "    accuracy                           0.68      1772\n",
      "   macro avg       0.68      0.68      0.68      1772\n",
      "weighted avg       0.68      0.68      0.68      1772\n",
      "\n",
      "Counter({0: 2692, 1: 2624})\n",
      "Counter({1: 920, 0: 852})\n",
      "Accuracy on test set: 0.79627539503386\n",
      "              precision    recall  f1-score   support\n",
      "\n",
      "           0       0.75      0.86      0.80       852\n",
      "           1       0.85      0.74      0.79       920\n",
      "\n",
      "    accuracy                           0.80      1772\n",
      "   macro avg       0.80      0.80      0.80      1772\n",
      "weighted avg       0.80      0.80      0.80      1772\n",
      "\n"
     ]
    }
   ],
   "source": [
    "'''\n",
    "for df in scaled_df_lst:\n",
    "    \n",
    "\n",
    "    #define predictor and response variables\n",
    "    X = df.drop(columns= ['outcome'],axis=1) #predictors\n",
    "    y = df['outcome']              #response\n",
    "\n",
    "    # convert class label column to int type\n",
    "    y = y.astype(np.int_)\n",
    "\n",
    "    from sklearn.model_selection import train_test_split as tts\n",
    "\n",
    "    X_train, X_test, y_train, y_test = tts(X,y,random_state=3) \n",
    "\n",
    "    from collections import Counter\n",
    "\n",
    "    train_count = Counter(y_train)\n",
    "    test_count = Counter(y_test)\n",
    "\n",
    "    print(train_count)\n",
    "    print(test_count)\n",
    "\n",
    "\n",
    "    #define model\n",
    "    svc = SVC(kernel='rbf')\n",
    "\n",
    "    model = svc.fit(X_train, y_train)\n",
    "\n",
    "    y_pred = model.predict(X_test)\n",
    "    accuracy = accuracy_score(y_test, y_pred)\n",
    "\n",
    "    print(f\"Accuracy on test set: {accuracy}\")\n",
    "\n",
    "    from sklearn.metrics import classification_report\n",
    "\n",
    "    #Precision, recall, f1-score and support\n",
    "    print(classification_report(y_test, y_pred))\n",
    "'''"
   ]
  },
  {
   "cell_type": "code",
   "execution_count": 33,
   "id": "19828514",
   "metadata": {
    "scrolled": true
   },
   "outputs": [
    {
     "name": "stdout",
     "output_type": "stream",
     "text": [
      "#NAME?\n",
      "game_id                                     201912260SAC\n",
      "game_date                            2019-12-26 00:00:00\n",
      "OT                                                     2\n",
      "H_A                                                    H\n",
      "Team_Abbrev                                          SAC\n",
      "Team_Score                                           104\n",
      "Team_pace                                           92.7\n",
      "Team_efg_pct                                       0.388\n",
      "Team_tov_pct                                         9.2\n",
      "Team_orb_pct                                        23.9\n",
      "Team_ft_rate                                       0.196\n",
      "Team_off_rtg                                        92.8\n",
      "Opponent_Abbrev                                      MIN\n",
      "Opponent_Score                                       105\n",
      "Opponent_pace                                       92.7\n",
      "Opponent_efg_pct                                   0.394\n",
      "Opponent_tov_pct                                    10.0\n",
      "Opponent_orb_pct                                    21.5\n",
      "Opponent_ft_rate                                   0.221\n",
      "Opponent_off_rtg                                    93.7\n",
      "player                                      Justin James\n",
      "player_id                                      jamesju01\n",
      "starter                                                0\n",
      "mp                                                  0:00\n",
      "fg                                                     0\n",
      "fga                                                    0\n",
      "fg_pct                                               0.0\n",
      "fg3                                                    0\n",
      "fg3a                                                   0\n",
      "fg3_pct                                              0.0\n",
      "ft                                                     0\n",
      "fta                                                    0\n",
      "ft_pct                                               0.0\n",
      "orb                                                    0\n",
      "drb                                                    0\n",
      "trb                                                    0\n",
      "ast                                                    0\n",
      "stl                                                    0\n",
      "blk                                                    0\n",
      "tov                                                    1\n",
      "pf                                                     0\n",
      "pts                                                    0\n",
      "plus_minus                                             0\n",
      "did_not_play                                           0\n",
      "is_inactive                                            0\n",
      "ts_pct                                               0.0\n",
      "efg_pct                                              0.0\n",
      "fg3a_per_fga_pct                                     0.0\n",
      "fta_per_fga_pct                                      0.0\n",
      "orb_pct                                              0.0\n",
      "drb_pct                                              0.0\n",
      "trb_pct                                              0.0\n",
      "ast_pct                                              0.0\n",
      "stl_pct                                              0.0\n",
      "blk_pct                                              0.0\n",
      "tov_pct                                            100.0\n",
      "usg_pct                                              0.0\n",
      "off_rtg                                                0\n",
      "def_rtg                                                0\n",
      "bpm                                                 -8.9\n",
      "season                                              2020\n",
      "minutes                                              0.0\n",
      "double_double                                          0\n",
      "triple_double                                          0\n",
      "DKP                                                 -0.5\n",
      "FDP                                                 -1.0\n",
      "SDP                                                 -1.0\n",
      "DKP_per_minute                                    #NAME?\n",
      "FDP_per_minute                                    #NAME?\n",
      "SDP_per_minute                                    #NAME?\n",
      "pf_per_minute                                        NaN\n",
      "ts                                                   0.0\n",
      "last_60_minutes_per_game_starting               10.38033\n",
      "last_60_minutes_per_game_bench                  6.029487\n",
      "PG%                                                  0.0\n",
      "SG%                                                 19.0\n",
      "SF%                                                 70.0\n",
      "PF%                                                 10.0\n",
      "C%                                                   1.0\n",
      "active_position_minutes                        57.047569\n",
      "duplicate                                          False\n",
      "outcome                                                0\n",
      "no_inactives                                           4\n",
      "min_played                                             0\n",
      "Name: 105768, dtype: object\n",
      "could not convert string to float: '#NAME?'\n"
     ]
    }
   ],
   "source": [
    "'''\n",
    "#Find what error value is in the 'DKP_per_minute' field\n",
    "for i in range(0,df_full.shape[0]):\n",
    "    try:\n",
    "        float(df_full['DKP_per_minute'][i])      \n",
    "    except ValueError as e:\n",
    "        print(df_full['DKP_per_minute'][i])\n",
    "        print(df_full.iloc[i])\n",
    "        print(e)\n",
    "        \n",
    "'''"
   ]
  }
 ],
 "metadata": {
  "kernelspec": {
   "display_name": "Python 3",
   "language": "python",
   "name": "python3"
  },
  "language_info": {
   "codemirror_mode": {
    "name": "ipython",
    "version": 3
   },
   "file_extension": ".py",
   "mimetype": "text/x-python",
   "name": "python",
   "nbconvert_exporter": "python",
   "pygments_lexer": "ipython3",
   "version": "3.6.12"
  }
 },
 "nbformat": 4,
 "nbformat_minor": 5
}
