{
 "cells": [
  {
   "cell_type": "code",
   "execution_count": 5,
   "id": "d103ed5b",
   "metadata": {},
   "outputs": [],
   "source": [
    "import joblib\n",
    "import numpy as np\n",
    "from sklearn.preprocessing import MinMaxScaler"
   ]
  },
  {
   "cell_type": "code",
   "execution_count": 6,
   "id": "0c2d6e1f",
   "metadata": {},
   "outputs": [],
   "source": [
    "# Load the trained model\n",
    "model = joblib.load('offensive_stats_model.pkl')\n",
    "\n",
    "# Normalize quantitative fields using Min-Max scaling\n",
    "scaler = MinMaxScaler()"
   ]
  },
  {
   "cell_type": "code",
   "execution_count": 85,
   "id": "6f2a986c",
   "metadata": {},
   "outputs": [],
   "source": [
    "stats = np.round(scaler.fit_transform(np.array([5,22,3,1,2,0]).reshape(-1, 1)).reshape(1, 6), 3)"
   ]
  },
  {
   "cell_type": "code",
   "execution_count": 86,
   "id": "b4f54160",
   "metadata": {},
   "outputs": [
    {
     "data": {
      "text/plain": [
       "array([[0.227, 1.   , 0.136, 0.045, 0.091, 0.   ]])"
      ]
     },
     "execution_count": 86,
     "metadata": {},
     "output_type": "execute_result"
    }
   ],
   "source": [
    "stats"
   ]
  },
  {
   "cell_type": "code",
   "execution_count": 87,
   "id": "4cced64c",
   "metadata": {},
   "outputs": [
    {
     "data": {
      "text/plain": [
       "array([1.])"
      ]
     },
     "execution_count": 87,
     "metadata": {},
     "output_type": "execute_result"
    }
   ],
   "source": [
    "model.predict(stats)"
   ]
  },
  {
   "cell_type": "code",
   "execution_count": null,
   "id": "0008dbfc",
   "metadata": {},
   "outputs": [],
   "source": []
  }
 ],
 "metadata": {
  "kernelspec": {
   "display_name": "Python 3",
   "language": "python",
   "name": "python3"
  },
  "language_info": {
   "codemirror_mode": {
    "name": "ipython",
    "version": 3
   },
   "file_extension": ".py",
   "mimetype": "text/x-python",
   "name": "python",
   "nbconvert_exporter": "python",
   "pygments_lexer": "ipython3",
   "version": "3.6.12"
  }
 },
 "nbformat": 4,
 "nbformat_minor": 5
}
