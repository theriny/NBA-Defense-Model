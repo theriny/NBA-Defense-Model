{
 "cells": [
  {
   "cell_type": "code",
   "execution_count": 55,
   "id": "3a87b52f",
   "metadata": {},
   "outputs": [],
   "source": [
    "import pandas as pd\n",
    "import numpy as np"
   ]
  },
  {
   "cell_type": "code",
   "execution_count": 68,
   "id": "b15881b0",
   "metadata": {},
   "outputs": [],
   "source": [
    "df = pd.read_excel('nba_player_stats.xlsx')"
   ]
  },
  {
   "cell_type": "code",
   "execution_count": 77,
   "id": "97ffa13f",
   "metadata": {},
   "outputs": [
    {
     "data": {
      "text/plain": [
       "array([2020, 2021, 2022], dtype=int64)"
      ]
     },
     "execution_count": 77,
     "metadata": {},
     "output_type": "execute_result"
    }
   ],
   "source": [
    "df['season'].unique()"
   ]
  },
  {
   "cell_type": "code",
   "execution_count": 81,
   "id": "bafeebb9",
   "metadata": {},
   "outputs": [
    {
     "data": {
      "image/png": "[encoded data removed]",
      "text/plain": [
       "<Figure size 720x360 with 2 Axes>"
      ]
     },
     "metadata": {
      "needs_background": "light"
     },
     "output_type": "display_data"
    }
   ],
   "source": [
    "# Sample DataFrame\n",
    "# Assuming df is your DataFrame\n",
    "# For this example, I'll create a sample DataFrame\n",
    "import pandas as pd\n",
    "\n",
    "\n",
    "# Create subplots\n",
    "fig, (ax1, ax2) = plt.subplots(1, 2, figsize=(10, 5))\n",
    "\n",
    "# Plot the first boxplot\n",
    "sns.boxplot(data=df['sumfg'], ax=ax1)\n",
    "\n",
    "# Add annotations for the first boxplot\n",
    "median = np.median(df['sumfg'])\n",
    "ax1.text(0.5, median, f'Median: {median:.2f}', fontsize=10, color='red', ha='center')\n",
    "quartiles = np.percentile(df['sumfg'], [25, 75])\n",
    "ax1.text(0.5, quartiles[0], f'Q1: {quartiles[0]:.2f}', fontsize=10, color='blue', ha='center')\n",
    "ax1.text(0.5, quartiles[1], f'Q3: {quartiles[1]:.2f}', fontsize=10, color='blue', ha='center')\n",
    "whiskers = ax1.lines[:2]\n",
    "for whisker in whiskers:\n",
    "    ax1.text(0.5, whisker.get_ydata()[1], f'Whisker: {whisker.get_ydata()[1]:.2f}', fontsize=10, color='green', ha='center')\n",
    "ax1.set_title('Box Plot with Median, Quartiles, and Whiskers')\n",
    "ax1.set_xlabel('Total Player FG')\n",
    "ax1.set_ylabel('Values')\n",
    "\n",
    "# Plot the second boxplot\n",
    "# For demonstration purposes, I'm using the same data for the second boxplot\n",
    "sns.boxplot(data=df['sumfg3'], ax=ax2)\n",
    "\n",
    "# Add annotations for the second boxplot\n",
    "median = np.median(df['sumfg3'])\n",
    "ax2.text(0.5, median, f'Median: {median:.2f}', fontsize=10, color='red', ha='center')\n",
    "quartiles = np.percentile(df['sumfg3'], [25, 75])\n",
    "ax2.text(0.5, quartiles[0], f'Q1: {quartiles[0]:.2f}', fontsize=10, color='blue', ha='center')\n",
    "ax2.text(0.5, quartiles[1], f'Q3: {quartiles[1]:.2f}', fontsize=10, color='blue', ha='center')\n",
    "whiskers = ax2.lines[:2]\n",
    "for whisker in whiskers:\n",
    "    ax2.text(0.5, whisker.get_ydata()[1], f'Whisker: {whisker.get_ydata()[1]:.2f}', fontsize=10, color='green', ha='center')\n",
    "ax2.set_title('Box Plot with Median, Quartiles, and Whiskers')\n",
    "ax2.set_xlabel('Total Player 3PFG')\n",
    "ax2.set_ylabel('Values')\n",
    "\n",
    "plt.tight_layout()  # Adjust layout to prevent overlap\n",
    "plt.show()"
   ]
  },
  {
   "cell_type": "markdown",
   "id": "3b6d3c53",
   "metadata": {},
   "source": [
    "* The highest average points is 8.88 (excluding outliers), and the lowest is 0.\n",
    "* Half the average player field goal points are greater than or equal to 2.06 points and half are less than 2.06 points.\n",
    "* 25% of the average player field goal points fall below 0.72 points.\n",
    "* 75% of the average player field goal points fall below 4.01, and 25% of the average player FG is greater 4.01 points."
   ]
  },
  {
   "cell_type": "code",
   "execution_count": 79,
   "id": "0e33a8d2",
   "metadata": {},
   "outputs": [
    {
     "data": {
      "text/plain": [
       "2.0606310768666294"
      ]
     },
     "execution_count": 79,
     "metadata": {},
     "output_type": "execute_result"
    }
   ],
   "source": [
    "median = np.median(df['avgfg'])\n",
    "median"
   ]
  },
  {
   "cell_type": "code",
   "execution_count": 76,
   "id": "fe6fed02",
   "metadata": {},
   "outputs": [
    {
     "data": {
      "text/plain": [
       "0.2502532928064843"
      ]
     },
     "execution_count": 76,
     "metadata": {},
     "output_type": "execute_result"
    }
   ],
   "source": [
    "df[df['avgfg'] <= 0.72].shape[0]/df.shape[0]"
   ]
  },
  {
   "cell_type": "code",
   "execution_count": 80,
   "id": "4f4db6d7",
   "metadata": {},
   "outputs": [
    {
     "data": {
      "text/html": [
       "<div>\n",
       "<style scoped>\n",
       "    .dataframe tbody tr th:only-of-type {\n",
       "        vertical-align: middle;\n",
       "    }\n",
       "\n",
       "    .dataframe tbody tr th {\n",
       "        vertical-align: top;\n",
       "    }\n",
       "\n",
       "    .dataframe thead th {\n",
       "        text-align: right;\n",
       "    }\n",
       "</style>\n",
       "<table border=\"1\" class=\"dataframe\">\n",
       "  <thead>\n",
       "    <tr style=\"text-align: right;\">\n",
       "      <th></th>\n",
       "      <th>season</th>\n",
       "      <th>player</th>\n",
       "      <th>Team_Abbrev</th>\n",
       "      <th>sumfg</th>\n",
       "      <th>sumfg3</th>\n",
       "      <th>sumft</th>\n",
       "      <th>sumorb</th>\n",
       "      <th>sumast</th>\n",
       "      <th>sumpts</th>\n",
       "      <th>sumdrb</th>\n",
       "      <th>...</th>\n",
       "      <th>sumblk</th>\n",
       "      <th>avgfg</th>\n",
       "      <th>avgfg3</th>\n",
       "      <th>avgft</th>\n",
       "      <th>avgorb</th>\n",
       "      <th>avgast</th>\n",
       "      <th>avgpts</th>\n",
       "      <th>avgdrb</th>\n",
       "      <th>avgstl</th>\n",
       "      <th>avgblk</th>\n",
       "    </tr>\n",
       "  </thead>\n",
       "  <tbody>\n",
       "    <tr>\n",
       "      <th>0</th>\n",
       "      <td>2020</td>\n",
       "      <td>Aaron Gordon</td>\n",
       "      <td>ORL</td>\n",
       "      <td>335</td>\n",
       "      <td>73</td>\n",
       "      <td>151</td>\n",
       "      <td>107</td>\n",
       "      <td>228</td>\n",
       "      <td>894</td>\n",
       "      <td>368</td>\n",
       "      <td>...</td>\n",
       "      <td>39</td>\n",
       "      <td>5.403226</td>\n",
       "      <td>1.177419</td>\n",
       "      <td>2.435484</td>\n",
       "      <td>1.725806</td>\n",
       "      <td>3.677419</td>\n",
       "      <td>14.419355</td>\n",
       "      <td>5.935484</td>\n",
       "      <td>0.822581</td>\n",
       "      <td>0.629032</td>\n",
       "    </tr>\n",
       "    <tr>\n",
       "      <th>1</th>\n",
       "      <td>2020</td>\n",
       "      <td>Aaron Holiday</td>\n",
       "      <td>IND</td>\n",
       "      <td>245</td>\n",
       "      <td>91</td>\n",
       "      <td>77</td>\n",
       "      <td>23</td>\n",
       "      <td>235</td>\n",
       "      <td>658</td>\n",
       "      <td>138</td>\n",
       "      <td>...</td>\n",
       "      <td>16</td>\n",
       "      <td>3.181818</td>\n",
       "      <td>1.181818</td>\n",
       "      <td>1.000000</td>\n",
       "      <td>0.298701</td>\n",
       "      <td>3.051948</td>\n",
       "      <td>8.545455</td>\n",
       "      <td>1.792208</td>\n",
       "      <td>0.766234</td>\n",
       "      <td>0.207792</td>\n",
       "    </tr>\n",
       "    <tr>\n",
       "      <th>2</th>\n",
       "      <td>2020</td>\n",
       "      <td>Abdel Nader</td>\n",
       "      <td>OKC</td>\n",
       "      <td>248</td>\n",
       "      <td>98</td>\n",
       "      <td>104</td>\n",
       "      <td>30</td>\n",
       "      <td>76</td>\n",
       "      <td>698</td>\n",
       "      <td>176</td>\n",
       "      <td>...</td>\n",
       "      <td>44</td>\n",
       "      <td>1.746479</td>\n",
       "      <td>0.690141</td>\n",
       "      <td>0.732394</td>\n",
       "      <td>0.211268</td>\n",
       "      <td>0.535211</td>\n",
       "      <td>4.915493</td>\n",
       "      <td>1.239437</td>\n",
       "      <td>0.338028</td>\n",
       "      <td>0.309859</td>\n",
       "    </tr>\n",
       "    <tr>\n",
       "      <th>3</th>\n",
       "      <td>2020</td>\n",
       "      <td>Adam Mokoka</td>\n",
       "      <td>CHI</td>\n",
       "      <td>12</td>\n",
       "      <td>6</td>\n",
       "      <td>2</td>\n",
       "      <td>7</td>\n",
       "      <td>4</td>\n",
       "      <td>32</td>\n",
       "      <td>3</td>\n",
       "      <td>...</td>\n",
       "      <td>0</td>\n",
       "      <td>0.666667</td>\n",
       "      <td>0.333333</td>\n",
       "      <td>0.111111</td>\n",
       "      <td>0.388889</td>\n",
       "      <td>0.222222</td>\n",
       "      <td>1.777778</td>\n",
       "      <td>0.166667</td>\n",
       "      <td>0.222222</td>\n",
       "      <td>0.000000</td>\n",
       "    </tr>\n",
       "    <tr>\n",
       "      <th>4</th>\n",
       "      <td>2020</td>\n",
       "      <td>Admiral Schofield</td>\n",
       "      <td>WAS</td>\n",
       "      <td>35</td>\n",
       "      <td>19</td>\n",
       "      <td>10</td>\n",
       "      <td>7</td>\n",
       "      <td>15</td>\n",
       "      <td>99</td>\n",
       "      <td>40</td>\n",
       "      <td>...</td>\n",
       "      <td>4</td>\n",
       "      <td>0.795455</td>\n",
       "      <td>0.431818</td>\n",
       "      <td>0.227273</td>\n",
       "      <td>0.159091</td>\n",
       "      <td>0.340909</td>\n",
       "      <td>2.250000</td>\n",
       "      <td>0.909091</td>\n",
       "      <td>0.181818</td>\n",
       "      <td>0.090909</td>\n",
       "    </tr>\n",
       "  </tbody>\n",
       "</table>\n",
       "<p>5 rows × 21 columns</p>\n",
       "</div>"
      ],
      "text/plain": [
       "   season             player Team_Abbrev  sumfg  sumfg3  sumft  sumorb  \\\n",
       "0    2020       Aaron Gordon         ORL    335      73    151     107   \n",
       "1    2020      Aaron Holiday         IND    245      91     77      23   \n",
       "2    2020        Abdel Nader         OKC    248      98    104      30   \n",
       "3    2020        Adam Mokoka         CHI     12       6      2       7   \n",
       "4    2020  Admiral Schofield         WAS     35      19     10       7   \n",
       "\n",
       "   sumast  sumpts  sumdrb  ...  sumblk     avgfg    avgfg3     avgft  \\\n",
       "0     228     894     368  ...      39  5.403226  1.177419  2.435484   \n",
       "1     235     658     138  ...      16  3.181818  1.181818  1.000000   \n",
       "2      76     698     176  ...      44  1.746479  0.690141  0.732394   \n",
       "3       4      32       3  ...       0  0.666667  0.333333  0.111111   \n",
       "4      15      99      40  ...       4  0.795455  0.431818  0.227273   \n",
       "\n",
       "     avgorb    avgast     avgpts    avgdrb    avgstl    avgblk  \n",
       "0  1.725806  3.677419  14.419355  5.935484  0.822581  0.629032  \n",
       "1  0.298701  3.051948   8.545455  1.792208  0.766234  0.207792  \n",
       "2  0.211268  0.535211   4.915493  1.239437  0.338028  0.309859  \n",
       "3  0.388889  0.222222   1.777778  0.166667  0.222222  0.000000  \n",
       "4  0.159091  0.340909   2.250000  0.909091  0.181818  0.090909  \n",
       "\n",
       "[5 rows x 21 columns]"
      ]
     },
     "execution_count": 80,
     "metadata": {},
     "output_type": "execute_result"
    }
   ],
   "source": [
    "df.head()"
   ]
  },
  {
   "cell_type": "code",
   "execution_count": 117,
   "id": "94d70d68",
   "metadata": {},
   "outputs": [
    {
     "data": {
      "image/png": "[encoded data removed]",
      "text/plain": [
       "<Figure size 432x288 with 1 Axes>"
      ]
     },
     "metadata": {
      "needs_background": "light"
     },
     "output_type": "display_data"
    }
   ],
   "source": [
    "# Assuming 'data' is your DataFrame and 'column_name' is the column you want to check\n",
    "sns.boxplot(data=df, x='avgstl')\n",
    "plt.title('Box Plot of Data Distribution')\n",
    "plt.xlabel('Column')\n",
    "plt.show()"
   ]
  },
  {
   "cell_type": "code",
   "execution_count": 33,
   "id": "88b64fb1",
   "metadata": {},
   "outputs": [],
   "source": [
    "from sklearn.ensemble import IsolationForest"
   ]
  },
  {
   "cell_type": "code",
   "execution_count": 118,
   "id": "06d547b0",
   "metadata": {},
   "outputs": [],
   "source": [
    "points = df['avgstl'].values.reshape(1,-1)"
   ]
  },
  {
   "cell_type": "code",
   "execution_count": 157,
   "id": "7a1dd2cb",
   "metadata": {},
   "outputs": [],
   "source": [
    "model = IsolationForest(contamination = 0.1)"
   ]
  },
  {
   "cell_type": "code",
   "execution_count": 158,
   "id": "850b77a7",
   "metadata": {},
   "outputs": [
    {
     "data": {
      "text/html": [
       "<style>#sk-container-id-34 {color: black;}#sk-container-id-34 pre{padding: 0;}#sk-container-id-34 div.sk-toggleable {background-color: white;}#sk-container-id-34 label.sk-toggleable__label {cursor: pointer;display: block;width: 100%;margin-bottom: 0;padding: 0.3em;box-sizing: border-box;text-align: center;}#sk-container-id-34 label.sk-toggleable__label-arrow:before {content: \"▸\";float: left;margin-right: 0.25em;color: #696969;}#sk-container-id-34 label.sk-toggleable__label-arrow:hover:before {color: black;}#sk-container-id-34 div.sk-estimator:hover label.sk-toggleable__label-arrow:before {color: black;}#sk-container-id-34 div.sk-toggleable__content {max-height: 0;max-width: 0;overflow: hidden;text-align: left;background-color: #f0f8ff;}#sk-container-id-34 div.sk-toggleable__content pre {margin: 0.2em;color: black;border-radius: 0.25em;background-color: #f0f8ff;}#sk-container-id-34 input.sk-toggleable__control:checked~div.sk-toggleable__content {max-height: 200px;max-width: 100%;overflow: auto;}#sk-container-id-34 input.sk-toggleable__control:checked~label.sk-toggleable__label-arrow:before {content: \"▾\";}#sk-container-id-34 div.sk-estimator input.sk-toggleable__control:checked~label.sk-toggleable__label {background-color: #d4ebff;}#sk-container-id-34 div.sk-label input.sk-toggleable__control:checked~label.sk-toggleable__label {background-color: #d4ebff;}#sk-container-id-34 input.sk-hidden--visually {border: 0;clip: rect(1px 1px 1px 1px);clip: rect(1px, 1px, 1px, 1px);height: 1px;margin: -1px;overflow: hidden;padding: 0;position: absolute;width: 1px;}#sk-container-id-34 div.sk-estimator {font-family: monospace;background-color: #f0f8ff;border: 1px dotted black;border-radius: 0.25em;box-sizing: border-box;margin-bottom: 0.5em;}#sk-container-id-34 div.sk-estimator:hover {background-color: #d4ebff;}#sk-container-id-34 div.sk-parallel-item::after {content: \"\";width: 100%;border-bottom: 1px solid gray;flex-grow: 1;}#sk-container-id-34 div.sk-label:hover label.sk-toggleable__label {background-color: #d4ebff;}#sk-container-id-34 div.sk-serial::before {content: \"\";position: absolute;border-left: 1px solid gray;box-sizing: border-box;top: 0;bottom: 0;left: 50%;z-index: 0;}#sk-container-id-34 div.sk-serial {display: flex;flex-direction: column;align-items: center;background-color: white;padding-right: 0.2em;padding-left: 0.2em;position: relative;}#sk-container-id-34 div.sk-item {position: relative;z-index: 1;}#sk-container-id-34 div.sk-parallel {display: flex;align-items: stretch;justify-content: center;background-color: white;position: relative;}#sk-container-id-34 div.sk-item::before, #sk-container-id-34 div.sk-parallel-item::before {content: \"\";position: absolute;border-left: 1px solid gray;box-sizing: border-box;top: 0;bottom: 0;left: 50%;z-index: -1;}#sk-container-id-34 div.sk-parallel-item {display: flex;flex-direction: column;z-index: 1;position: relative;background-color: white;}#sk-container-id-34 div.sk-parallel-item:first-child::after {align-self: flex-end;width: 50%;}#sk-container-id-34 div.sk-parallel-item:last-child::after {align-self: flex-start;width: 50%;}#sk-container-id-34 div.sk-parallel-item:only-child::after {width: 0;}#sk-container-id-34 div.sk-dashed-wrapped {border: 1px dashed gray;margin: 0 0.4em 0.5em 0.4em;box-sizing: border-box;padding-bottom: 0.4em;background-color: white;}#sk-container-id-34 div.sk-label label {font-family: monospace;font-weight: bold;display: inline-block;line-height: 1.2em;}#sk-container-id-34 div.sk-label-container {text-align: center;}#sk-container-id-34 div.sk-container {/* jupyter's `normalize.less` sets `[hidden] { display: none; }` but bootstrap.min.css set `[hidden] { display: none !important; }` so we also need the `!important` here to be able to override the default hidden behavior on the sphinx rendered scikit-learn.org. See: https://github.com/scikit-learn/scikit-learn/issues/21755 */display: inline-block !important;position: relative;}#sk-container-id-34 div.sk-text-repr-fallback {display: none;}</style><div id=\"sk-container-id-34\" class=\"sk-top-container\"><div class=\"sk-text-repr-fallback\"><pre>IsolationForest(contamination=0.1)</pre><b>In a Jupyter environment, please rerun this cell to show the HTML representation or trust the notebook. <br />On GitHub, the HTML representation is unable to render, please try loading this page with nbviewer.org.</b></div><div class=\"sk-container\" hidden><div class=\"sk-item\"><div class=\"sk-estimator sk-toggleable\"><input class=\"sk-toggleable__control sk-hidden--visually\" id=\"sk-estimator-id-34\" type=\"checkbox\" checked><label for=\"sk-estimator-id-34\" class=\"sk-toggleable__label sk-toggleable__label-arrow\">IsolationForest</label><div class=\"sk-toggleable__content\"><pre>IsolationForest(contamination=0.1)</pre></div></div></div></div></div>"
      ],
      "text/plain": [
       "IsolationForest(contamination=0.1)"
      ]
     },
     "execution_count": 158,
     "metadata": {},
     "output_type": "execute_result"
    }
   ],
   "source": [
    "model.fit(points)"
   ]
  },
  {
   "cell_type": "code",
   "execution_count": 159,
   "id": "0800f270",
   "metadata": {},
   "outputs": [],
   "source": [
    "outliers = model.predict(points)"
   ]
  },
  {
   "cell_type": "code",
   "execution_count": 160,
   "id": "5e329ccd",
   "metadata": {},
   "outputs": [
    {
     "data": {
      "text/plain": [
       "(1,)"
      ]
     },
     "execution_count": 160,
     "metadata": {},
     "output_type": "execute_result"
    }
   ],
   "source": [
    "outliers.shape"
   ]
  },
  {
   "cell_type": "code",
   "execution_count": null,
   "id": "8e4f58dc",
   "metadata": {},
   "outputs": [],
   "source": []
  }
 ],
 "metadata": {
  "kernelspec": {
   "display_name": "Python 3 (ipykernel)",
   "language": "python",
   "name": "python3"
  },
  "language_info": {
   "codemirror_mode": {
    "name": "ipython",
    "version": 3
   },
   "file_extension": ".py",
   "mimetype": "text/x-python",
   "name": "python",
   "nbconvert_exporter": "python",
   "pygments_lexer": "ipython3",
   "version": "3.9.7"
  }
 },
 "nbformat": 4,
 "nbformat_minor": 5
}
