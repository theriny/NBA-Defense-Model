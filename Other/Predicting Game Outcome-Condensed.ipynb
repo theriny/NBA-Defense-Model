{
 "cells": [
  {
   "cell_type": "markdown",
   "id": "96274774",
   "metadata": {},
   "source": [
    "# Predicting Game Outcome Using Team & Player Stats"
   ]
  },
  {
   "cell_type": "markdown",
   "id": "3b417b0a",
   "metadata": {},
   "source": [
    "NBA Seasons 2019-2022"
   ]
  },
  {
   "cell_type": "code",
   "execution_count": 35,
   "id": "3e0bc3d9",
   "metadata": {},
   "outputs": [],
   "source": [
    "import pandas as pd\n",
    "pd.set_option('display.max_rows', None)\n",
    "pd.set_option('display.max_columns', None)\n",
    "import seaborn as sns\n",
    "import matplotlib.pyplot as plt\n",
    "from sklearn.preprocessing import MinMaxScaler\n",
    "import numpy as np"
   ]
  },
  {
   "cell_type": "markdown",
   "id": "189f2639",
   "metadata": {},
   "source": [
    "## 1. Data Cleaning & Processing"
   ]
  },
  {
   "cell_type": "code",
   "execution_count": 36,
   "id": "14b1d758",
   "metadata": {},
   "outputs": [
    {
     "name": "stderr",
     "output_type": "stream",
     "text": [
      "C:\\Users\\theri\\anaconda3\\envs\\myenv\\lib\\site-packages\\IPython\\core\\interactiveshell.py:3072: DtypeWarning: Columns (68,69,70) have mixed types.Specify dtype option on import or set low_memory=False.\n",
      "  interactivity=interactivity, compiler=compiler, result=result)\n"
     ]
    }
   ],
   "source": [
    "# read data source\n",
    "df_full = pd.read_csv('nba_stats.csv',index_col=False)"
   ]
  },
  {
   "cell_type": "code",
   "execution_count": 37,
   "id": "686d0846",
   "metadata": {},
   "outputs": [
    {
     "data": {
      "text/plain": [
       "(115715, 83)"
      ]
     },
     "execution_count": 37,
     "metadata": {},
     "output_type": "execute_result"
    }
   ],
   "source": [
    "df_full.shape"
   ]
  },
  {
   "cell_type": "code",
   "execution_count": 38,
   "id": "4f6ec991",
   "metadata": {},
   "outputs": [],
   "source": [
    "# remove unwanted columns: 'PG%', 'SG%','SF%', 'PF%', 'C%'\n",
    "df_full = df_full.drop(columns=['PG%', 'SG%','SF%', 'PF%', 'C%'],axis=1)"
   ]
  },
  {
   "cell_type": "code",
   "execution_count": 39,
   "id": "1c8aed06",
   "metadata": {},
   "outputs": [],
   "source": [
    "df_full.drop_duplicates(inplace=True)"
   ]
  },
  {
   "cell_type": "code",
   "execution_count": 40,
   "id": "452eeb7b",
   "metadata": {},
   "outputs": [
    {
     "data": {
      "text/plain": [
       "(91706, 78)"
      ]
     },
     "execution_count": 40,
     "metadata": {},
     "output_type": "execute_result"
    }
   ],
   "source": [
    "df_full.shape"
   ]
  },
  {
   "cell_type": "code",
   "execution_count": 41,
   "id": "9a87e4de",
   "metadata": {},
   "outputs": [],
   "source": [
    "#convert game date to datetime field\n",
    "df_full['game_date'] = pd.to_datetime(df_full['game_date'])"
   ]
  },
  {
   "cell_type": "code",
   "execution_count": 42,
   "id": "c007f254",
   "metadata": {},
   "outputs": [],
   "source": [
    "# Function to count the number of inactive player names in a comma delimited string\n",
    "count_names = lambda text: len(str(text).split(',')) if pd.notna(text) else 0\n",
    "\n",
    "# Apply the function to the 'Inactives' column (replaces list of names with count of names)\n",
    "df_full['Inactives'] = df_full['Inactives'].apply(count_names)"
   ]
  },
  {
   "cell_type": "code",
   "execution_count": 43,
   "id": "4f19ccfe",
   "metadata": {},
   "outputs": [],
   "source": [
    "#extract minutes from 'mp' (minutes played) field and convert to integer\n",
    "get_minutes = lambda text: int(str(text).split(':')[0]) if pd.notna(text) else 0\n",
    "\n",
    "df_full['mp'] = df_full['mp'].apply(get_minutes)"
   ]
  },
  {
   "cell_type": "code",
   "execution_count": 44,
   "id": "d7bd2b55",
   "metadata": {},
   "outputs": [],
   "source": [
    "#convert sports betting rates to floats\n",
    "dkp_cvt = lambda num: float(num) if pd.notna(num) and num != \"#NAME?\" else 0\n",
    "fdp_cvt = lambda num: float(num) if pd.notna(num) and num != \"#NAME?\" else 0\n",
    "sdp_cvt = lambda num: float(num) if pd.notna(num) and num != \"#NAME?\" else 0\n",
    "\n",
    "df_full['DKP_per_minute'] = df_full['DKP_per_minute'].apply(dkp_cvt)\n",
    "df_full['FDP_per_minute'] = df_full['FDP_per_minute'].apply(fdp_cvt)\n",
    "df_full['SDP_per_minute'] = df_full['SDP_per_minute'].apply(sdp_cvt)"
   ]
  },
  {
   "cell_type": "code",
   "execution_count": 45,
   "id": "ec1d5b43",
   "metadata": {},
   "outputs": [],
   "source": [
    "#drop 'duplicate' field\n",
    "df_full.drop(columns = ['duplicate'],inplace=True)"
   ]
  },
  {
   "cell_type": "code",
   "execution_count": 46,
   "id": "700b406c",
   "metadata": {},
   "outputs": [
    {
     "name": "stdout",
     "output_type": "stream",
     "text": [
      "Columns with NaN values: ['pf_per_minute', 'last_60_minutes_per_game_starting', 'last_60_minutes_per_game_bench', 'active_position_minutes']\n"
     ]
    }
   ],
   "source": [
    "#get list of columns that contain NaN values\n",
    "columns_with_nan = df_full.columns[df_full.isna().any()].tolist()\n",
    "\n",
    "print(\"Columns with NaN values:\", columns_with_nan)"
   ]
  },
  {
   "cell_type": "code",
   "execution_count": 47,
   "id": "d8bc4611",
   "metadata": {},
   "outputs": [],
   "source": [
    "#drop rows with nan values\n",
    "df_full_cleaned = df_full.copy()"
   ]
  },
  {
   "cell_type": "code",
   "execution_count": 48,
   "id": "9eebc791",
   "metadata": {
    "scrolled": true
   },
   "outputs": [
    {
     "name": "stdout",
     "output_type": "stream",
     "text": [
      "<class 'pandas.core.frame.DataFrame'>\n",
      "Int64Index: 91706 entries, 0 to 115714\n",
      "Data columns (total 77 columns):\n",
      " #   Column                             Non-Null Count  Dtype         \n",
      "---  ------                             --------------  -----         \n",
      " 0   game_id                            91706 non-null  object        \n",
      " 1   game_date                          91706 non-null  datetime64[ns]\n",
      " 2   OT                                 91706 non-null  int64         \n",
      " 3   H_A                                91706 non-null  object        \n",
      " 4   Team_Abbrev                        91706 non-null  object        \n",
      " 5   Team_Score                         91706 non-null  int64         \n",
      " 6   Team_pace                          91706 non-null  float64       \n",
      " 7   Team_efg_pct                       91706 non-null  float64       \n",
      " 8   Team_tov_pct                       91706 non-null  float64       \n",
      " 9   Team_orb_pct                       91706 non-null  float64       \n",
      " 10  Team_ft_rate                       91706 non-null  float64       \n",
      " 11  Team_off_rtg                       91706 non-null  float64       \n",
      " 12  Inactives                          91706 non-null  int64         \n",
      " 13  Opponent_Abbrev                    91706 non-null  object        \n",
      " 14  Opponent_Score                     91706 non-null  int64         \n",
      " 15  Opponent_pace                      91706 non-null  float64       \n",
      " 16  Opponent_efg_pct                   91706 non-null  float64       \n",
      " 17  Opponent_tov_pct                   91706 non-null  float64       \n",
      " 18  Opponent_orb_pct                   91706 non-null  float64       \n",
      " 19  Opponent_ft_rate                   91706 non-null  float64       \n",
      " 20  Opponent_off_rtg                   91706 non-null  float64       \n",
      " 21  player                             91706 non-null  object        \n",
      " 22  player_id                          91706 non-null  object        \n",
      " 23  starter                            91706 non-null  int64         \n",
      " 24  mp                                 91706 non-null  int64         \n",
      " 25  fg                                 91706 non-null  int64         \n",
      " 26  fga                                91706 non-null  int64         \n",
      " 27  fg_pct                             91706 non-null  float64       \n",
      " 28  fg3                                91706 non-null  int64         \n",
      " 29  fg3a                               91706 non-null  int64         \n",
      " 30  fg3_pct                            91706 non-null  float64       \n",
      " 31  ft                                 91706 non-null  int64         \n",
      " 32  fta                                91706 non-null  int64         \n",
      " 33  ft_pct                             91706 non-null  float64       \n",
      " 34  orb                                91706 non-null  int64         \n",
      " 35  drb                                91706 non-null  int64         \n",
      " 36  trb                                91706 non-null  int64         \n",
      " 37  ast                                91706 non-null  int64         \n",
      " 38  stl                                91706 non-null  int64         \n",
      " 39  blk                                91706 non-null  int64         \n",
      " 40  tov                                91706 non-null  int64         \n",
      " 41  pf                                 91706 non-null  int64         \n",
      " 42  pts                                91706 non-null  int64         \n",
      " 43  plus_minus                         91706 non-null  int64         \n",
      " 44  did_not_play                       91706 non-null  int64         \n",
      " 45  is_inactive                        91706 non-null  int64         \n",
      " 46  ts_pct                             91706 non-null  float64       \n",
      " 47  efg_pct                            91706 non-null  float64       \n",
      " 48  fg3a_per_fga_pct                   91706 non-null  float64       \n",
      " 49  fta_per_fga_pct                    91706 non-null  float64       \n",
      " 50  orb_pct                            91706 non-null  float64       \n",
      " 51  drb_pct                            91706 non-null  float64       \n",
      " 52  trb_pct                            91706 non-null  float64       \n",
      " 53  ast_pct                            91706 non-null  float64       \n",
      " 54  stl_pct                            91706 non-null  float64       \n",
      " 55  blk_pct                            91706 non-null  float64       \n",
      " 56  tov_pct                            91706 non-null  float64       \n",
      " 57  usg_pct                            91706 non-null  float64       \n",
      " 58  off_rtg                            91706 non-null  int64         \n",
      " 59  def_rtg                            91706 non-null  int64         \n",
      " 60  bpm                                91706 non-null  float64       \n",
      " 61  season                             91706 non-null  int64         \n",
      " 62  minutes                            91706 non-null  float64       \n",
      " 63  double_double                      91706 non-null  int64         \n",
      " 64  triple_double                      91706 non-null  int64         \n",
      " 65  DKP                                91706 non-null  float64       \n",
      " 66  FDP                                91706 non-null  float64       \n",
      " 67  SDP                                91706 non-null  float64       \n",
      " 68  DKP_per_minute                     91706 non-null  float64       \n",
      " 69  FDP_per_minute                     91706 non-null  float64       \n",
      " 70  SDP_per_minute                     91706 non-null  float64       \n",
      " 71  pf_per_minute                      75329 non-null  float64       \n",
      " 72  ts                                 91706 non-null  float64       \n",
      " 73  last_60_minutes_per_game_starting  89578 non-null  float64       \n",
      " 74  last_60_minutes_per_game_bench     89578 non-null  float64       \n",
      " 75  active_position_minutes            79060 non-null  float64       \n",
      " 76  outcome                            91706 non-null  int64         \n",
      "dtypes: datetime64[ns](1), float64(40), int64(30), object(6)\n",
      "memory usage: 54.6+ MB\n"
     ]
    }
   ],
   "source": [
    "df_full_cleaned.info()"
   ]
  },
  {
   "cell_type": "code",
   "execution_count": 49,
   "id": "d7c5de33",
   "metadata": {},
   "outputs": [
    {
     "data": {
      "text/plain": [
       "(91706, 77)"
      ]
     },
     "execution_count": 49,
     "metadata": {},
     "output_type": "execute_result"
    }
   ],
   "source": [
    "df_full_cleaned.shape"
   ]
  },
  {
   "cell_type": "code",
   "execution_count": 50,
   "id": "ce282860",
   "metadata": {},
   "outputs": [
    {
     "data": {
      "text/plain": [
       "\"\\ndf_player_sums = df_full_cleaned.groupby(by = ['season','player','Team_Abbrev'],as_index=False).agg (sumfg = ('fg','sum'),sumfg3=('fg3','sum'),sumft=('ft','sum'),sumorb=('orb','sum'),sumast=('ast','sum'),sumpts=('pts','sum'),sumdrb = ('drb','sum'),sumstl=('stl','sum'),sumblk=('blk','sum'))\\ndf_player_avg = df_full_cleaned.groupby(by = ['season','player','Team_Abbrev'],as_index=False).agg (avgfg = ('fg','mean'),avgfg3=('fg3','mean'),avgft=('ft','mean'),avgorb=('orb','mean'),avgast=('ast','mean'),avgpts=('pts','mean'),avgdrb = ('drb','mean'),avgstl=('stl','mean'),avgblk=('blk','mean'))\\n\\ndf_player_avg = df_player_avg.iloc[:,3:]\\n\\ndf_player_sum_avg = pd.concat([df_player_sums, df_player_avg],axis=1)\\n\\ndf_player_sum_avg.head()\\n\""
      ]
     },
     "execution_count": 50,
     "metadata": {},
     "output_type": "execute_result"
    }
   ],
   "source": [
    "#Get sum and mean player stats\n",
    "\n",
    "'''\n",
    "df_player_sums = df_full_cleaned.groupby(by = ['season','player','Team_Abbrev'],as_index=False).agg (sumfg = ('fg','sum'),sumfg3=('fg3','sum'),sumft=('ft','sum'),sumorb=('orb','sum'),sumast=('ast','sum'),sumpts=('pts','sum'),sumdrb = ('drb','sum'),sumstl=('stl','sum'),sumblk=('blk','sum'))\n",
    "df_player_avg = df_full_cleaned.groupby(by = ['season','player','Team_Abbrev'],as_index=False).agg (avgfg = ('fg','mean'),avgfg3=('fg3','mean'),avgft=('ft','mean'),avgorb=('orb','mean'),avgast=('ast','mean'),avgpts=('pts','mean'),avgdrb = ('drb','mean'),avgstl=('stl','mean'),avgblk=('blk','mean'))\n",
    "\n",
    "df_player_avg = df_player_avg.iloc[:,3:]\n",
    "\n",
    "df_player_sum_avg = pd.concat([df_player_sums, df_player_avg],axis=1)\n",
    "\n",
    "df_player_sum_avg.head()\n",
    "'''"
   ]
  },
  {
   "cell_type": "code",
   "execution_count": 51,
   "id": "4944cbda",
   "metadata": {},
   "outputs": [],
   "source": [
    "#df_player_sum_avg.head()"
   ]
  },
  {
   "cell_type": "code",
   "execution_count": 52,
   "id": "bec14643",
   "metadata": {},
   "outputs": [],
   "source": [
    "#df_player_sum_avg.to_excel('nba_player_stats.xlsx',index=False)"
   ]
  },
  {
   "cell_type": "code",
   "execution_count": 53,
   "id": "5a6526a5",
   "metadata": {},
   "outputs": [],
   "source": [
    "#Define the pure defensive and offensive player stats (By pure I mean those stats that can only be regarded as defensive or offensive)--excluding percentages as a fg percentage of 100% is misleading if the player only attempted one fg.\n",
    "player_def_stats_cols = ['game_id','Team_Abbrev','Opponent_Abbrev','outcome','stl','blk','drb']\n",
    "\n",
    "player_off_stats_cols = ['game_id','Team_Abbrev','Opponent_Abbrev','outcome','fg','fg3','ft','orb','ast','pts']"
   ]
  },
  {
   "cell_type": "code",
   "execution_count": 54,
   "id": "a56b49ad",
   "metadata": {},
   "outputs": [],
   "source": [
    "#create player def stats dataframe\n",
    "df_player_def = df_full_cleaned[player_def_stats_cols]\n",
    "\n",
    "#create player off stats dataframe\n",
    "df_player_off = df_full_cleaned[player_off_stats_cols]\n",
    "\n",
    "#create df with combined (def+off) player stats\n",
    "df_player_combined = df_full_cleaned[player_def_stats_cols + player_off_stats_cols]\n",
    "df_player_combined = df_player_combined.iloc[:,4:]"
   ]
  },
  {
   "cell_type": "code",
   "execution_count": 55,
   "id": "d0363db7",
   "metadata": {},
   "outputs": [
    {
     "data": {
      "text/plain": [
       "((91706, 7), (91706, 10), (91706, 13))"
      ]
     },
     "execution_count": 55,
     "metadata": {},
     "output_type": "execute_result"
    }
   ],
   "source": [
    "df_player_def.shape, df_player_off.shape, df_player_combined.shape"
   ]
  },
  {
   "cell_type": "code",
   "execution_count": 56,
   "id": "7807613d",
   "metadata": {},
   "outputs": [],
   "source": [
    "#aggregate stats by team\n",
    "df_def_agg = df_player_def.groupby(by=['game_id','Team_Abbrev','Opponent_Abbrev','outcome'],as_index=False).agg (sumdrb = ('drb','sum'),sumstl=('stl','sum'),sumblk=('blk','sum'))\n",
    "df_off_agg = df_player_off.groupby(by=['game_id','Team_Abbrev','Opponent_Abbrev','outcome'],as_index=False).agg (sumfg = ('fg','sum'),sumfg3=('fg3','sum'),sumft=('ft','sum'),sumorb=('orb','sum'),sumast=('ast','sum'),sumpts=('pts','sum'))\n",
    "df_combined_agg = df_player_combined.groupby(by=['game_id','Team_Abbrev','Opponent_Abbrev','outcome'],as_index=False).agg (sumfg = ('fg','sum'),sumfg3=('fg3','sum'),sumft=('ft','sum'),sumorb=('orb','sum'),sumast=('ast','sum'),sumpts=('pts','sum'),sumdrb = ('drb','sum'),sumstl=('stl','sum'),sumblk=('blk','sum'))"
   ]
  },
  {
   "cell_type": "code",
   "execution_count": 57,
   "id": "b638a2db",
   "metadata": {},
   "outputs": [],
   "source": [
    "#create offensive score feature\n",
    "\n",
    "# 1. create new column that combines Opponent's Abbrev and the game id\n",
    "df_combined_agg['opponent_id'] = df_combined_agg.apply(lambda row: row['Opponent_Abbrev'] + '_' + str(row['game_id']),axis = 1)\n",
    "\n",
    "\n",
    "\n",
    "'''\n",
    "# 2. create dictionary that maps 'opponent_id' values to teams offensive stats\n",
    "offense_lead_dict = {}\n",
    "offense_lead_dict = dict(zip(df_combined_agg['opponent_id'],zip(df_combined_agg['sumfg'],\n",
    "                                                                df_combined_agg['sumfg3'],df_combined_agg['sumft'],\n",
    "                                                                df_combined_agg['sumorb'],\n",
    "                                                                df_combined_agg['sumast'],df_combined_agg['sumpts'])))\n",
    "'''\n",
    "\n",
    "# 2. create dictionary that maps 'opponent_id' values to teams offensive stats (removed sumpts)\n",
    "offense_lead_dict = {}\n",
    "offense_lead_dict = dict(zip(df_combined_agg['opponent_id'],zip(df_combined_agg['sumfg'],df_combined_agg['sumfg3'],df_combined_agg['sumft'],\n",
    "                                                               df_combined_agg['sumorb'],df_combined_agg['sumast'])))\n",
    "\n",
    "\n",
    "# 3. compare team and opponent defensive stats, if two or more team def stats are greater than opponent's def stats then 'good D' otherwise 'bad D'\n",
    "\n",
    "final_score = [] #stores sum of def_score for each team\n",
    "for i in range(0,df_combined_agg.shape[0]):\n",
    "    \n",
    "    off_score = [] #empty list to store 1s if current teams defensive stat exceeds opponent's\n",
    "    \n",
    "    '''\n",
    "    team_off_tup = (df_combined_agg['sumfg'][i],df_combined_agg['sumfg3'][i],df_combined_agg['sumft'][i],\n",
    "                   df_combined_agg['sumorb'][i],df_combined_agg['sumast'][i],df_combined_agg['sumpts'][i]) # current team's defensive stats\n",
    "    \n",
    "    '''\n",
    "    team_off_tup = (df_combined_agg['sumfg'][i],df_combined_agg['sumfg3'][i],df_combined_agg['sumft'][i],\n",
    "                   df_combined_agg['sumorb'][i],df_combined_agg['sumast'][i]) # current team's defensive stats\n",
    "    \n",
    "    tupKey_off = df_combined_agg['Team_Abbrev'][i] + '_' + df_combined_agg['game_id'][i] #dictionary key to get opponents defensive stats\n",
    "    opp_tup = offense_lead_dict[tupKey_off] #opponents defensive stats\n",
    "    \n",
    "    #logic to calculate team's defensive score\n",
    "    if team_off_tup[0] > opp_tup[0]:\n",
    "        off_score.append(1)\n",
    "    else:\n",
    "        off_score.append(0)\n",
    "    if team_off_tup[1] > opp_tup[1]:\n",
    "        off_score.append(1)\n",
    "    else:\n",
    "        off_score.append(0)\n",
    "    if team_off_tup[2] > opp_tup[2]:\n",
    "        off_score.append(1)\n",
    "    else:\n",
    "        off_score.append(0)\n",
    "    if team_off_tup[3] > opp_tup[3]:\n",
    "        off_score.append(1)\n",
    "    else:\n",
    "        off_score.append(0)\n",
    "    if team_off_tup[4] > opp_tup[4]:\n",
    "        off_score.append(1)\n",
    "    else:\n",
    "        off_score.append(0)\n",
    "    \n",
    "    '''\n",
    "    if team_off_tup[5] > opp_tup[5]:\n",
    "        off_score.append(1)\n",
    "    else:\n",
    "        off_score.append(0)\n",
    "    '''\n",
    "        \n",
    "    #final_score.append(1 if sum(off_score) >= 4 else 0) #sum values in def_score and append to final_score\n",
    "    final_score.append(1 if sum(off_score) >= 3 else 0) #sum values in def_score and append to final_score\n",
    "\n",
    "    \n",
    "df_combined_agg['Offensive Effort'] = final_score"
   ]
  },
  {
   "cell_type": "code",
   "execution_count": 58,
   "id": "bd0c2647",
   "metadata": {},
   "outputs": [],
   "source": [
    "#create defensive score feature\n",
    "\n",
    "# 1. create new column that combines Opponent's Abbrev and the game id\n",
    "df_combined_agg['opponent_id'] = df_combined_agg.apply(lambda row: row['Opponent_Abbrev'] + '_' + str(row['game_id']),axis = 1)\n",
    "\n",
    "# 2. create dictionary that maps 'opponent_id' values to teams defensive stats\n",
    "defense_lead_dict = {}\n",
    "defense_lead_dict = dict(zip(df_combined_agg['opponent_id'],zip(df_combined_agg['sumdrb'],df_combined_agg['sumstl'],df_combined_agg['sumblk'])))\n",
    "\n",
    "# 3. compare team and opponent defensive stats, if two or more team def stats are greater than opponent's def stats then 'good D' otherwise 'bad D'\n",
    "\n",
    "final_score = [] #stores sum of def_score for each team\n",
    "for i in range(0,df_combined_agg.shape[0]):\n",
    "    \n",
    "    def_score = [] #empty list to store 1s if current teams defensive stat exceeds opponent's\n",
    "    team_tup = (df_combined_agg['sumdrb'][i],df_combined_agg['sumstl'][i],df_combined_agg['sumblk'][i]) # current team's defensive stats\n",
    "    \n",
    "    tupKey = df_combined_agg['Team_Abbrev'][i] + '_' + df_combined_agg['game_id'][i] #dictionary key to get opponents defensive stats\n",
    "    opp_tup = defense_lead_dict[tupKey] #opponents defensive stats\n",
    "    \n",
    "    #logic to calculate team's defensive score\n",
    "    if team_tup[0] > opp_tup[0]:\n",
    "        def_score.append(1)\n",
    "    else:\n",
    "        def_score.append(0)\n",
    "    if team_tup[1] > opp_tup[1]:\n",
    "        def_score.append(1)\n",
    "    else:\n",
    "        def_score.append(0)\n",
    "    if team_tup[2] > opp_tup[2]:\n",
    "        def_score.append(1)\n",
    "    else:\n",
    "        def_score.append(0)\n",
    "        \n",
    "    final_score.append(1 if sum(def_score) >= 2 else 0) #sum values in def_score and append to final_score\n",
    "    \n",
    "df_combined_agg['Defensive Effort'] = final_score"
   ]
  },
  {
   "cell_type": "code",
   "execution_count": 59,
   "id": "2b2d5e90",
   "metadata": {},
   "outputs": [
    {
     "data": {
      "text/plain": [
       "(Index(['game_id', 'Team_Abbrev', 'Opponent_Abbrev', 'outcome', 'sumfg',\n",
       "        'sumfg3', 'sumft', 'sumorb', 'sumast', 'sumpts', 'sumdrb', 'sumstl',\n",
       "        'sumblk', 'opponent_id', 'Offensive Effort', 'Defensive Effort'],\n",
       "       dtype='object'),\n",
       " Index(['game_id', 'Team_Abbrev', 'Opponent_Abbrev', 'outcome', 'sumdrb',\n",
       "        'sumstl', 'sumblk'],\n",
       "       dtype='object'),\n",
       " Index(['game_id', 'Team_Abbrev', 'Opponent_Abbrev', 'outcome', 'sumfg',\n",
       "        'sumfg3', 'sumft', 'sumorb', 'sumast', 'sumpts'],\n",
       "       dtype='object'))"
      ]
     },
     "execution_count": 59,
     "metadata": {},
     "output_type": "execute_result"
    }
   ],
   "source": [
    "df_combined_agg.columns, df_def_agg.columns, df_off_agg.columns"
   ]
  },
  {
   "cell_type": "code",
   "execution_count": 60,
   "id": "108290c9",
   "metadata": {},
   "outputs": [],
   "source": [
    "#get subset of data that only contains fields with numerical values\n",
    "\n",
    "cols_to_exclude = ['game_id','Team_Abbrev','Opponent_Abbrev']\n",
    "\n",
    "df_def_num = df_def_agg.drop(columns=cols_to_exclude)\n",
    "df_off_num = df_off_agg.drop(columns=cols_to_exclude)\n",
    "df_combined_num = df_combined_agg.drop(columns=cols_to_exclude)\n",
    "df_combined_num = df_combined_num.drop(columns='opponent_id')"
   ]
  },
  {
   "cell_type": "code",
   "execution_count": 61,
   "id": "974a65a0",
   "metadata": {},
   "outputs": [],
   "source": [
    "#df_combined_num.to_csv('nba_data.csv',index=False)"
   ]
  },
  {
   "cell_type": "code",
   "execution_count": 62,
   "id": "119a7439",
   "metadata": {},
   "outputs": [
    {
     "data": {
      "text/html": [
       "<div>\n",
       "<style scoped>\n",
       "    .dataframe tbody tr th:only-of-type {\n",
       "        vertical-align: middle;\n",
       "    }\n",
       "\n",
       "    .dataframe tbody tr th {\n",
       "        vertical-align: top;\n",
       "    }\n",
       "\n",
       "    .dataframe thead th {\n",
       "        text-align: right;\n",
       "    }\n",
       "</style>\n",
       "<table border=\"1\" class=\"dataframe\">\n",
       "  <thead>\n",
       "    <tr style=\"text-align: right;\">\n",
       "      <th></th>\n",
       "      <th>outcome</th>\n",
       "      <th>sumfg</th>\n",
       "      <th>sumfg3</th>\n",
       "      <th>sumft</th>\n",
       "      <th>sumorb</th>\n",
       "      <th>sumast</th>\n",
       "      <th>sumpts</th>\n",
       "      <th>sumdrb</th>\n",
       "      <th>sumstl</th>\n",
       "      <th>sumblk</th>\n",
       "      <th>Offensive Effort</th>\n",
       "      <th>Defensive Effort</th>\n",
       "    </tr>\n",
       "  </thead>\n",
       "  <tbody>\n",
       "    <tr>\n",
       "      <th>0</th>\n",
       "      <td>1</td>\n",
       "      <td>42</td>\n",
       "      <td>11</td>\n",
       "      <td>17</td>\n",
       "      <td>11</td>\n",
       "      <td>24</td>\n",
       "      <td>112</td>\n",
       "      <td>34</td>\n",
       "      <td>8</td>\n",
       "      <td>5</td>\n",
       "      <td>1</td>\n",
       "      <td>1</td>\n",
       "    </tr>\n",
       "    <tr>\n",
       "      <th>1</th>\n",
       "      <td>0</td>\n",
       "      <td>37</td>\n",
       "      <td>13</td>\n",
       "      <td>15</td>\n",
       "      <td>9</td>\n",
       "      <td>20</td>\n",
       "      <td>102</td>\n",
       "      <td>32</td>\n",
       "      <td>4</td>\n",
       "      <td>7</td>\n",
       "      <td>0</td>\n",
       "      <td>0</td>\n",
       "    </tr>\n",
       "    <tr>\n",
       "      <th>2</th>\n",
       "      <td>0</td>\n",
       "      <td>43</td>\n",
       "      <td>19</td>\n",
       "      <td>17</td>\n",
       "      <td>16</td>\n",
       "      <td>30</td>\n",
       "      <td>122</td>\n",
       "      <td>37</td>\n",
       "      <td>4</td>\n",
       "      <td>9</td>\n",
       "      <td>1</td>\n",
       "      <td>0</td>\n",
       "    </tr>\n",
       "    <tr>\n",
       "      <th>3</th>\n",
       "      <td>1</td>\n",
       "      <td>42</td>\n",
       "      <td>14</td>\n",
       "      <td>32</td>\n",
       "      <td>16</td>\n",
       "      <td>23</td>\n",
       "      <td>130</td>\n",
       "      <td>41</td>\n",
       "      <td>7</td>\n",
       "      <td>3</td>\n",
       "      <td>0</td>\n",
       "      <td>1</td>\n",
       "    </tr>\n",
       "    <tr>\n",
       "      <th>4</th>\n",
       "      <td>0</td>\n",
       "      <td>48</td>\n",
       "      <td>15</td>\n",
       "      <td>15</td>\n",
       "      <td>10</td>\n",
       "      <td>19</td>\n",
       "      <td>126</td>\n",
       "      <td>38</td>\n",
       "      <td>8</td>\n",
       "      <td>9</td>\n",
       "      <td>0</td>\n",
       "      <td>0</td>\n",
       "    </tr>\n",
       "  </tbody>\n",
       "</table>\n",
       "</div>"
      ],
      "text/plain": [
       "   outcome  sumfg  sumfg3  sumft  sumorb  sumast  sumpts  sumdrb  sumstl  \\\n",
       "0        1     42      11     17      11      24     112      34       8   \n",
       "1        0     37      13     15       9      20     102      32       4   \n",
       "2        0     43      19     17      16      30     122      37       4   \n",
       "3        1     42      14     32      16      23     130      41       7   \n",
       "4        0     48      15     15      10      19     126      38       8   \n",
       "\n",
       "   sumblk  Offensive Effort  Defensive Effort  \n",
       "0       5                 1                 1  \n",
       "1       7                 0                 0  \n",
       "2       9                 1                 0  \n",
       "3       3                 0                 1  \n",
       "4       9                 0                 0  "
      ]
     },
     "execution_count": 62,
     "metadata": {},
     "output_type": "execute_result"
    }
   ],
   "source": [
    "df_combined_num.head()"
   ]
  },
  {
   "cell_type": "markdown",
   "id": "931898a9",
   "metadata": {},
   "source": [
    "## 2. Data Exploration"
   ]
  },
  {
   "cell_type": "code",
   "execution_count": 63,
   "id": "140f7a26",
   "metadata": {},
   "outputs": [
    {
     "data": {
      "image/png": "[encoded data removed]",
      "text/plain": [
       "<Figure size 360x360 with 2 Axes>"
      ]
     },
     "metadata": {
      "needs_background": "light"
     },
     "output_type": "display_data"
    },
    {
     "data": {
      "image/png": "[encoded data removed]",
      "text/plain": [
       "<Figure size 360x360 with 2 Axes>"
      ]
     },
     "metadata": {
      "needs_background": "light"
     },
     "output_type": "display_data"
    },
    {
     "data": {
      "image/png": "[encoded data removed]",
      "text/plain": [
       "<Figure size 360x360 with 2 Axes>"
      ]
     },
     "metadata": {
      "needs_background": "light"
     },
     "output_type": "display_data"
    }
   ],
   "source": [
    "#get subset of numerated columns in preparation for correlation matrix\n",
    "\n",
    "# Normalize quantitative fields using Min-Max scaling\n",
    "scaler = MinMaxScaler()\n",
    "df_def_scaled = pd.DataFrame(scaler.fit_transform(df_def_num), columns=df_def_num.columns)\n",
    "df_off_scaled = pd.DataFrame(scaler.fit_transform(df_off_num), columns=df_off_num.columns)\n",
    "df_combined_scaled = pd.DataFrame(scaler.fit_transform(df_combined_num), columns=df_combined_num.columns)\n",
    "\n",
    "\n",
    "\n",
    "scaled_df_lst = [df_def_scaled,df_off_scaled,df_combined_scaled]\n",
    "\n",
    "for df in scaled_df_lst:\n",
    "    # Calculate the correlation matrix\n",
    "    correlation_matrix = df.corr()\n",
    "\n",
    "    plt.figure(figsize=(5,5))\n",
    "\n",
    "    # Create a heatmap using seaborn\n",
    "    sns.heatmap(correlation_matrix, annot=False, cmap='coolwarm', linewidths=.5)\n",
    "\n",
    "\n",
    "\n",
    "    # Show the plot\n",
    "    plt.show()"
   ]
  },
  {
   "cell_type": "code",
   "execution_count": 64,
   "id": "2e0fa7f8",
   "metadata": {},
   "outputs": [
    {
     "data": {
      "image/png": "[encoded data removed]",
      "text/plain": [
       "<Figure size 432x288 with 1 Axes>"
      ]
     },
     "metadata": {
      "needs_background": "light"
     },
     "output_type": "display_data"
    },
    {
     "data": {
      "image/png": "[encoded data removed]",
      "text/plain": [
       "<Figure size 432x288 with 1 Axes>"
      ]
     },
     "metadata": {
      "needs_background": "light"
     },
     "output_type": "display_data"
    },
    {
     "data": {
      "image/png": "[encoded data removed]",
      "text/plain": [
       "<Figure size 432x288 with 1 Axes>"
      ]
     },
     "metadata": {
      "needs_background": "light"
     },
     "output_type": "display_data"
    }
   ],
   "source": [
    "#distribution of wins and losses\n",
    "for df in scaled_df_lst:\n",
    "\n",
    "    sns.countplot(x='outcome', data=df)\n",
    "\n",
    "    plt.show()"
   ]
  },
  {
   "cell_type": "code",
   "execution_count": 65,
   "id": "d763d2a4",
   "metadata": {},
   "outputs": [
    {
     "data": {
      "image/png": "[encoded data removed]",
      "text/plain": [
       "<Figure size 432x288 with 1 Axes>"
      ]
     },
     "metadata": {
      "needs_background": "light"
     },
     "output_type": "display_data"
    }
   ],
   "source": [
    "#visualize the effect of defense and offense on game outcome\n",
    "\n",
    "# Group by 'offense' and 'defense', then count the occurrences of each outcome\n",
    "grouped_df = df_combined_scaled.groupby(['Offensive Effort', 'Defensive Effort', 'outcome']).size().reset_index(name='count')\n",
    "\n",
    "# Pivot the dataframe to make 'outcome' values as columns\n",
    "pivot_df = grouped_df.pivot_table(index=['Offensive Effort', 'Defensive Effort'], columns='outcome', fill_value=0)\n",
    "\n",
    "# Plot the stacked bar chart\n",
    "pivot_df.plot(kind='bar', stacked=False)\n",
    "plt.title('Outcome Count by Offensive and Defensive Effort')\n",
    "plt.xlabel('Offensive Effort, Defensive Effort')\n",
    "plt.ylabel('Count')\n",
    "plt.legend(title='Outcome')\n",
    "plt.show()"
   ]
  },
  {
   "cell_type": "markdown",
   "id": "fe650840",
   "metadata": {},
   "source": [
    "## 3. Define & Train Model"
   ]
  },
  {
   "cell_type": "code",
   "execution_count": 66,
   "id": "6e7ead2c",
   "metadata": {},
   "outputs": [],
   "source": [
    "#import ML libraries\n",
    "from sklearn.svm import SVC\n",
    "\n",
    "\n",
    "from sklearn.metrics import accuracy_score, confusion_matrix\n",
    "from sklearn.tree import DecisionTreeClassifier\n",
    "from sklearn.ensemble import RandomForestClassifier\n",
    "from sklearn import svm\n",
    "from sklearn.neighbors import KNeighborsClassifier\n",
    "from sklearn import svm as svm_linear\n",
    "from sklearn.metrics import classification_report\n",
    "from sklearn.model_selection import RepeatedStratifiedKFold\n",
    "from sklearn.model_selection import cross_validate\n",
    "from sklearn.model_selection import cross_val_predict\n",
    "from sklearn.model_selection import cross_val_score\n",
    "from sklearn.model_selection import train_test_split as tts\n"
   ]
  },
  {
   "cell_type": "code",
   "execution_count": 67,
   "id": "12e7917c",
   "metadata": {},
   "outputs": [],
   "source": [
    "def misclassification_cost(arg1, arg2):\n",
    "    \n",
    "    # function for calculating the missclassification cost of a classifier given test labels and predicted labels returned from the\n",
    "    # trained classifier.\n",
    "    \n",
    "    '''\n",
    "    inputs:\n",
    "    arg1 = array of test labels\n",
    "    arg2 = array of predicted labels\n",
    "    \n",
    "    returns:\n",
    "    misclassification cost\n",
    "    '''\n",
    "\n",
    "    #print confusion matrix\n",
    "    CM = confusion_matrix(arg1,arg2)\n",
    "    print(CM)\n",
    "\n",
    "    #define cost matrix shape\n",
    "    cM = np.zeros(CM.shape)\n",
    "\n",
    "    #assign weights to cost matrix\n",
    "    if cM.shape == (3,3):\n",
    "        cM[0] = [0,1,2]\n",
    "        cM[1] = [1,0,1]\n",
    "        cM[2] = [2,1,0]\n",
    "\n",
    "    # for binary classification\n",
    "    elif cM.shape ==(2,2):\n",
    "        cM[0] = [0,1]\n",
    "        cM[1] = [1,0]\n",
    "\n",
    "    elif cM.shape == (5,5):\n",
    "        cM[0] = [0,1,2,3,4]\n",
    "        cM[1] = [1,0,1,2,3]\n",
    "        cM[2] = [2,1,0,1,2]\n",
    "        cM[3] = [3,2,1,0,1]\n",
    "        cM[4] = [4,3,2,1,0]\n",
    "\n",
    "    #calculate classification cost\n",
    "    cM_matrix = np.matrix(CM * cM)\n",
    "    clcost = cM_matrix.sum()/arg2.shape[0]\n",
    "    \n",
    "    return(clcost)"
   ]
  },
  {
   "cell_type": "code",
   "execution_count": 68,
   "id": "6b4bbc3a",
   "metadata": {},
   "outputs": [],
   "source": [
    "def classifier(arg1,arg2,arg3):\n",
    "    \n",
    "    '''\n",
    "    arg1: X Features\n",
    "    arg2: y Label\n",
    "    arg3: random seed\n",
    "    '''\n",
    "\n",
    "\n",
    "    modelDict = {'DecisionTreeClassifier':'max_depth = %d,random_state = %d' % (4,0),\n",
    "                 'RandomForestClassifier':'',\n",
    "                 'svm.SVC':'kernel=\"rbf\"', \n",
    "                 'KNeighborsClassifier':'n_neighbors = 4',\n",
    "                 'svm_linear.SVC':'kernel=\"linear\"'\n",
    "                }\n",
    "\n",
    "    model_lst = list(modelDict.keys())  \n",
    "\n",
    "\n",
    "    #create lists for storing model scores for cross-validation\n",
    "    models = []\n",
    "    accuracy = []\n",
    "    mpca = []\n",
    "    f1_wt = []\n",
    "\n",
    "    #create lists for storing model scores\n",
    "    accuracy2 = []\n",
    "    mpca2 = []\n",
    "    f1_wt2 = []\n",
    "    cost2 = []\n",
    "    unique2 = []\n",
    "\n",
    "\n",
    "\n",
    "    for key in modelDict.keys():\n",
    "        print(key)\n",
    "        models.append(key)\n",
    "\n",
    "        #define classifier with parameters including penalizing parameters\n",
    "        clf = eval('%s(%s)' % (key,modelDict[key]))\n",
    "\n",
    "\n",
    "        #evaluate pipeline\n",
    "\n",
    "        # define cross-validation method for model evaluation\n",
    "        cv = RepeatedStratifiedKFold(n_splits=10, n_repeats=3, random_state=1)       \n",
    "\n",
    "\n",
    "        #calculate cross-validated mean per class accuracy (recall macroaverage from classification report)\n",
    "        results = cross_validate(clf,arg1, arg2, scoring=['recall_macro','accuracy','f1_macro','f1_weighted'], cv=cv, n_jobs=-1,error_score='raise')\n",
    "\n",
    "        #append cross-validation results to respective lists\n",
    "        accuracy.append(results['test_accuracy'].mean())\n",
    "        mpca.append(results['test_recall_macro'].mean())\n",
    "        f1_wt.append(results['test_f1_weighted'].mean())\n",
    "\n",
    "\n",
    "\n",
    "\n",
    "\n",
    "        #train each model with training data and predict on test data\n",
    "\n",
    "        #split data into train and test data (75/25 split)\n",
    "        X_train, X_test, y_train, y_test = tts(arg1, arg2, random_state=arg3)\n",
    "\n",
    "\n",
    "        print(np.unique(y_train))\n",
    "        #train models\n",
    "        model = clf.fit(X_train, y_train)  \n",
    "\n",
    "\n",
    "        #predict on test data\n",
    "        y_hat = model.predict(X_test)      \n",
    "        print(classification_report(y_test, y_hat))\n",
    "\n",
    "        #print confusion matrix\n",
    "        CM = confusion_matrix(y_test,y_hat)\n",
    "        print(CM)\n",
    "\n",
    "\n",
    "        #capture classification accuracy metrics\n",
    "        report_dict = classification_report(y_test,y_hat,output_dict=True)\n",
    "\n",
    "        #mean per class accuracy\n",
    "        mpca2.append(report_dict['macro avg']['recall']) #mean per class accuracy\n",
    "\n",
    "        #return f1 score\n",
    "        f1_wt2.append(report_dict['weighted avg']['f1-score'])\n",
    "\n",
    "        #accuracy\n",
    "        accuracy2.append(report_dict['accuracy'])   \n",
    "\n",
    "        #misclassification cost\n",
    "        cost2.append(misclassification_cost(y_test,y_hat))\n",
    "\n",
    "        #unique label predictions\n",
    "        unique2.append(np.unique(y_hat))\n",
    "\n",
    "\n",
    "\n",
    "    #create and populate dataframe with cross-validation results\n",
    "    df_scores = pd.DataFrame()\n",
    "    df_scores['Model'] = models\n",
    "    df_scores['CV Accuracy'] = accuracy\n",
    "    df_scores['CV MPCA'] = mpca\n",
    "    df_scores['CV F1_weighted'] = f1_wt\n",
    "    \n",
    "    \n",
    "    df_scores2 = pd.DataFrame()\n",
    "    df_scores2['Model'] = models\n",
    "    df_scores2['Accuracy'] = accuracy2\n",
    "    df_scores2['MPCA'] = mpca2\n",
    "    df_scores2['F1_weighted'] = f1_wt2\n",
    "    df_scores2['Misclassification_Cost'] = cost2\n",
    "    df_scores2['unique predictions'] = unique2\n",
    "\n",
    "\n",
    "\n",
    "\n",
    "    return(df_scores,df_scores2,model)"
   ]
  },
  {
   "cell_type": "code",
   "execution_count": 69,
   "id": "3212b704",
   "metadata": {},
   "outputs": [],
   "source": [
    "#Define features and labels for all datasets\n",
    "X_def = df_def_scaled.drop(columns= ['outcome'],axis=1) #predictors\n",
    "y_def = df_def_scaled['outcome']\n",
    "\n",
    "X_off = df_off_scaled.drop(columns= ['outcome'],axis=1) #predictors\n",
    "y_off = df_off_scaled['outcome']\n",
    "\n",
    "X_com = df_combined_scaled.drop(columns= ['outcome'],axis=1) #predictors\n",
    "y_com = df_combined_scaled['outcome']\n",
    "\n",
    "X_com_defeffort = df_combined_scaled.drop(columns= ['outcome','sumfg','sumfg3',\n",
    "                                              'sumft','sumorb','sumast','sumstl','sumblk','sumpts',\n",
    "                                              'Offensive Effort'],axis=1) #predictors\n",
    "X_com_offeffort = df_combined_scaled.drop(columns= ['outcome','sumfg','sumfg3',\n",
    "                                              'sumft','sumdrb','sumast','sumstl','sumblk','sumpts',\n",
    "                                              'Defensive Effort'],axis=1) #predictors"
   ]
  },
  {
   "cell_type": "code",
   "execution_count": 71,
   "id": "9928a2c2",
   "metadata": {},
   "outputs": [
    {
     "name": "stdout",
     "output_type": "stream",
     "text": [
      "DecisionTreeClassifier\n",
      "[0. 1.]\n",
      "              precision    recall  f1-score   support\n",
      "\n",
      "         0.0       0.77      0.84      0.80       907\n",
      "         1.0       0.82      0.73      0.77       865\n",
      "\n",
      "    accuracy                           0.79      1772\n",
      "   macro avg       0.79      0.79      0.79      1772\n",
      "weighted avg       0.79      0.79      0.79      1772\n",
      "\n",
      "[[765 142]\n",
      " [234 631]]\n",
      "[[765 142]\n",
      " [234 631]]\n",
      "RandomForestClassifier\n",
      "[0. 1.]\n",
      "              precision    recall  f1-score   support\n",
      "\n",
      "         0.0       0.76      0.84      0.80       907\n",
      "         1.0       0.82      0.73      0.77       865\n",
      "\n",
      "    accuracy                           0.79      1772\n",
      "   macro avg       0.79      0.79      0.79      1772\n",
      "weighted avg       0.79      0.79      0.79      1772\n",
      "\n",
      "[[765 142]\n",
      " [236 629]]\n",
      "[[765 142]\n",
      " [236 629]]\n",
      "svm.SVC\n",
      "[0. 1.]\n",
      "              precision    recall  f1-score   support\n",
      "\n",
      "         0.0       0.77      0.84      0.80       907\n",
      "         1.0       0.82      0.73      0.77       865\n",
      "\n",
      "    accuracy                           0.79      1772\n",
      "   macro avg       0.79      0.79      0.79      1772\n",
      "weighted avg       0.79      0.79      0.79      1772\n",
      "\n",
      "[[765 142]\n",
      " [234 631]]\n",
      "[[765 142]\n",
      " [234 631]]\n",
      "KNeighborsClassifier\n",
      "[0. 1.]\n",
      "              precision    recall  f1-score   support\n",
      "\n",
      "         0.0       0.67      0.82      0.74       907\n",
      "         1.0       0.75      0.57      0.65       865\n",
      "\n",
      "    accuracy                           0.70      1772\n",
      "   macro avg       0.71      0.70      0.69      1772\n",
      "weighted avg       0.71      0.70      0.69      1772\n",
      "\n",
      "[[746 161]\n",
      " [373 492]]\n",
      "[[746 161]\n",
      " [373 492]]\n",
      "svm_linear.SVC\n",
      "[0. 1.]\n",
      "              precision    recall  f1-score   support\n",
      "\n",
      "         0.0       0.77      0.84      0.80       907\n",
      "         1.0       0.82      0.73      0.77       865\n",
      "\n",
      "    accuracy                           0.79      1772\n",
      "   macro avg       0.79      0.79      0.79      1772\n",
      "weighted avg       0.79      0.79      0.79      1772\n",
      "\n",
      "[[765 142]\n",
      " [234 631]]\n",
      "[[765 142]\n",
      " [234 631]]\n"
     ]
    }
   ],
   "source": [
    "comval,commdl,mdl = classifier(X_com_offeffort,y_com,42)"
   ]
  },
  {
   "cell_type": "code",
   "execution_count": 72,
   "id": "cab6e66e",
   "metadata": {},
   "outputs": [
    {
     "data": {
      "text/html": [
       "<div>\n",
       "<style scoped>\n",
       "    .dataframe tbody tr th:only-of-type {\n",
       "        vertical-align: middle;\n",
       "    }\n",
       "\n",
       "    .dataframe tbody tr th {\n",
       "        vertical-align: top;\n",
       "    }\n",
       "\n",
       "    .dataframe thead th {\n",
       "        text-align: right;\n",
       "    }\n",
       "</style>\n",
       "<table border=\"1\" class=\"dataframe\">\n",
       "  <thead>\n",
       "    <tr style=\"text-align: right;\">\n",
       "      <th></th>\n",
       "      <th>Model</th>\n",
       "      <th>CV Accuracy</th>\n",
       "      <th>CV MPCA</th>\n",
       "      <th>CV F1_weighted</th>\n",
       "    </tr>\n",
       "  </thead>\n",
       "  <tbody>\n",
       "    <tr>\n",
       "      <th>0</th>\n",
       "      <td>DecisionTreeClassifier</td>\n",
       "      <td>0.783153</td>\n",
       "      <td>0.783158</td>\n",
       "      <td>0.782461</td>\n",
       "    </tr>\n",
       "    <tr>\n",
       "      <th>1</th>\n",
       "      <td>RandomForestClassifier</td>\n",
       "      <td>0.783059</td>\n",
       "      <td>0.783064</td>\n",
       "      <td>0.782365</td>\n",
       "    </tr>\n",
       "    <tr>\n",
       "      <th>2</th>\n",
       "      <td>svm.SVC</td>\n",
       "      <td>0.783153</td>\n",
       "      <td>0.783158</td>\n",
       "      <td>0.782461</td>\n",
       "    </tr>\n",
       "    <tr>\n",
       "      <th>3</th>\n",
       "      <td>KNeighborsClassifier</td>\n",
       "      <td>0.737026</td>\n",
       "      <td>0.737036</td>\n",
       "      <td>0.734566</td>\n",
       "    </tr>\n",
       "    <tr>\n",
       "      <th>4</th>\n",
       "      <td>svm_linear.SVC</td>\n",
       "      <td>0.783153</td>\n",
       "      <td>0.783158</td>\n",
       "      <td>0.782461</td>\n",
       "    </tr>\n",
       "  </tbody>\n",
       "</table>\n",
       "</div>"
      ],
      "text/plain": [
       "                    Model  CV Accuracy   CV MPCA  CV F1_weighted\n",
       "0  DecisionTreeClassifier     0.783153  0.783158        0.782461\n",
       "1  RandomForestClassifier     0.783059  0.783064        0.782365\n",
       "2                 svm.SVC     0.783153  0.783158        0.782461\n",
       "3    KNeighborsClassifier     0.737026  0.737036        0.734566\n",
       "4          svm_linear.SVC     0.783153  0.783158        0.782461"
      ]
     },
     "execution_count": 72,
     "metadata": {},
     "output_type": "execute_result"
    }
   ],
   "source": [
    "comval"
   ]
  },
  {
   "cell_type": "code",
   "execution_count": 73,
   "id": "6f2d1c11",
   "metadata": {},
   "outputs": [
    {
     "data": {
      "text/html": [
       "<div>\n",
       "<style scoped>\n",
       "    .dataframe tbody tr th:only-of-type {\n",
       "        vertical-align: middle;\n",
       "    }\n",
       "\n",
       "    .dataframe tbody tr th {\n",
       "        vertical-align: top;\n",
       "    }\n",
       "\n",
       "    .dataframe thead th {\n",
       "        text-align: right;\n",
       "    }\n",
       "</style>\n",
       "<table border=\"1\" class=\"dataframe\">\n",
       "  <thead>\n",
       "    <tr style=\"text-align: right;\">\n",
       "      <th></th>\n",
       "      <th>Model</th>\n",
       "      <th>Accuracy</th>\n",
       "      <th>MPCA</th>\n",
       "      <th>F1_weighted</th>\n",
       "      <th>Misclassification_Cost</th>\n",
       "      <th>unique predictions</th>\n",
       "    </tr>\n",
       "  </thead>\n",
       "  <tbody>\n",
       "    <tr>\n",
       "      <th>0</th>\n",
       "      <td>DecisionTreeClassifier</td>\n",
       "      <td>0.787810</td>\n",
       "      <td>0.786460</td>\n",
       "      <td>0.786973</td>\n",
       "      <td>0.212190</td>\n",
       "      <td>[0.0, 1.0]</td>\n",
       "    </tr>\n",
       "    <tr>\n",
       "      <th>1</th>\n",
       "      <td>RandomForestClassifier</td>\n",
       "      <td>0.786682</td>\n",
       "      <td>0.785304</td>\n",
       "      <td>0.785808</td>\n",
       "      <td>0.213318</td>\n",
       "      <td>[0.0, 1.0]</td>\n",
       "    </tr>\n",
       "    <tr>\n",
       "      <th>2</th>\n",
       "      <td>svm.SVC</td>\n",
       "      <td>0.787810</td>\n",
       "      <td>0.786460</td>\n",
       "      <td>0.786973</td>\n",
       "      <td>0.212190</td>\n",
       "      <td>[0.0, 1.0]</td>\n",
       "    </tr>\n",
       "    <tr>\n",
       "      <th>3</th>\n",
       "      <td>KNeighborsClassifier</td>\n",
       "      <td>0.698646</td>\n",
       "      <td>0.695639</td>\n",
       "      <td>0.693369</td>\n",
       "      <td>0.301354</td>\n",
       "      <td>[0.0, 1.0]</td>\n",
       "    </tr>\n",
       "    <tr>\n",
       "      <th>4</th>\n",
       "      <td>svm_linear.SVC</td>\n",
       "      <td>0.787810</td>\n",
       "      <td>0.786460</td>\n",
       "      <td>0.786973</td>\n",
       "      <td>0.212190</td>\n",
       "      <td>[0.0, 1.0]</td>\n",
       "    </tr>\n",
       "  </tbody>\n",
       "</table>\n",
       "</div>"
      ],
      "text/plain": [
       "                    Model  Accuracy      MPCA  F1_weighted  \\\n",
       "0  DecisionTreeClassifier  0.787810  0.786460     0.786973   \n",
       "1  RandomForestClassifier  0.786682  0.785304     0.785808   \n",
       "2                 svm.SVC  0.787810  0.786460     0.786973   \n",
       "3    KNeighborsClassifier  0.698646  0.695639     0.693369   \n",
       "4          svm_linear.SVC  0.787810  0.786460     0.786973   \n",
       "\n",
       "   Misclassification_Cost unique predictions  \n",
       "0                0.212190         [0.0, 1.0]  \n",
       "1                0.213318         [0.0, 1.0]  \n",
       "2                0.212190         [0.0, 1.0]  \n",
       "3                0.301354         [0.0, 1.0]  \n",
       "4                0.212190         [0.0, 1.0]  "
      ]
     },
     "execution_count": 73,
     "metadata": {},
     "output_type": "execute_result"
    }
   ],
   "source": [
    "commdl"
   ]
  },
  {
   "cell_type": "code",
   "execution_count": 75,
   "id": "7f3726f5",
   "metadata": {},
   "outputs": [
    {
     "name": "stdout",
     "output_type": "stream",
     "text": [
      "DecisionTreeClassifier\n",
      "[0. 1.]\n",
      "              precision    recall  f1-score   support\n",
      "\n",
      "         0.0       0.67      0.75      0.71       907\n",
      "         1.0       0.70      0.61      0.65       865\n",
      "\n",
      "    accuracy                           0.68      1772\n",
      "   macro avg       0.68      0.68      0.68      1772\n",
      "weighted avg       0.68      0.68      0.68      1772\n",
      "\n",
      "[[684 223]\n",
      " [340 525]]\n",
      "[[684 223]\n",
      " [340 525]]\n",
      "RandomForestClassifier\n",
      "[0. 1.]\n",
      "              precision    recall  f1-score   support\n",
      "\n",
      "         0.0       0.65      0.64      0.64       907\n",
      "         1.0       0.63      0.64      0.63       865\n",
      "\n",
      "    accuracy                           0.64      1772\n",
      "   macro avg       0.64      0.64      0.64      1772\n",
      "weighted avg       0.64      0.64      0.64      1772\n",
      "\n",
      "[[580 327]\n",
      " [315 550]]\n",
      "[[580 327]\n",
      " [315 550]]\n",
      "svm.SVC\n",
      "[0. 1.]\n",
      "              precision    recall  f1-score   support\n",
      "\n",
      "         0.0       0.69      0.72      0.70       907\n",
      "         1.0       0.69      0.66      0.67       865\n",
      "\n",
      "    accuracy                           0.69      1772\n",
      "   macro avg       0.69      0.69      0.69      1772\n",
      "weighted avg       0.69      0.69      0.69      1772\n",
      "\n",
      "[[650 257]\n",
      " [297 568]]\n",
      "[[650 257]\n",
      " [297 568]]\n",
      "KNeighborsClassifier\n",
      "[0. 1.]\n",
      "              precision    recall  f1-score   support\n",
      "\n",
      "         0.0       0.61      0.78      0.68       907\n",
      "         1.0       0.67      0.48      0.56       865\n",
      "\n",
      "    accuracy                           0.63      1772\n",
      "   macro avg       0.64      0.63      0.62      1772\n",
      "weighted avg       0.64      0.63      0.62      1772\n",
      "\n",
      "[[705 202]\n",
      " [452 413]]\n",
      "[[705 202]\n",
      " [452 413]]\n",
      "svm_linear.SVC\n",
      "[0. 1.]\n",
      "              precision    recall  f1-score   support\n",
      "\n",
      "         0.0       0.69      0.72      0.70       907\n",
      "         1.0       0.69      0.66      0.67       865\n",
      "\n",
      "    accuracy                           0.69      1772\n",
      "   macro avg       0.69      0.69      0.69      1772\n",
      "weighted avg       0.69      0.69      0.69      1772\n",
      "\n",
      "[[651 256]\n",
      " [294 571]]\n",
      "[[651 256]\n",
      " [294 571]]\n"
     ]
    }
   ],
   "source": [
    "defval,defmdl,mdl = classifier(X_def,y_def,42)"
   ]
  },
  {
   "cell_type": "code",
   "execution_count": 76,
   "id": "dac5b5b5",
   "metadata": {},
   "outputs": [
    {
     "name": "stdout",
     "output_type": "stream",
     "text": [
      "DecisionTreeClassifier\n",
      "[0. 1.]\n",
      "              precision    recall  f1-score   support\n",
      "\n",
      "         0.0       0.71      0.73      0.72       907\n",
      "         1.0       0.71      0.69      0.70       865\n",
      "\n",
      "    accuracy                           0.71      1772\n",
      "   macro avg       0.71      0.71      0.71      1772\n",
      "weighted avg       0.71      0.71      0.71      1772\n",
      "\n",
      "[[659 248]\n",
      " [271 594]]\n",
      "[[659 248]\n",
      " [271 594]]\n",
      "RandomForestClassifier\n",
      "[0. 1.]\n",
      "              precision    recall  f1-score   support\n",
      "\n",
      "         0.0       0.69      0.69      0.69       907\n",
      "         1.0       0.68      0.68      0.68       865\n",
      "\n",
      "    accuracy                           0.69      1772\n",
      "   macro avg       0.69      0.69      0.69      1772\n",
      "weighted avg       0.69      0.69      0.69      1772\n",
      "\n",
      "[[626 281]\n",
      " [275 590]]\n",
      "[[626 281]\n",
      " [275 590]]\n",
      "svm.SVC\n",
      "[0. 1.]\n",
      "              precision    recall  f1-score   support\n",
      "\n",
      "         0.0       0.73      0.71      0.72       907\n",
      "         1.0       0.70      0.72      0.71       865\n",
      "\n",
      "    accuracy                           0.72      1772\n",
      "   macro avg       0.72      0.72      0.72      1772\n",
      "weighted avg       0.72      0.72      0.72      1772\n",
      "\n",
      "[[645 262]\n",
      " [239 626]]\n",
      "[[645 262]\n",
      " [239 626]]\n",
      "KNeighborsClassifier\n",
      "[0. 1.]\n",
      "              precision    recall  f1-score   support\n",
      "\n",
      "         0.0       0.62      0.76      0.68       907\n",
      "         1.0       0.67      0.52      0.58       865\n",
      "\n",
      "    accuracy                           0.64      1772\n",
      "   macro avg       0.65      0.64      0.63      1772\n",
      "weighted avg       0.65      0.64      0.64      1772\n",
      "\n",
      "[[688 219]\n",
      " [417 448]]\n",
      "[[688 219]\n",
      " [417 448]]\n",
      "svm_linear.SVC\n",
      "[0. 1.]\n",
      "              precision    recall  f1-score   support\n",
      "\n",
      "         0.0       0.72      0.73      0.72       907\n",
      "         1.0       0.71      0.70      0.70       865\n",
      "\n",
      "    accuracy                           0.71      1772\n",
      "   macro avg       0.71      0.71      0.71      1772\n",
      "weighted avg       0.71      0.71      0.71      1772\n",
      "\n",
      "[[658 249]\n",
      " [260 605]]\n",
      "[[658 249]\n",
      " [260 605]]\n"
     ]
    }
   ],
   "source": [
    "offval,offmdl,mdl = classifier(X_off,y_off,42)"
   ]
  },
  {
   "cell_type": "code",
   "execution_count": 77,
   "id": "fae1758f",
   "metadata": {},
   "outputs": [
    {
     "data": {
      "text/html": [
       "<div>\n",
       "<style scoped>\n",
       "    .dataframe tbody tr th:only-of-type {\n",
       "        vertical-align: middle;\n",
       "    }\n",
       "\n",
       "    .dataframe tbody tr th {\n",
       "        vertical-align: top;\n",
       "    }\n",
       "\n",
       "    .dataframe thead th {\n",
       "        text-align: right;\n",
       "    }\n",
       "</style>\n",
       "<table border=\"1\" class=\"dataframe\">\n",
       "  <thead>\n",
       "    <tr style=\"text-align: right;\">\n",
       "      <th></th>\n",
       "      <th>Model</th>\n",
       "      <th>CV Accuracy</th>\n",
       "      <th>CV MPCA</th>\n",
       "      <th>CV F1_weighted</th>\n",
       "    </tr>\n",
       "  </thead>\n",
       "  <tbody>\n",
       "    <tr>\n",
       "      <th>0</th>\n",
       "      <td>DecisionTreeClassifier</td>\n",
       "      <td>0.671464</td>\n",
       "      <td>0.671451</td>\n",
       "      <td>0.670958</td>\n",
       "    </tr>\n",
       "    <tr>\n",
       "      <th>1</th>\n",
       "      <td>RandomForestClassifier</td>\n",
       "      <td>0.632571</td>\n",
       "      <td>0.632574</td>\n",
       "      <td>0.632449</td>\n",
       "    </tr>\n",
       "    <tr>\n",
       "      <th>2</th>\n",
       "      <td>svm.SVC</td>\n",
       "      <td>0.685573</td>\n",
       "      <td>0.685568</td>\n",
       "      <td>0.685281</td>\n",
       "    </tr>\n",
       "    <tr>\n",
       "      <th>3</th>\n",
       "      <td>KNeighborsClassifier</td>\n",
       "      <td>0.628058</td>\n",
       "      <td>0.628057</td>\n",
       "      <td>0.620961</td>\n",
       "    </tr>\n",
       "    <tr>\n",
       "      <th>4</th>\n",
       "      <td>svm_linear.SVC</td>\n",
       "      <td>0.687454</td>\n",
       "      <td>0.687451</td>\n",
       "      <td>0.687279</td>\n",
       "    </tr>\n",
       "  </tbody>\n",
       "</table>\n",
       "</div>"
      ],
      "text/plain": [
       "                    Model  CV Accuracy   CV MPCA  CV F1_weighted\n",
       "0  DecisionTreeClassifier     0.671464  0.671451        0.670958\n",
       "1  RandomForestClassifier     0.632571  0.632574        0.632449\n",
       "2                 svm.SVC     0.685573  0.685568        0.685281\n",
       "3    KNeighborsClassifier     0.628058  0.628057        0.620961\n",
       "4          svm_linear.SVC     0.687454  0.687451        0.687279"
      ]
     },
     "execution_count": 77,
     "metadata": {},
     "output_type": "execute_result"
    }
   ],
   "source": [
    "defval"
   ]
  },
  {
   "cell_type": "code",
   "execution_count": 78,
   "id": "10b55a40",
   "metadata": {},
   "outputs": [
    {
     "data": {
      "text/html": [
       "<div>\n",
       "<style scoped>\n",
       "    .dataframe tbody tr th:only-of-type {\n",
       "        vertical-align: middle;\n",
       "    }\n",
       "\n",
       "    .dataframe tbody tr th {\n",
       "        vertical-align: top;\n",
       "    }\n",
       "\n",
       "    .dataframe thead th {\n",
       "        text-align: right;\n",
       "    }\n",
       "</style>\n",
       "<table border=\"1\" class=\"dataframe\">\n",
       "  <thead>\n",
       "    <tr style=\"text-align: right;\">\n",
       "      <th></th>\n",
       "      <th>Model</th>\n",
       "      <th>Accuracy</th>\n",
       "      <th>MPCA</th>\n",
       "      <th>F1_weighted</th>\n",
       "      <th>Misclassification_Cost</th>\n",
       "      <th>unique predictions</th>\n",
       "    </tr>\n",
       "  </thead>\n",
       "  <tbody>\n",
       "    <tr>\n",
       "      <th>0</th>\n",
       "      <td>DecisionTreeClassifier</td>\n",
       "      <td>0.682280</td>\n",
       "      <td>0.680535</td>\n",
       "      <td>0.680382</td>\n",
       "      <td>0.317720</td>\n",
       "      <td>[0.0, 1.0]</td>\n",
       "    </tr>\n",
       "    <tr>\n",
       "      <th>1</th>\n",
       "      <td>RandomForestClassifier</td>\n",
       "      <td>0.637698</td>\n",
       "      <td>0.637654</td>\n",
       "      <td>0.637739</td>\n",
       "      <td>0.362302</td>\n",
       "      <td>[0.0, 1.0]</td>\n",
       "    </tr>\n",
       "    <tr>\n",
       "      <th>2</th>\n",
       "      <td>svm.SVC</td>\n",
       "      <td>0.687359</td>\n",
       "      <td>0.686648</td>\n",
       "      <td>0.687032</td>\n",
       "      <td>0.312641</td>\n",
       "      <td>[0.0, 1.0]</td>\n",
       "    </tr>\n",
       "    <tr>\n",
       "      <th>3</th>\n",
       "      <td>KNeighborsClassifier</td>\n",
       "      <td>0.630926</td>\n",
       "      <td>0.627372</td>\n",
       "      <td>0.622106</td>\n",
       "      <td>0.369074</td>\n",
       "      <td>[0.0, 1.0]</td>\n",
       "    </tr>\n",
       "    <tr>\n",
       "      <th>4</th>\n",
       "      <td>svm_linear.SVC</td>\n",
       "      <td>0.689616</td>\n",
       "      <td>0.688933</td>\n",
       "      <td>0.689315</td>\n",
       "      <td>0.310384</td>\n",
       "      <td>[0.0, 1.0]</td>\n",
       "    </tr>\n",
       "  </tbody>\n",
       "</table>\n",
       "</div>"
      ],
      "text/plain": [
       "                    Model  Accuracy      MPCA  F1_weighted  \\\n",
       "0  DecisionTreeClassifier  0.682280  0.680535     0.680382   \n",
       "1  RandomForestClassifier  0.637698  0.637654     0.637739   \n",
       "2                 svm.SVC  0.687359  0.686648     0.687032   \n",
       "3    KNeighborsClassifier  0.630926  0.627372     0.622106   \n",
       "4          svm_linear.SVC  0.689616  0.688933     0.689315   \n",
       "\n",
       "   Misclassification_Cost unique predictions  \n",
       "0                0.317720         [0.0, 1.0]  \n",
       "1                0.362302         [0.0, 1.0]  \n",
       "2                0.312641         [0.0, 1.0]  \n",
       "3                0.369074         [0.0, 1.0]  \n",
       "4                0.310384         [0.0, 1.0]  "
      ]
     },
     "execution_count": 78,
     "metadata": {},
     "output_type": "execute_result"
    }
   ],
   "source": [
    "defmdl"
   ]
  },
  {
   "cell_type": "code",
   "execution_count": 79,
   "id": "5b06db35",
   "metadata": {},
   "outputs": [
    {
     "data": {
      "text/html": [
       "<div>\n",
       "<style scoped>\n",
       "    .dataframe tbody tr th:only-of-type {\n",
       "        vertical-align: middle;\n",
       "    }\n",
       "\n",
       "    .dataframe tbody tr th {\n",
       "        vertical-align: top;\n",
       "    }\n",
       "\n",
       "    .dataframe thead th {\n",
       "        text-align: right;\n",
       "    }\n",
       "</style>\n",
       "<table border=\"1\" class=\"dataframe\">\n",
       "  <thead>\n",
       "    <tr style=\"text-align: right;\">\n",
       "      <th></th>\n",
       "      <th>Model</th>\n",
       "      <th>CV Accuracy</th>\n",
       "      <th>CV MPCA</th>\n",
       "      <th>CV F1_weighted</th>\n",
       "    </tr>\n",
       "  </thead>\n",
       "  <tbody>\n",
       "    <tr>\n",
       "      <th>0</th>\n",
       "      <td>DecisionTreeClassifier</td>\n",
       "      <td>0.706170</td>\n",
       "      <td>0.706174</td>\n",
       "      <td>0.705685</td>\n",
       "    </tr>\n",
       "    <tr>\n",
       "      <th>1</th>\n",
       "      <td>RandomForestClassifier</td>\n",
       "      <td>0.683500</td>\n",
       "      <td>0.683498</td>\n",
       "      <td>0.683387</td>\n",
       "    </tr>\n",
       "    <tr>\n",
       "      <th>2</th>\n",
       "      <td>svm.SVC</td>\n",
       "      <td>0.708990</td>\n",
       "      <td>0.708990</td>\n",
       "      <td>0.708902</td>\n",
       "    </tr>\n",
       "    <tr>\n",
       "      <th>3</th>\n",
       "      <td>KNeighborsClassifier</td>\n",
       "      <td>0.636049</td>\n",
       "      <td>0.636048</td>\n",
       "      <td>0.630606</td>\n",
       "    </tr>\n",
       "    <tr>\n",
       "      <th>4</th>\n",
       "      <td>svm_linear.SVC</td>\n",
       "      <td>0.711907</td>\n",
       "      <td>0.711911</td>\n",
       "      <td>0.711833</td>\n",
       "    </tr>\n",
       "  </tbody>\n",
       "</table>\n",
       "</div>"
      ],
      "text/plain": [
       "                    Model  CV Accuracy   CV MPCA  CV F1_weighted\n",
       "0  DecisionTreeClassifier     0.706170  0.706174        0.705685\n",
       "1  RandomForestClassifier     0.683500  0.683498        0.683387\n",
       "2                 svm.SVC     0.708990  0.708990        0.708902\n",
       "3    KNeighborsClassifier     0.636049  0.636048        0.630606\n",
       "4          svm_linear.SVC     0.711907  0.711911        0.711833"
      ]
     },
     "execution_count": 79,
     "metadata": {},
     "output_type": "execute_result"
    }
   ],
   "source": [
    "offval"
   ]
  },
  {
   "cell_type": "code",
   "execution_count": 80,
   "id": "8e26ec76",
   "metadata": {},
   "outputs": [
    {
     "data": {
      "text/html": [
       "<div>\n",
       "<style scoped>\n",
       "    .dataframe tbody tr th:only-of-type {\n",
       "        vertical-align: middle;\n",
       "    }\n",
       "\n",
       "    .dataframe tbody tr th {\n",
       "        vertical-align: top;\n",
       "    }\n",
       "\n",
       "    .dataframe thead th {\n",
       "        text-align: right;\n",
       "    }\n",
       "</style>\n",
       "<table border=\"1\" class=\"dataframe\">\n",
       "  <thead>\n",
       "    <tr style=\"text-align: right;\">\n",
       "      <th></th>\n",
       "      <th>Model</th>\n",
       "      <th>Accuracy</th>\n",
       "      <th>MPCA</th>\n",
       "      <th>F1_weighted</th>\n",
       "      <th>Misclassification_Cost</th>\n",
       "      <th>unique predictions</th>\n",
       "    </tr>\n",
       "  </thead>\n",
       "  <tbody>\n",
       "    <tr>\n",
       "      <th>0</th>\n",
       "      <td>DecisionTreeClassifier</td>\n",
       "      <td>0.707111</td>\n",
       "      <td>0.706638</td>\n",
       "      <td>0.706971</td>\n",
       "      <td>0.292889</td>\n",
       "      <td>[0.0, 1.0]</td>\n",
       "    </tr>\n",
       "    <tr>\n",
       "      <th>1</th>\n",
       "      <td>RandomForestClassifier</td>\n",
       "      <td>0.686230</td>\n",
       "      <td>0.686134</td>\n",
       "      <td>0.686252</td>\n",
       "      <td>0.313770</td>\n",
       "      <td>[0.0, 1.0]</td>\n",
       "    </tr>\n",
       "    <tr>\n",
       "      <th>2</th>\n",
       "      <td>svm.SVC</td>\n",
       "      <td>0.717269</td>\n",
       "      <td>0.717418</td>\n",
       "      <td>0.717308</td>\n",
       "      <td>0.282731</td>\n",
       "      <td>[0.0, 1.0]</td>\n",
       "    </tr>\n",
       "    <tr>\n",
       "      <th>3</th>\n",
       "      <td>KNeighborsClassifier</td>\n",
       "      <td>0.641084</td>\n",
       "      <td>0.638232</td>\n",
       "      <td>0.635550</td>\n",
       "      <td>0.358916</td>\n",
       "      <td>[0.0, 1.0]</td>\n",
       "    </tr>\n",
       "    <tr>\n",
       "      <th>4</th>\n",
       "      <td>svm_linear.SVC</td>\n",
       "      <td>0.712754</td>\n",
       "      <td>0.712445</td>\n",
       "      <td>0.712701</td>\n",
       "      <td>0.287246</td>\n",
       "      <td>[0.0, 1.0]</td>\n",
       "    </tr>\n",
       "  </tbody>\n",
       "</table>\n",
       "</div>"
      ],
      "text/plain": [
       "                    Model  Accuracy      MPCA  F1_weighted  \\\n",
       "0  DecisionTreeClassifier  0.707111  0.706638     0.706971   \n",
       "1  RandomForestClassifier  0.686230  0.686134     0.686252   \n",
       "2                 svm.SVC  0.717269  0.717418     0.717308   \n",
       "3    KNeighborsClassifier  0.641084  0.638232     0.635550   \n",
       "4          svm_linear.SVC  0.712754  0.712445     0.712701   \n",
       "\n",
       "   Misclassification_Cost unique predictions  \n",
       "0                0.292889         [0.0, 1.0]  \n",
       "1                0.313770         [0.0, 1.0]  \n",
       "2                0.282731         [0.0, 1.0]  \n",
       "3                0.358916         [0.0, 1.0]  \n",
       "4                0.287246         [0.0, 1.0]  "
      ]
     },
     "execution_count": 80,
     "metadata": {},
     "output_type": "execute_result"
    }
   ],
   "source": [
    "offmdl"
   ]
  },
  {
   "cell_type": "code",
   "execution_count": 81,
   "id": "26c84eb5",
   "metadata": {},
   "outputs": [],
   "source": [
    "# train and save the best performing model (althought the combined model was the best, I will use the offensive stats model since it requires fewer inputs to make a prediction and this will make for a more user-friendly UI)\n",
    "best_model = svm.SVC(kernel=\"rbf\",probability=True).fit(X_off, y_off) "
   ]
  },
  {
   "cell_type": "code",
   "execution_count": 84,
   "id": "b774d68e",
   "metadata": {},
   "outputs": [
    {
     "data": {
      "text/html": [
       "<div>\n",
       "<style scoped>\n",
       "    .dataframe tbody tr th:only-of-type {\n",
       "        vertical-align: middle;\n",
       "    }\n",
       "\n",
       "    .dataframe tbody tr th {\n",
       "        vertical-align: top;\n",
       "    }\n",
       "\n",
       "    .dataframe thead th {\n",
       "        text-align: right;\n",
       "    }\n",
       "</style>\n",
       "<table border=\"1\" class=\"dataframe\">\n",
       "  <thead>\n",
       "    <tr style=\"text-align: right;\">\n",
       "      <th></th>\n",
       "      <th>sumfg</th>\n",
       "      <th>sumfg3</th>\n",
       "      <th>sumft</th>\n",
       "      <th>sumorb</th>\n",
       "      <th>sumast</th>\n",
       "      <th>sumpts</th>\n",
       "    </tr>\n",
       "  </thead>\n",
       "  <tbody>\n",
       "    <tr>\n",
       "      <th>0</th>\n",
       "      <td>0.216495</td>\n",
       "      <td>0.243243</td>\n",
       "      <td>0.215385</td>\n",
       "      <td>0.34375</td>\n",
       "      <td>0.250000</td>\n",
       "      <td>0.161826</td>\n",
       "    </tr>\n",
       "    <tr>\n",
       "      <th>1</th>\n",
       "      <td>0.164948</td>\n",
       "      <td>0.297297</td>\n",
       "      <td>0.184615</td>\n",
       "      <td>0.28125</td>\n",
       "      <td>0.187500</td>\n",
       "      <td>0.120332</td>\n",
       "    </tr>\n",
       "    <tr>\n",
       "      <th>2</th>\n",
       "      <td>0.226804</td>\n",
       "      <td>0.459459</td>\n",
       "      <td>0.215385</td>\n",
       "      <td>0.50000</td>\n",
       "      <td>0.343750</td>\n",
       "      <td>0.203320</td>\n",
       "    </tr>\n",
       "    <tr>\n",
       "      <th>3</th>\n",
       "      <td>0.216495</td>\n",
       "      <td>0.324324</td>\n",
       "      <td>0.446154</td>\n",
       "      <td>0.50000</td>\n",
       "      <td>0.234375</td>\n",
       "      <td>0.236515</td>\n",
       "    </tr>\n",
       "    <tr>\n",
       "      <th>4</th>\n",
       "      <td>0.278351</td>\n",
       "      <td>0.351351</td>\n",
       "      <td>0.184615</td>\n",
       "      <td>0.31250</td>\n",
       "      <td>0.171875</td>\n",
       "      <td>0.219917</td>\n",
       "    </tr>\n",
       "  </tbody>\n",
       "</table>\n",
       "</div>"
      ],
      "text/plain": [
       "      sumfg    sumfg3     sumft   sumorb    sumast    sumpts\n",
       "0  0.216495  0.243243  0.215385  0.34375  0.250000  0.161826\n",
       "1  0.164948  0.297297  0.184615  0.28125  0.187500  0.120332\n",
       "2  0.226804  0.459459  0.215385  0.50000  0.343750  0.203320\n",
       "3  0.216495  0.324324  0.446154  0.50000  0.234375  0.236515\n",
       "4  0.278351  0.351351  0.184615  0.31250  0.171875  0.219917"
      ]
     },
     "execution_count": 84,
     "metadata": {},
     "output_type": "execute_result"
    }
   ],
   "source": [
    "X_off.head()"
   ]
  },
  {
   "cell_type": "code",
   "execution_count": 85,
   "id": "7f134a67",
   "metadata": {},
   "outputs": [],
   "source": [
    "prediction = best_model.predict_proba(np.array(X_off.iloc[2,:]).reshape(-1,6))"
   ]
  },
  {
   "cell_type": "code",
   "execution_count": 89,
   "id": "34a8557f",
   "metadata": {},
   "outputs": [
    {
     "data": {
      "text/plain": [
       "array([0., 1.])"
      ]
     },
     "execution_count": 89,
     "metadata": {},
     "output_type": "execute_result"
    }
   ],
   "source": [
    "best_model.classes_"
   ]
  },
  {
   "cell_type": "code",
   "execution_count": 93,
   "id": "a7cbb2d5",
   "metadata": {},
   "outputs": [
    {
     "data": {
      "text/plain": [
       "80.0"
      ]
     },
     "execution_count": 93,
     "metadata": {},
     "output_type": "execute_result"
    }
   ],
   "source": [
    "np.round(prediction[0][1]*100)"
   ]
  },
  {
   "cell_type": "markdown",
   "id": "c8cac370",
   "metadata": {},
   "source": [
    "# Save Model"
   ]
  },
  {
   "cell_type": "code",
   "execution_count": 83,
   "id": "ec8e6693",
   "metadata": {},
   "outputs": [
    {
     "data": {
      "text/plain": [
       "['offensive_stats_model.pkl']"
      ]
     },
     "execution_count": 83,
     "metadata": {},
     "output_type": "execute_result"
    }
   ],
   "source": [
    "import joblib\n",
    "\n",
    "joblib.dump(best_model,'offensive_stats_model.pkl')"
   ]
  },
  {
   "cell_type": "markdown",
   "id": "065f2cfa",
   "metadata": {},
   "source": [
    "# Supplemental Code"
   ]
  },
  {
   "cell_type": "code",
   "execution_count": 141,
   "id": "67fdfbac",
   "metadata": {},
   "outputs": [
    {
     "name": "stdout",
     "output_type": "stream",
     "text": [
      "Counter({0: 2692, 1: 2624})\n",
      "Counter({1: 920, 0: 852})\n",
      "Accuracy on test set: 0.6360045146726863\n",
      "              precision    recall  f1-score   support\n",
      "\n",
      "           0       0.65      0.54      0.59       852\n",
      "           1       0.63      0.73      0.67       920\n",
      "\n",
      "    accuracy                           0.64      1772\n",
      "   macro avg       0.64      0.63      0.63      1772\n",
      "weighted avg       0.64      0.64      0.63      1772\n",
      "\n",
      "Counter({0: 2692, 1: 2624})\n",
      "Counter({1: 920, 0: 852})\n",
      "Accuracy on test set: 0.6783295711060948\n",
      "              precision    recall  f1-score   support\n",
      "\n",
      "           0       0.68      0.62      0.65       852\n",
      "           1       0.68      0.73      0.70       920\n",
      "\n",
      "    accuracy                           0.68      1772\n",
      "   macro avg       0.68      0.68      0.68      1772\n",
      "weighted avg       0.68      0.68      0.68      1772\n",
      "\n",
      "Counter({0: 2692, 1: 2624})\n",
      "Counter({1: 920, 0: 852})\n",
      "Accuracy on test set: 0.79627539503386\n",
      "              precision    recall  f1-score   support\n",
      "\n",
      "           0       0.75      0.86      0.80       852\n",
      "           1       0.85      0.74      0.79       920\n",
      "\n",
      "    accuracy                           0.80      1772\n",
      "   macro avg       0.80      0.80      0.80      1772\n",
      "weighted avg       0.80      0.80      0.80      1772\n",
      "\n"
     ]
    }
   ],
   "source": [
    "'''\n",
    "for df in scaled_df_lst:\n",
    "    \n",
    "\n",
    "    #define predictor and response variables\n",
    "    X = df.drop(columns= ['outcome'],axis=1) #predictors\n",
    "    y = df['outcome']              #response\n",
    "\n",
    "    # convert class label column to int type\n",
    "    y = y.astype(np.int_)\n",
    "\n",
    "    from sklearn.model_selection import train_test_split as tts\n",
    "\n",
    "    X_train, X_test, y_train, y_test = tts(X,y,random_state=3) \n",
    "\n",
    "    from collections import Counter\n",
    "\n",
    "    train_count = Counter(y_train)\n",
    "    test_count = Counter(y_test)\n",
    "\n",
    "    print(train_count)\n",
    "    print(test_count)\n",
    "\n",
    "\n",
    "    #define model\n",
    "    svc = SVC(kernel='rbf')\n",
    "\n",
    "    model = svc.fit(X_train, y_train)\n",
    "\n",
    "    y_pred = model.predict(X_test)\n",
    "    accuracy = accuracy_score(y_test, y_pred)\n",
    "\n",
    "    print(f\"Accuracy on test set: {accuracy}\")\n",
    "\n",
    "    from sklearn.metrics import classification_report\n",
    "\n",
    "    #Precision, recall, f1-score and support\n",
    "    print(classification_report(y_test, y_pred))\n",
    "'''"
   ]
  },
  {
   "cell_type": "code",
   "execution_count": 33,
   "id": "19828514",
   "metadata": {
    "scrolled": true
   },
   "outputs": [
    {
     "name": "stdout",
     "output_type": "stream",
     "text": [
      "#NAME?\n",
      "game_id                                     201912260SAC\n",
      "game_date                            2019-12-26 00:00:00\n",
      "OT                                                     2\n",
      "H_A                                                    H\n",
      "Team_Abbrev                                          SAC\n",
      "Team_Score                                           104\n",
      "Team_pace                                           92.7\n",
      "Team_efg_pct                                       0.388\n",
      "Team_tov_pct                                         9.2\n",
      "Team_orb_pct                                        23.9\n",
      "Team_ft_rate                                       0.196\n",
      "Team_off_rtg                                        92.8\n",
      "Opponent_Abbrev                                      MIN\n",
      "Opponent_Score                                       105\n",
      "Opponent_pace                                       92.7\n",
      "Opponent_efg_pct                                   0.394\n",
      "Opponent_tov_pct                                    10.0\n",
      "Opponent_orb_pct                                    21.5\n",
      "Opponent_ft_rate                                   0.221\n",
      "Opponent_off_rtg                                    93.7\n",
      "player                                      Justin James\n",
      "player_id                                      jamesju01\n",
      "starter                                                0\n",
      "mp                                                  0:00\n",
      "fg                                                     0\n",
      "fga                                                    0\n",
      "fg_pct                                               0.0\n",
      "fg3                                                    0\n",
      "fg3a                                                   0\n",
      "fg3_pct                                              0.0\n",
      "ft                                                     0\n",
      "fta                                                    0\n",
      "ft_pct                                               0.0\n",
      "orb                                                    0\n",
      "drb                                                    0\n",
      "trb                                                    0\n",
      "ast                                                    0\n",
      "stl                                                    0\n",
      "blk                                                    0\n",
      "tov                                                    1\n",
      "pf                                                     0\n",
      "pts                                                    0\n",
      "plus_minus                                             0\n",
      "did_not_play                                           0\n",
      "is_inactive                                            0\n",
      "ts_pct                                               0.0\n",
      "efg_pct                                              0.0\n",
      "fg3a_per_fga_pct                                     0.0\n",
      "fta_per_fga_pct                                      0.0\n",
      "orb_pct                                              0.0\n",
      "drb_pct                                              0.0\n",
      "trb_pct                                              0.0\n",
      "ast_pct                                              0.0\n",
      "stl_pct                                              0.0\n",
      "blk_pct                                              0.0\n",
      "tov_pct                                            100.0\n",
      "usg_pct                                              0.0\n",
      "off_rtg                                                0\n",
      "def_rtg                                                0\n",
      "bpm                                                 -8.9\n",
      "season                                              2020\n",
      "minutes                                              0.0\n",
      "double_double                                          0\n",
      "triple_double                                          0\n",
      "DKP                                                 -0.5\n",
      "FDP                                                 -1.0\n",
      "SDP                                                 -1.0\n",
      "DKP_per_minute                                    #NAME?\n",
      "FDP_per_minute                                    #NAME?\n",
      "SDP_per_minute                                    #NAME?\n",
      "pf_per_minute                                        NaN\n",
      "ts                                                   0.0\n",
      "last_60_minutes_per_game_starting               10.38033\n",
      "last_60_minutes_per_game_bench                  6.029487\n",
      "PG%                                                  0.0\n",
      "SG%                                                 19.0\n",
      "SF%                                                 70.0\n",
      "PF%                                                 10.0\n",
      "C%                                                   1.0\n",
      "active_position_minutes                        57.047569\n",
      "duplicate                                          False\n",
      "outcome                                                0\n",
      "no_inactives                                           4\n",
      "min_played                                             0\n",
      "Name: 105768, dtype: object\n",
      "could not convert string to float: '#NAME?'\n"
     ]
    }
   ],
   "source": [
    "'''\n",
    "#Find what error value is in the 'DKP_per_minute' field\n",
    "for i in range(0,df_full.shape[0]):\n",
    "    try:\n",
    "        float(df_full['DKP_per_minute'][i])      \n",
    "    except ValueError as e:\n",
    "        print(df_full['DKP_per_minute'][i])\n",
    "        print(df_full.iloc[i])\n",
    "        print(e)\n",
    "        \n",
    "'''"
   ]
  }
 ],
 "metadata": {
  "kernelspec": {
   "display_name": "Python 3",
   "language": "python",
   "name": "python3"
  },
  "language_info": {
   "codemirror_mode": {
    "name": "ipython",
    "version": 3
   },
   "file_extension": ".py",
   "mimetype": "text/x-python",
   "name": "python",
   "nbconvert_exporter": "python",
   "pygments_lexer": "ipython3",
   "version": "3.6.12"
  }
 },
 "nbformat": 4,
 "nbformat_minor": 5
}
