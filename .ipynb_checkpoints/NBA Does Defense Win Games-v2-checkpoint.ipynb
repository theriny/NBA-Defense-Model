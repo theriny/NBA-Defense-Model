{
 "cells": [
  {
   "cell_type": "markdown",
   "id": "3b417b0a",
   "metadata": {},
   "source": [
    "https://www.advancedsportsanalytics.com/nba-raw-data\n",
    "\n",
    "NBA Seasons 2019-2022"
   ]
  },
  {
   "cell_type": "code",
   "execution_count": 2,
   "id": "3e0bc3d9",
   "metadata": {},
   "outputs": [],
   "source": [
    "import pandas as pd\n",
    "pd.set_option('display.max_rows', None)\n",
    "pd.set_option('display.max_columns', None)\n",
    "import seaborn as sns\n",
    "import matplotlib.pyplot as plt\n",
    "from sklearn.preprocessing import MinMaxScaler"
   ]
  },
  {
   "cell_type": "markdown",
   "id": "189f2639",
   "metadata": {},
   "source": [
    "# 1. Data Wrangling & Cleaning"
   ]
  },
  {
   "cell_type": "code",
   "execution_count": 3,
   "id": "14b1d758",
   "metadata": {},
   "outputs": [],
   "source": [
    "# read data source\n",
    "df_full = pd.read_csv('ASA All NBA Raw Data.csv',usecols=['game_date','Team_Abbrev','Team_Score','Opponent_Score','Opponent_Abbrev','game_id','drb','stl','blk'])"
   ]
  },
  {
   "cell_type": "code",
   "execution_count": 4,
   "id": "9eebc791",
   "metadata": {},
   "outputs": [
    {
     "data": {
      "text/plain": [
       "(121107, 9)"
      ]
     },
     "execution_count": 4,
     "metadata": {},
     "output_type": "execute_result"
    }
   ],
   "source": [
    "df_full.shape"
   ]
  },
  {
   "cell_type": "markdown",
   "id": "4738b3a6",
   "metadata": {},
   "source": [
    "### Remove Duplicate Rows"
   ]
  },
  {
   "cell_type": "code",
   "execution_count": 5,
   "id": "3d2020b3",
   "metadata": {},
   "outputs": [],
   "source": [
    "#identify duplicate rows by boolean (True = duplicate, False = not duplicate)\n",
    "df_duplicates = df_full.duplicated()"
   ]
  },
  {
   "cell_type": "code",
   "execution_count": 6,
   "id": "824424ac",
   "metadata": {},
   "outputs": [
    {
     "data": {
      "text/plain": [
       "(121107,)"
      ]
     },
     "execution_count": 6,
     "metadata": {},
     "output_type": "execute_result"
    }
   ],
   "source": [
    "df_duplicates.shape"
   ]
  },
  {
   "cell_type": "code",
   "execution_count": 7,
   "id": "5072dc4d",
   "metadata": {},
   "outputs": [
    {
     "data": {
      "text/plain": [
       "53467"
      ]
     },
     "execution_count": 7,
     "metadata": {},
     "output_type": "execute_result"
    }
   ],
   "source": [
    "#count number of duplicate records\n",
    "list(df_duplicates).count(True)"
   ]
  },
  {
   "cell_type": "code",
   "execution_count": 8,
   "id": "251afe05",
   "metadata": {},
   "outputs": [
    {
     "data": {
      "text/plain": [
       "67640"
      ]
     },
     "execution_count": 8,
     "metadata": {},
     "output_type": "execute_result"
    }
   ],
   "source": [
    "#count number of unique records\n",
    "list(df_duplicates).count(False)"
   ]
  },
  {
   "cell_type": "code",
   "execution_count": 9,
   "id": "01a09e8a",
   "metadata": {},
   "outputs": [],
   "source": [
    "#add duplicate 'true' or 'false' as column\n",
    "df_full['duplicate'] = df_duplicates"
   ]
  },
  {
   "cell_type": "code",
   "execution_count": 10,
   "id": "ce9a43c2",
   "metadata": {},
   "outputs": [],
   "source": [
    "#filter for only duplicated records\n",
    "duplicates = df_full[df_full['duplicate'] == True]"
   ]
  },
  {
   "cell_type": "code",
   "execution_count": 11,
   "id": "cb837afc",
   "metadata": {},
   "outputs": [
    {
     "data": {
      "text/plain": [
       "(53467, 10)"
      ]
     },
     "execution_count": 11,
     "metadata": {},
     "output_type": "execute_result"
    }
   ],
   "source": [
    "duplicates.shape"
   ]
  },
  {
   "cell_type": "code",
   "execution_count": 12,
   "id": "e9c3aa95",
   "metadata": {},
   "outputs": [
    {
     "data": {
      "text/plain": [
       "(121107, 10)"
      ]
     },
     "execution_count": 12,
     "metadata": {},
     "output_type": "execute_result"
    }
   ],
   "source": [
    "df_full.shape"
   ]
  },
  {
   "cell_type": "code",
   "execution_count": 13,
   "id": "27acbba9",
   "metadata": {},
   "outputs": [],
   "source": [
    "#filter for only unique records\n",
    "df_full = df_full[df_full['duplicate'] == False]"
   ]
  },
  {
   "cell_type": "code",
   "execution_count": 14,
   "id": "99e59d8a",
   "metadata": {},
   "outputs": [],
   "source": [
    "df_full.reset_index(inplace=True,drop=True)"
   ]
  },
  {
   "cell_type": "code",
   "execution_count": 15,
   "id": "c6b56be8",
   "metadata": {},
   "outputs": [],
   "source": [
    "# calculate win/lose field\n",
    "winlose = []\n",
    "for i in range(0,df_full.shape[0]):\n",
    "    if ((df_full['Team_Score'][i]) < (df_full['Opponent_Score'][i])):\n",
    "        winlose.append(0)\n",
    "    else:\n",
    "        winlose.append(1)\n",
    "\n",
    "df_full['outcome'] = winlose"
   ]
  },
  {
   "cell_type": "code",
   "execution_count": 16,
   "id": "f0630f3f",
   "metadata": {},
   "outputs": [
    {
     "data": {
      "text/plain": [
       "(67640, 11)"
      ]
     },
     "execution_count": 16,
     "metadata": {},
     "output_type": "execute_result"
    }
   ],
   "source": [
    "df_full.shape"
   ]
  },
  {
   "cell_type": "code",
   "execution_count": 17,
   "id": "fb2ef5b5",
   "metadata": {},
   "outputs": [
    {
     "data": {
      "text/plain": [
       "False    67640\n",
       "dtype: int64"
      ]
     },
     "execution_count": 17,
     "metadata": {},
     "output_type": "execute_result"
    }
   ],
   "source": [
    "# check for duplicates\n",
    "df_full.duplicated().value_counts()"
   ]
  },
  {
   "cell_type": "code",
   "execution_count": 18,
   "id": "5fdb9cf0",
   "metadata": {},
   "outputs": [],
   "source": [
    "#drop duplicates\n",
    "df_full.drop_duplicates(inplace=True)"
   ]
  },
  {
   "cell_type": "code",
   "execution_count": 19,
   "id": "c861f317",
   "metadata": {},
   "outputs": [
    {
     "data": {
      "text/plain": [
       "(67640, 11)"
      ]
     },
     "execution_count": 19,
     "metadata": {},
     "output_type": "execute_result"
    }
   ],
   "source": [
    "df_full.shape"
   ]
  },
  {
   "cell_type": "markdown",
   "id": "2879d8cc",
   "metadata": {},
   "source": [
    "### Get columns relative to defensive stats and group by teams instead of individual player stats"
   ]
  },
  {
   "cell_type": "code",
   "execution_count": 20,
   "id": "cd68000c",
   "metadata": {},
   "outputs": [],
   "source": [
    "# aggregate defensive stats for each game played from 2019 to 2022\n",
    "df_subset = df_full.groupby(by=['game_date','Team_Abbrev','Team_Score','Opponent_Score','Opponent_Abbrev','game_id','outcome'],as_index=False).agg (sumdrb = ('drb','sum'),sumstl=('stl','sum'),sumblk=('blk','sum'))"
   ]
  },
  {
   "cell_type": "code",
   "execution_count": 21,
   "id": "c2c31e37",
   "metadata": {},
   "outputs": [
    {
     "data": {
      "text/plain": [
       "(7088, 10)"
      ]
     },
     "execution_count": 21,
     "metadata": {},
     "output_type": "execute_result"
    }
   ],
   "source": [
    "df_subset.shape"
   ]
  },
  {
   "cell_type": "code",
   "execution_count": 22,
   "id": "9a99a78c",
   "metadata": {},
   "outputs": [],
   "source": [
    "# fill null values with 0\n",
    "df_subset = df_subset.fillna(0)"
   ]
  },
  {
   "cell_type": "code",
   "execution_count": 23,
   "id": "ebf01af4",
   "metadata": {},
   "outputs": [
    {
     "data": {
      "text/plain": [
       "array([False])"
      ]
     },
     "execution_count": 23,
     "metadata": {},
     "output_type": "execute_result"
    }
   ],
   "source": [
    "# check for duplicates\n",
    "df_subset.duplicated().unique()"
   ]
  },
  {
   "cell_type": "code",
   "execution_count": 24,
   "id": "774581cb",
   "metadata": {},
   "outputs": [],
   "source": [
    "df_subset.reset_index(inplace=True,drop=True)"
   ]
  },
  {
   "cell_type": "markdown",
   "id": "bacf95dc",
   "metadata": {},
   "source": [
    "# 2. Creating Features"
   ]
  },
  {
   "cell_type": "markdown",
   "id": "61a27d5a",
   "metadata": {},
   "source": [
    "### We will create a feature that quantitates defensive effort\n",
    "\n",
    "Defensive Stats\n",
    "* Defensive Rebounds (drb)\n",
    "* Steals (stl)\n",
    "* Blocks (blk)\n",
    "\n",
    "**Approach for Defining Good & Bad Defense (10/31/2024)**\n",
    "\n",
    "For each row, if stat is above average, a point is given to good_d. If a stat is below average, a point is subtracted from good d. If the stat is equal to the average for that stat, no point is given nor taken. The defensive score is the cumulative score of good_d.\n",
    "\n",
    "Since there are 3 defensive stats, possible scores for a row are -3,-1, 0, 1, and 3"
   ]
  },
  {
   "cell_type": "markdown",
   "id": "b4c10567",
   "metadata": {},
   "source": [
    "### 1. Box Plots for Defensive Stats"
   ]
  },
  {
   "cell_type": "code",
   "execution_count": 25,
   "id": "524c361d",
   "metadata": {},
   "outputs": [
    {
     "data": {
      "image/png": "[encoded data removed]",
      "text/plain": [
       "<Figure size 432x288 with 1 Axes>"
      ]
     },
     "metadata": {
      "needs_background": "light"
     },
     "output_type": "display_data"
    }
   ],
   "source": [
    "boxplot = sns.boxplot(data = df_subset[['sumdrb','sumstl','sumblk']])"
   ]
  },
  {
   "cell_type": "code",
   "execution_count": 26,
   "id": "23029b5f",
   "metadata": {},
   "outputs": [],
   "source": [
    "# Lets determine how many outliers exist for each defensive stat\n",
    "# drbs\n",
    "Q1_drb = df_subset['sumdrb'].quantile(0.25)\n",
    "Q3_drb = df_subset['sumdrb'].quantile(0.75)\n",
    "\n",
    "#stls\n",
    "Q1_stl = df_subset['sumstl'].quantile(0.25)\n",
    "Q3_stl = df_subset['sumstl'].quantile(0.75)\n",
    "\n",
    "#blk's\n",
    "Q1_blk = df_subset['sumblk'].quantile(0.25)\n",
    "Q3_blk = df_subset['sumblk'].quantile(0.75)\n",
    "\n",
    "# Interquartile Ranges   \n",
    "IQR_drb = Q3_drb - Q1_drb\n",
    "IQR_stl = Q3_stl - Q1_stl\n",
    "IQR_blk = Q3_blk - Q1_blk"
   ]
  },
  {
   "cell_type": "code",
   "execution_count": 27,
   "id": "a0387a11",
   "metadata": {},
   "outputs": [],
   "source": [
    "# Identify the upper and lower outlier thresholds\n",
    "\n",
    "drb_upper_outlier = Q3_drb + 1.5 * IQR_drb\n",
    "drb_lower_outlier = Q1_drb - 1.5 * IQR_drb\n",
    "stl_upper_outlier = Q3_stl + 1.5 * IQR_stl\n",
    "stl_lower_outlier = Q1_stl - 1.5 * IQR_stl\n",
    "blk_upper_outlier = Q3_blk + 1.5 * IQR_blk\n",
    "blk_lower_outlier = Q1_blk - 1.5 * IQR_blk"
   ]
  },
  {
   "cell_type": "code",
   "execution_count": 28,
   "id": "6567170f",
   "metadata": {},
   "outputs": [
    {
     "name": "stdout",
     "output_type": "stream",
     "text": [
      "Team DRBs less than 16.0 or greater than 48.0 are outliers\n",
      "Team STLs less than -1.0 or greater than 15.0 are outliers\n",
      "Team BLKs less than -1.5 or greater than 10.5 are outliers\n"
     ]
    }
   ],
   "source": [
    "print(f'Team DRBs less than {drb_lower_outlier} or greater than {drb_upper_outlier} are outliers')\n",
    "print(f'Team STLs less than {stl_lower_outlier} or greater than {stl_upper_outlier} are outliers')\n",
    "print(f'Team BLKs less than {blk_lower_outlier} or greater than {blk_upper_outlier} are outliers')"
   ]
  },
  {
   "cell_type": "code",
   "execution_count": 29,
   "id": "a47d5577",
   "metadata": {},
   "outputs": [],
   "source": [
    "# calculate the percentage of the dataset occupied by outliers for each stat\n",
    "drb_outlier_pct_upper = (df_subset[df_subset['sumdrb'] > 48].shape[0]/df_subset.shape[0])*100\n",
    "drb_outlier_pct_lower = (df_subset[df_subset['sumdrb'] < 16].shape[0]/df_subset.shape[0])*100\n",
    "stl_outlier_pct_upper = (df_subset[df_subset['sumstl'] > 15].shape[0]/df_subset.shape[0])*100\n",
    "blk_outlier_pct_upper = (df_subset[df_subset['sumblk'] > 10.5].shape[0]/df_subset.shape[0])*100"
   ]
  },
  {
   "cell_type": "code",
   "execution_count": 30,
   "id": "0248d015",
   "metadata": {},
   "outputs": [
    {
     "name": "stdout",
     "output_type": "stream",
     "text": [
      "DRB upper outliers represent 0.3527088036117382% of the dataset\n",
      "DRB lower outliers represent 0.09875846501128668% of the dataset\n",
      "STL outliers represent 0.4514672686230248% of the dataset\n",
      "BLK outliers represent 1.6647855530474038% of the dataset\n"
     ]
    }
   ],
   "source": [
    "print(f'DRB upper outliers represent {drb_outlier_pct_upper}% of the dataset')\n",
    "print(f'DRB lower outliers represent {drb_outlier_pct_lower}% of the dataset')\n",
    "print(f'STL outliers represent {stl_outlier_pct_upper}% of the dataset')\n",
    "print(f'BLK outliers represent {blk_outlier_pct_upper}% of the dataset')"
   ]
  },
  {
   "cell_type": "code",
   "execution_count": 31,
   "id": "f8fe8dbc",
   "metadata": {},
   "outputs": [],
   "source": [
    "# get rid of outliers for each defensive stat\n",
    "df_subset = df_subset[(df_subset['sumdrb'] <= 48) & (df_subset['sumdrb'] >= 16)]\n",
    "df_subset = df_subset[df_subset['sumstl'] <= 15]\n",
    "df_subset = df_subset[df_subset['sumblk'] <= 10.5]\n",
    "\n",
    "# reset index\n",
    "df_subset.reset_index(inplace=True, drop=True)"
   ]
  },
  {
   "cell_type": "code",
   "execution_count": 32,
   "id": "04eda77e",
   "metadata": {},
   "outputs": [
    {
     "data": {
      "image/png": "[encoded data removed]",
      "text/plain": [
       "<Figure size 432x288 with 1 Axes>"
      ]
     },
     "metadata": {
      "needs_background": "light"
     },
     "output_type": "display_data"
    }
   ],
   "source": [
    "# confirm outliers are removed\n",
    "boxplot = sns.boxplot(data = df_subset[['sumdrb','sumstl','sumblk']])"
   ]
  },
  {
   "cell_type": "markdown",
   "id": "9478ce0c",
   "metadata": {},
   "source": [
    "### 2. Calculate the average of each defensive stat"
   ]
  },
  {
   "cell_type": "code",
   "execution_count": 33,
   "id": "6cfff0b0",
   "metadata": {},
   "outputs": [
    {
     "name": "stdout",
     "output_type": "stream",
     "text": [
      "Average DRB: 31.99609318477789, Average STL: 7.1811604688178265, Average BLK: 4.574591231370279\n"
     ]
    }
   ],
   "source": [
    "drb_avg = df_subset[['sumdrb','sumstl','sumblk']].mean()[0]\n",
    "stl_avg = df_subset[['sumdrb','sumstl','sumblk']].mean()[1]\n",
    "blk_avg = df_subset[['sumdrb','sumstl','sumblk']].mean()[2]\n",
    "\n",
    "print(f'Average DRB: {drb_avg}, Average STL: {stl_avg}, Average BLK: {blk_avg}')"
   ]
  },
  {
   "cell_type": "markdown",
   "id": "73cccf22",
   "metadata": {},
   "source": [
    "### 3. Defensive Stat Feature Engineering"
   ]
  },
  {
   "cell_type": "code",
   "execution_count": 34,
   "id": "bca186cf",
   "metadata": {},
   "outputs": [],
   "source": [
    "# create list to store teams' defensive score ('good', 'bad','neutral')\n",
    "defensive_score = []\n",
    "for i in range(0,df_subset.shape[0]):\n",
    "    good_d = 0\n",
    "    if df_subset['sumdrb'][i] > drb_avg:\n",
    "        good_d = good_d + 1\n",
    "    if df_subset['sumdrb'][i] == drb_avg:\n",
    "        good_d = good_d\n",
    "    if df_subset['sumdrb'][i] < drb_avg:\n",
    "        good_d = good_d - 1\n",
    "    if df_subset['sumstl'][i] > stl_avg:\n",
    "        good_d = good_d + 1\n",
    "    if df_subset['sumstl'][i] == stl_avg:\n",
    "        good_d = good_d\n",
    "    if df_subset['sumstl'][i] < stl_avg:\n",
    "        good_d = good_d - 1\n",
    "    if df_subset['sumblk'][i] > blk_avg:\n",
    "        good_d = good_d + 1\n",
    "    if df_subset['sumblk'][i] == blk_avg:\n",
    "        good_d = good_d\n",
    "    if df_subset['sumblk'][i] < blk_avg:\n",
    "        good_d = good_d - 1\n",
    "    defensive_score.append(good_d)\n",
    "        \n",
    "# add defensive score values as a new column\n",
    "df_subset['defensive_score'] = defensive_score"
   ]
  },
  {
   "cell_type": "code",
   "execution_count": 35,
   "id": "655afe83",
   "metadata": {},
   "outputs": [
    {
     "data": {
      "text/plain": [
       "array([ 3, -1, -3,  1], dtype=int64)"
      ]
     },
     "execution_count": 35,
     "metadata": {},
     "output_type": "execute_result"
    }
   ],
   "source": [
    "df_subset['defensive_score'].unique()"
   ]
  },
  {
   "cell_type": "markdown",
   "id": "dfdd8dd3",
   "metadata": {},
   "source": [
    "### Lets Look at the distribution of defensive scores"
   ]
  },
  {
   "cell_type": "code",
   "execution_count": 36,
   "id": "2b663d10",
   "metadata": {},
   "outputs": [
    {
     "data": {
      "text/plain": [
       "<AxesSubplot:ylabel='count'>"
      ]
     },
     "execution_count": 36,
     "metadata": {},
     "output_type": "execute_result"
    },
    {
     "data": {
      "image/png": "[encoded data removed]",
      "text/plain": [
       "<Figure size 432x288 with 1 Axes>"
      ]
     },
     "metadata": {
      "needs_background": "light"
     },
     "output_type": "display_data"
    }
   ],
   "source": [
    "sns.countplot(data=df_subset, x = defensive_score)"
   ]
  },
  {
   "cell_type": "markdown",
   "id": "7b415c7b",
   "metadata": {},
   "source": [
    "# 3. Looking for correlation among features"
   ]
  },
  {
   "cell_type": "code",
   "execution_count": 40,
   "id": "9855b1b1",
   "metadata": {},
   "outputs": [],
   "source": [
    "df_num = df_subset.drop(columns=['game_id','game_date','Team_Abbrev','Opponent_Abbrev','sumdrb','sumblk','sumstl'])\n",
    "\n",
    "\n",
    "# Normalize the data using Min-Max scaling\n",
    "scaler = MinMaxScaler()\n",
    "df_scaled = pd.DataFrame(scaler.fit_transform(df_num), columns=df_num.columns)"
   ]
  },
  {
   "cell_type": "code",
   "execution_count": 51,
   "id": "140f7a26",
   "metadata": {},
   "outputs": [
    {
     "data": {
      "image/png": "[encoded data removed]",
      "text/plain": [
       "<Figure size 1800x1800 with 2 Axes>"
      ]
     },
     "metadata": {},
     "output_type": "display_data"
    }
   ],
   "source": [
    "# Calculate the correlation matrix\n",
    "correlation_matrix = df_scaled.corr()\n",
    "sns.set(font_scale=2)\n",
    "\n",
    "\n",
    "plt.figure(figsize=(25,25))\n",
    "\n",
    "plt.title(\"Defensive Stats Correlation Heat Map\")\n",
    "# Add image source credit\n",
    "plt.annotate('Image Source: Data Explorers, LLC', xy=(0.75, -0.1), xycoords='axes fraction', \n",
    "             fontsize=18,fontweight='bold')\n",
    "\n",
    "# Create a heatmap using seaborn\n",
    "sns.heatmap(correlation_matrix, annot=True, cmap='coolwarm', linewidths=.5,annot_kws={\"size\": 18})\n",
    "plt.savefig('defensive_corr_heatmap.png')\n",
    "# Show the plot\n",
    "plt.show()"
   ]
  },
  {
   "cell_type": "markdown",
   "id": "ced7fbae",
   "metadata": {},
   "source": [
    "# 4. Data Exploration"
   ]
  },
  {
   "cell_type": "markdown",
   "id": "cf20c4f5",
   "metadata": {},
   "source": [
    "### **What's the win percentage for each offensive score?**"
   ]
  },
  {
   "cell_type": "code",
   "execution_count": 38,
   "id": "620ca062",
   "metadata": {},
   "outputs": [],
   "source": [
    "# Calculate win percentage\n",
    "win_percentage = (\n",
    "    df_subset.groupby('defensive_score')['outcome']\n",
    "    .apply(lambda x: (x == 1).mean() * 100)  # Calculate the percentage of wins\n",
    "    .reset_index(name='win_percentage')\n",
    ")"
   ]
  },
  {
   "cell_type": "code",
   "execution_count": 86,
   "id": "e91e06f2",
   "metadata": {},
   "outputs": [
    {
     "data": {
      "image/png": "[encoded data removed]",
      "text/plain": [
       "<Figure size 720x432 with 1 Axes>"
      ]
     },
     "metadata": {
      "needs_background": "light"
     },
     "output_type": "display_data"
    }
   ],
   "source": [
    "# Plotting\n",
    "plt.figure(figsize=(10, 6))\n",
    "plt.plot(win_percentage['defensive_score'], win_percentage['win_percentage'], marker='o', linestyle='-')\n",
    "plt.xlabel('Defensive Score')\n",
    "plt.ylabel('Win Percentage (%)')\n",
    "plt.title('Win Percentage by Defensive Score',fontweight='bold')\n",
    "plt.grid()\n",
    "# Add image source credit\n",
    "plt.annotate('Image Source: Data Explorers, LLC', xy=(0.75, -0.1), xycoords='axes fraction', \n",
    "             fontsize=8,fontweight='bold')\n",
    "plt.savefig(\"Defensive_Score_Win_Percentage.png\")\n",
    "plt.show()\n"
   ]
  },
  {
   "cell_type": "markdown",
   "id": "8da16a85",
   "metadata": {},
   "source": [
    "### 1. What's the ratio of games won as a result of good D to games won regardless of defensive effort? "
   ]
  },
  {
   "cell_type": "code",
   "execution_count": 41,
   "id": "16146161",
   "metadata": {},
   "outputs": [
    {
     "data": {
      "text/plain": [
       "0.2683946488294314"
      ]
     },
     "execution_count": 41,
     "metadata": {},
     "output_type": "execute_result"
    }
   ],
   "source": [
    "# win percentage check\n",
    "(df_subset[(df_subset['defensive_score'] == -3) & (df_subset['outcome'] == 1)].shape[0])/df_subset[df_subset['defensive_score'] == -3].shape[0]"
   ]
  },
  {
   "cell_type": "markdown",
   "id": "20706fb9",
   "metadata": {},
   "source": [
    "### 2. What is the average difference between the final score when defense is good (defensive score > 1 OR two defensive stats above average)"
   ]
  },
  {
   "cell_type": "code",
   "execution_count": 62,
   "id": "8e128d37",
   "metadata": {},
   "outputs": [],
   "source": [
    "# get good defensive games\n",
    "df_good = df_subset[df_subset['defensive_score'] > 0]"
   ]
  },
  {
   "cell_type": "code",
   "execution_count": 63,
   "id": "04cace86",
   "metadata": {},
   "outputs": [],
   "source": [
    "#reset index\n",
    "df_good.reset_index(inplace=True,drop=True)"
   ]
  },
  {
   "cell_type": "code",
   "execution_count": 64,
   "id": "df4aebd2",
   "metadata": {},
   "outputs": [],
   "source": [
    "# calculate the difference in scores for each team and assign result to new column 'score_difference'\n",
    "df_good = df_good.assign(score_difference=df_good['Team_Score'] - df_good['Opponent_Score'])"
   ]
  },
  {
   "cell_type": "code",
   "execution_count": 65,
   "id": "99735e67",
   "metadata": {},
   "outputs": [
    {
     "data": {
      "text/plain": [
       "4.128392802683745"
      ]
     },
     "execution_count": 65,
     "metadata": {},
     "output_type": "execute_result"
    }
   ],
   "source": [
    "df_good['score_difference'].mean()"
   ]
  },
  {
   "cell_type": "markdown",
   "id": "4d77a314",
   "metadata": {},
   "source": [
    "### 3. When defense is bad?"
   ]
  },
  {
   "cell_type": "code",
   "execution_count": 66,
   "id": "fb87fa6c",
   "metadata": {},
   "outputs": [],
   "source": [
    "#get bad defensive games\n",
    "df_bad = df_subset[df_subset['defensive_score'] < 0]"
   ]
  },
  {
   "cell_type": "code",
   "execution_count": 67,
   "id": "09276e2b",
   "metadata": {},
   "outputs": [],
   "source": [
    "#reset index\n",
    "df_bad.reset_index(inplace=True,drop=True)"
   ]
  },
  {
   "cell_type": "code",
   "execution_count": 68,
   "id": "1b4c1459",
   "metadata": {},
   "outputs": [],
   "source": [
    "# calculate the difference in scores for each team and assign result to new column 'score_difference'\n",
    "df_bad = df_bad.assign(score_difference=df_bad['Team_Score'] - df_bad['Opponent_Score'])"
   ]
  },
  {
   "cell_type": "code",
   "execution_count": 69,
   "id": "f9253660",
   "metadata": {},
   "outputs": [
    {
     "data": {
      "text/plain": [
       "-4.079019823788546"
      ]
     },
     "execution_count": 69,
     "metadata": {},
     "output_type": "execute_result"
    }
   ],
   "source": [
    "df_bad['score_difference'].mean()"
   ]
  },
  {
   "cell_type": "markdown",
   "id": "1080647c",
   "metadata": {},
   "source": [
    "### 4. Is the difference in means significantly different?"
   ]
  },
  {
   "cell_type": "markdown",
   "id": "e56e9061",
   "metadata": {},
   "source": [
    "### Checking for Normality (Central Tendency) using Histograms"
   ]
  },
  {
   "cell_type": "code",
   "execution_count": 70,
   "id": "e807064f",
   "metadata": {},
   "outputs": [
    {
     "data": {
      "image/png": "[encoded data removed]",
      "text/plain": [
       "<Figure size 720x432 with 1 Axes>"
      ]
     },
     "metadata": {
      "needs_background": "light"
     },
     "output_type": "display_data"
    },
    {
     "data": {
      "image/png": "[encoded data removed]",
      "text/plain": [
       "<Figure size 720x432 with 1 Axes>"
      ]
     },
     "metadata": {
      "needs_background": "light"
     },
     "output_type": "display_data"
    }
   ],
   "source": [
    "import matplotlib.pyplot as plt\n",
    "import seaborn as sns\n",
    "\n",
    "# Plot histogram with KDE for df_good\n",
    "plt.figure(figsize=(10, 6))\n",
    "sns.histplot(df_good['score_difference'], kde=True, bins=20, color='skyblue', edgecolor='black')\n",
    "plt.title('Histogram of score_difference for df_good')\n",
    "plt.xlabel('Score Difference')\n",
    "plt.ylabel('Frequency')\n",
    "plt.show()\n",
    "\n",
    "# Plot histogram with KDE for df_bad\n",
    "plt.figure(figsize=(10, 6))\n",
    "sns.histplot(df_bad['score_difference'], kde=True, bins=20, color='salmon', edgecolor='black')\n",
    "plt.title('Histogram of score_difference for df_bad')\n",
    "plt.xlabel('Score Difference')\n",
    "plt.ylabel('Frequency')\n",
    "plt.show()\n"
   ]
  },
  {
   "cell_type": "markdown",
   "id": "b65ef0b2",
   "metadata": {},
   "source": [
    "### Checking for Normality Using Shapiro-Wilk Test"
   ]
  },
  {
   "cell_type": "code",
   "execution_count": 71,
   "id": "2bbf9e65",
   "metadata": {},
   "outputs": [
    {
     "name": "stdout",
     "output_type": "stream",
     "text": [
      "Shapiro-Wilk test p-value for df_good: 2.0175022541479848e-07\n",
      "Shapiro-Wilk test p-value for df_bad: 1.2749443101256475e-07\n"
     ]
    }
   ],
   "source": [
    "from scipy.stats import ttest_ind, shapiro, levene\n",
    "\n",
    "# Step 1: Extract the score_difference columns\n",
    "good_scores = df_good['score_difference']\n",
    "bad_scores = df_bad['score_difference']\n",
    "\n",
    "# Step 2: Check Normality (Optional)\n",
    "_, p_good = shapiro(good_scores)\n",
    "_, p_bad = shapiro(bad_scores)\n",
    "\n",
    "print(f\"Shapiro-Wilk test p-value for df_good: {p_good}\")\n",
    "print(f\"Shapiro-Wilk test p-value for df_bad: {p_bad}\")"
   ]
  },
  {
   "cell_type": "markdown",
   "id": "3246d7b1",
   "metadata": {},
   "source": [
    "### If the Shapiro-Wilk test p-values are much lower than 0.05, it suggests that the score_difference data in both df_good and df_bad likely deviate significantly from a normal distribution. In this case, a two-sample t-test may not be the best approach, as it assumes normality."
   ]
  },
  {
   "cell_type": "markdown",
   "id": "79d6faac",
   "metadata": {},
   "source": [
    "### Checking Variance Homogeneity with Levene Test"
   ]
  },
  {
   "cell_type": "code",
   "execution_count": 72,
   "id": "455e838a",
   "metadata": {},
   "outputs": [
    {
     "name": "stdout",
     "output_type": "stream",
     "text": [
      "Levene's test p-value: 0.022354290859383858\n"
     ]
    }
   ],
   "source": [
    "# Step 3: Check Variance Homogeneity\n",
    "_, p_levene = levene(good_scores, bad_scores)\n",
    "print(f\"Levene's test p-value: {p_levene}\")"
   ]
  },
  {
   "cell_type": "markdown",
   "id": "2f816a8b",
   "metadata": {},
   "source": [
    "###  A Levene’s test p-value of 0.022 indicates that the variances between df_good and df_bad are significantly different. Since the p-value is less than 0.05, it suggests that you can assume unequal variances when comparing these two datasets.\n",
    "\n",
    "### Since we can't assume normality or equal variances for the datasets, a standard two sample t-test should not be used, and a Welch's t-test should be used instead."
   ]
  },
  {
   "cell_type": "code",
   "execution_count": 73,
   "id": "2cc545b9",
   "metadata": {},
   "outputs": [
    {
     "name": "stdout",
     "output_type": "stream",
     "text": [
      "t-statistic: 23.863056500043037, p-value: 5.476495766785508e-121\n"
     ]
    }
   ],
   "source": [
    "# Step 4: Perform the t-test\n",
    "if p_levene > 0.05:\n",
    "    # Variances are equal, so we use the standard two-sample t-test\n",
    "    t_stat, p_value = ttest_ind(good_scores, bad_scores, equal_var=True)\n",
    "else:\n",
    "    # Variances are not equal, so we use Welch's t-test\n",
    "    t_stat, p_value = ttest_ind(good_scores, bad_scores, equal_var=False)\n",
    "\n",
    "print(f\"t-statistic: {t_stat}, p-value: {p_value}\")"
   ]
  },
  {
   "cell_type": "markdown",
   "id": "91a87b17",
   "metadata": {},
   "source": [
    "### Conclusion: P-value < 0.05 (or your chosen significance level, often 0.05): Reject the null hypothesis, suggesting there is a statistically significant difference between the means of the two groups.\n",
    "\n",
    "### When it comes to NBA games, defensive effort affects the final outcome of the game.\n",
    "\n",
    "### The p-value is very small and represents the probability of observing the data if the null hypothesis were true."
   ]
  },
  {
   "cell_type": "markdown",
   "id": "74085f8a",
   "metadata": {},
   "source": [
    "# Supplemental Materials"
   ]
  },
  {
   "cell_type": "markdown",
   "id": "7f55320f",
   "metadata": {},
   "source": [
    "### The Mann-Whitney U test (also called the Wilcoxon rank-sum test) is a non-parametric test that doesn’t assume normality and is appropriate for comparing the medians of two independent samples."
   ]
  },
  {
   "cell_type": "code",
   "execution_count": 53,
   "id": "a0c9c637",
   "metadata": {},
   "outputs": [
    {
     "name": "stdout",
     "output_type": "stream",
     "text": [
      "U statistic: 2289853.5, p-value: 4.202689772101797e-35\n"
     ]
    }
   ],
   "source": [
    "from scipy.stats import mannwhitneyu\n",
    "\n",
    "# Run the Mann-Whitney U test\n",
    "stat, p_value = mannwhitneyu(df_good['score_difference'], df_bad['score_difference'])\n",
    "\n",
    "print(f\"U statistic: {stat}, p-value: {p_value}\")\n"
   ]
  },
  {
   "cell_type": "code",
   "execution_count": 54,
   "id": "b8e47515",
   "metadata": {},
   "outputs": [
    {
     "data": {
      "image/png": "[encoded data removed]",
      "text/plain": [
       "<Figure size 864x432 with 1 Axes>"
      ]
     },
     "metadata": {
      "needs_background": "light"
     },
     "output_type": "display_data"
    }
   ],
   "source": [
    "# Select only the relevant columns and the 'outcome' column\n",
    "stats_columns = ['sumdrb','sumstl','sumblk']\n",
    "df_melted = df_subset.melt(id_vars='outcome', value_vars=stats_columns, \n",
    "                           var_name='Stats', value_name='Value')\n",
    "\n",
    "# Plot the boxplot\n",
    "plt.figure(figsize=(12, 6))\n",
    "sns.boxplot(data=df_melted, x='Stats', y='Value', hue='outcome')\n",
    "plt.title('Comparison of Stats by Outcome')\n",
    "plt.show()\n"
   ]
  },
  {
   "cell_type": "code",
   "execution_count": 55,
   "id": "d29686dd",
   "metadata": {},
   "outputs": [
    {
     "data": {
      "image/png": "[encoded data removed]",
      "text/plain": [
       "<Figure size 864x432 with 1 Axes>"
      ]
     },
     "metadata": {
      "needs_background": "light"
     },
     "output_type": "display_data"
    }
   ],
   "source": [
    "# Select only the relevant columns and the 'outcome' column\n",
    "stats_columns = ['sumdrb','sumstl','sumblk']\n",
    "df_melted = df_subset.melt(id_vars='defensive_score', value_vars=stats_columns, \n",
    "                           var_name='Stats', value_name='Value')\n",
    "\n",
    "# Plot the boxplot\n",
    "plt.figure(figsize=(12, 6))\n",
    "sns.boxplot(data=df_melted, x='Stats', y='Value', hue='defensive_score')\n",
    "plt.title('Comparison of Stats by Defensive Score')\n",
    "plt.show()"
   ]
  },
  {
   "cell_type": "code",
   "execution_count": 87,
   "id": "4c922174",
   "metadata": {},
   "outputs": [
    {
     "data": {
      "text/plain": [
       "(67640, 11)"
      ]
     },
     "execution_count": 87,
     "metadata": {},
     "output_type": "execute_result"
    }
   ],
   "source": [
    "df_full.shape"
   ]
  }
 ],
 "metadata": {
  "kernelspec": {
   "display_name": "Python 3",
   "language": "python",
   "name": "python3"
  },
  "language_info": {
   "codemirror_mode": {
    "name": "ipython",
    "version": 3
   },
   "file_extension": ".py",
   "mimetype": "text/x-python",
   "name": "python",
   "nbconvert_exporter": "python",
   "pygments_lexer": "ipython3",
   "version": "3.6.12"
  }
 },
 "nbformat": 4,
 "nbformat_minor": 5
}
