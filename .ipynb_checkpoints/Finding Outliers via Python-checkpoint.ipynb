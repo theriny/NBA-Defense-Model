{
 "cells": [
  {
   "cell_type": "code",
   "execution_count": 1,
   "id": "3a87b52f",
   "metadata": {},
   "outputs": [
    {
     "name": "stderr",
     "output_type": "stream",
     "text": [
      "C:\\Users\\theri\\anaconda3\\lib\\site-packages\\pandas\\core\\computation\\expressions.py:21: UserWarning: Pandas requires version '2.8.0' or newer of 'numexpr' (version '2.7.3' currently installed).\n",
      "  from pandas.core.computation.check import NUMEXPR_INSTALLED\n",
      "C:\\Users\\theri\\anaconda3\\lib\\site-packages\\pandas\\core\\arrays\\masked.py:62: UserWarning: Pandas requires version '1.3.4' or newer of 'bottleneck' (version '1.3.2' currently installed).\n",
      "  from pandas.core import (\n"
     ]
    }
   ],
   "source": [
    "import pandas as pd\n",
    "import numpy as np"
   ]
  },
  {
   "cell_type": "code",
   "execution_count": 2,
   "id": "b15881b0",
   "metadata": {},
   "outputs": [],
   "source": [
    "df = pd.read_excel('nba_player_stats.xlsx')"
   ]
  },
  {
   "cell_type": "code",
   "execution_count": 11,
   "id": "e8c36127",
   "metadata": {},
   "outputs": [
    {
     "data": {
      "text/plain": [
       "array([2020, 2021, 2022], dtype=int64)"
      ]
     },
     "execution_count": 11,
     "metadata": {},
     "output_type": "execute_result"
    }
   ],
   "source": [
    "df['season'].unique()"
   ]
  },
  {
   "cell_type": "code",
   "execution_count": 13,
   "id": "9a5bbb59",
   "metadata": {},
   "outputs": [],
   "source": [
    "snapshot = df[(df['season'] == 2022) & (df['Team_Abbrev'] == 'ORL')]"
   ]
  },
  {
   "cell_type": "code",
   "execution_count": null,
   "id": "a0eaab7f",
   "metadata": {},
   "outputs": [],
   "source": []
  },
  {
   "cell_type": "code",
   "execution_count": 18,
   "id": "63ab368e",
   "metadata": {},
   "outputs": [
    {
     "data": {
      "text/plain": [
       "player\n",
       "Admiral Schofield     1\n",
       "Jalen Suggs           1\n",
       "Tim Frazier           1\n",
       "Terrence Ross         1\n",
       "Robin Lopez           1\n",
       "R.J. Hampton          1\n",
       "Mychal Mulder         1\n",
       "Moritz Wagner         1\n",
       "Mo Bamba              1\n",
       "Markelle Fultz        1\n",
       "Jeff Dowtin           1\n",
       "Ignas Brazdeikis      1\n",
       "Aleem Ford            1\n",
       "Hassani Gravett       1\n",
       "Gary Harris           1\n",
       "Freddie Gillespie     1\n",
       "Franz Wagner          1\n",
       "E'Twaun Moore         1\n",
       "Devin Cannady         1\n",
       "Cole Anthony          1\n",
       "Chuma Okeke           1\n",
       "B.J. Johnson          1\n",
       "Wendell Carter Jr.    1\n",
       "Name: count, dtype: int64"
      ]
     },
     "execution_count": 18,
     "metadata": {},
     "output_type": "execute_result"
    }
   ],
   "source": [
    "snapshot['player'].value_counts()"
   ]
  },
  {
   "cell_type": "code",
   "execution_count": 9,
   "id": "14c44062",
   "metadata": {},
   "outputs": [],
   "source": [
    "#group data by team\n",
    "by_team = df.groupby(by = ['Team_Abbrev'],as_index=False)"
   ]
  },
  {
   "cell_type": "code",
   "execution_count": 10,
   "id": "65d076c7",
   "metadata": {},
   "outputs": [
    {
     "data": {
      "text/html": [
       "<div>\n",
       "<style scoped>\n",
       "    .dataframe tbody tr th:only-of-type {\n",
       "        vertical-align: middle;\n",
       "    }\n",
       "\n",
       "    .dataframe tbody tr th {\n",
       "        vertical-align: top;\n",
       "    }\n",
       "\n",
       "    .dataframe thead th {\n",
       "        text-align: right;\n",
       "    }\n",
       "</style>\n",
       "<table border=\"1\" class=\"dataframe\">\n",
       "  <thead>\n",
       "    <tr style=\"text-align: right;\">\n",
       "      <th></th>\n",
       "      <th>season</th>\n",
       "      <th>player</th>\n",
       "      <th>Team_Abbrev</th>\n",
       "      <th>sumfg</th>\n",
       "      <th>sumfg3</th>\n",
       "      <th>sumft</th>\n",
       "      <th>sumorb</th>\n",
       "      <th>sumast</th>\n",
       "      <th>sumpts</th>\n",
       "      <th>sumdrb</th>\n",
       "      <th>...</th>\n",
       "      <th>sumblk</th>\n",
       "      <th>avgfg</th>\n",
       "      <th>avgfg3</th>\n",
       "      <th>avgft</th>\n",
       "      <th>avgorb</th>\n",
       "      <th>avgast</th>\n",
       "      <th>avgpts</th>\n",
       "      <th>avgdrb</th>\n",
       "      <th>avgstl</th>\n",
       "      <th>avgblk</th>\n",
       "    </tr>\n",
       "  </thead>\n",
       "  <tbody>\n",
       "    <tr>\n",
       "      <th>0</th>\n",
       "      <td>2020</td>\n",
       "      <td>Aaron Gordon</td>\n",
       "      <td>ORL</td>\n",
       "      <td>335</td>\n",
       "      <td>73</td>\n",
       "      <td>151</td>\n",
       "      <td>107</td>\n",
       "      <td>228</td>\n",
       "      <td>894</td>\n",
       "      <td>368</td>\n",
       "      <td>...</td>\n",
       "      <td>39</td>\n",
       "      <td>5.403226</td>\n",
       "      <td>1.177419</td>\n",
       "      <td>2.435484</td>\n",
       "      <td>1.725806</td>\n",
       "      <td>3.677419</td>\n",
       "      <td>14.419355</td>\n",
       "      <td>5.935484</td>\n",
       "      <td>0.822581</td>\n",
       "      <td>0.629032</td>\n",
       "    </tr>\n",
       "    <tr>\n",
       "      <th>1</th>\n",
       "      <td>2020</td>\n",
       "      <td>Aaron Holiday</td>\n",
       "      <td>IND</td>\n",
       "      <td>245</td>\n",
       "      <td>91</td>\n",
       "      <td>77</td>\n",
       "      <td>23</td>\n",
       "      <td>235</td>\n",
       "      <td>658</td>\n",
       "      <td>138</td>\n",
       "      <td>...</td>\n",
       "      <td>16</td>\n",
       "      <td>3.181818</td>\n",
       "      <td>1.181818</td>\n",
       "      <td>1.000000</td>\n",
       "      <td>0.298701</td>\n",
       "      <td>3.051948</td>\n",
       "      <td>8.545455</td>\n",
       "      <td>1.792208</td>\n",
       "      <td>0.766234</td>\n",
       "      <td>0.207792</td>\n",
       "    </tr>\n",
       "    <tr>\n",
       "      <th>2</th>\n",
       "      <td>2020</td>\n",
       "      <td>Abdel Nader</td>\n",
       "      <td>OKC</td>\n",
       "      <td>248</td>\n",
       "      <td>98</td>\n",
       "      <td>104</td>\n",
       "      <td>30</td>\n",
       "      <td>76</td>\n",
       "      <td>698</td>\n",
       "      <td>176</td>\n",
       "      <td>...</td>\n",
       "      <td>44</td>\n",
       "      <td>1.746479</td>\n",
       "      <td>0.690141</td>\n",
       "      <td>0.732394</td>\n",
       "      <td>0.211268</td>\n",
       "      <td>0.535211</td>\n",
       "      <td>4.915493</td>\n",
       "      <td>1.239437</td>\n",
       "      <td>0.338028</td>\n",
       "      <td>0.309859</td>\n",
       "    </tr>\n",
       "    <tr>\n",
       "      <th>3</th>\n",
       "      <td>2020</td>\n",
       "      <td>Adam Mokoka</td>\n",
       "      <td>CHI</td>\n",
       "      <td>12</td>\n",
       "      <td>6</td>\n",
       "      <td>2</td>\n",
       "      <td>7</td>\n",
       "      <td>4</td>\n",
       "      <td>32</td>\n",
       "      <td>3</td>\n",
       "      <td>...</td>\n",
       "      <td>0</td>\n",
       "      <td>0.666667</td>\n",
       "      <td>0.333333</td>\n",
       "      <td>0.111111</td>\n",
       "      <td>0.388889</td>\n",
       "      <td>0.222222</td>\n",
       "      <td>1.777778</td>\n",
       "      <td>0.166667</td>\n",
       "      <td>0.222222</td>\n",
       "      <td>0.000000</td>\n",
       "    </tr>\n",
       "    <tr>\n",
       "      <th>4</th>\n",
       "      <td>2020</td>\n",
       "      <td>Admiral Schofield</td>\n",
       "      <td>WAS</td>\n",
       "      <td>35</td>\n",
       "      <td>19</td>\n",
       "      <td>10</td>\n",
       "      <td>7</td>\n",
       "      <td>15</td>\n",
       "      <td>99</td>\n",
       "      <td>40</td>\n",
       "      <td>...</td>\n",
       "      <td>4</td>\n",
       "      <td>0.795455</td>\n",
       "      <td>0.431818</td>\n",
       "      <td>0.227273</td>\n",
       "      <td>0.159091</td>\n",
       "      <td>0.340909</td>\n",
       "      <td>2.250000</td>\n",
       "      <td>0.909091</td>\n",
       "      <td>0.181818</td>\n",
       "      <td>0.090909</td>\n",
       "    </tr>\n",
       "    <tr>\n",
       "      <th>...</th>\n",
       "      <td>...</td>\n",
       "      <td>...</td>\n",
       "      <td>...</td>\n",
       "      <td>...</td>\n",
       "      <td>...</td>\n",
       "      <td>...</td>\n",
       "      <td>...</td>\n",
       "      <td>...</td>\n",
       "      <td>...</td>\n",
       "      <td>...</td>\n",
       "      <td>...</td>\n",
       "      <td>...</td>\n",
       "      <td>...</td>\n",
       "      <td>...</td>\n",
       "      <td>...</td>\n",
       "      <td>...</td>\n",
       "      <td>...</td>\n",
       "      <td>...</td>\n",
       "      <td>...</td>\n",
       "      <td>...</td>\n",
       "      <td>...</td>\n",
       "    </tr>\n",
       "    <tr>\n",
       "      <th>256</th>\n",
       "      <td>2020</td>\n",
       "      <td>Jarred Vanderbilt</td>\n",
       "      <td>DEN</td>\n",
       "      <td>5</td>\n",
       "      <td>0</td>\n",
       "      <td>0</td>\n",
       "      <td>3</td>\n",
       "      <td>2</td>\n",
       "      <td>10</td>\n",
       "      <td>5</td>\n",
       "      <td>...</td>\n",
       "      <td>1</td>\n",
       "      <td>0.200000</td>\n",
       "      <td>0.000000</td>\n",
       "      <td>0.000000</td>\n",
       "      <td>0.120000</td>\n",
       "      <td>0.080000</td>\n",
       "      <td>0.400000</td>\n",
       "      <td>0.200000</td>\n",
       "      <td>0.120000</td>\n",
       "      <td>0.040000</td>\n",
       "    </tr>\n",
       "    <tr>\n",
       "      <th>274</th>\n",
       "      <td>2020</td>\n",
       "      <td>Jerami Grant</td>\n",
       "      <td>DEN</td>\n",
       "      <td>748</td>\n",
       "      <td>258</td>\n",
       "      <td>390</td>\n",
       "      <td>132</td>\n",
       "      <td>226</td>\n",
       "      <td>2144</td>\n",
       "      <td>490</td>\n",
       "      <td>...</td>\n",
       "      <td>144</td>\n",
       "      <td>4.109890</td>\n",
       "      <td>1.417582</td>\n",
       "      <td>2.142857</td>\n",
       "      <td>0.725275</td>\n",
       "      <td>1.241758</td>\n",
       "      <td>11.780220</td>\n",
       "      <td>2.692308</td>\n",
       "      <td>0.670330</td>\n",
       "      <td>0.791209</td>\n",
       "    </tr>\n",
       "    <tr>\n",
       "      <th>279</th>\n",
       "      <td>2020</td>\n",
       "      <td>Jerome Robinson</td>\n",
       "      <td>LAC</td>\n",
       "      <td>46</td>\n",
       "      <td>19</td>\n",
       "      <td>11</td>\n",
       "      <td>5</td>\n",
       "      <td>46</td>\n",
       "      <td>122</td>\n",
       "      <td>55</td>\n",
       "      <td>...</td>\n",
       "      <td>8</td>\n",
       "      <td>0.901961</td>\n",
       "      <td>0.372549</td>\n",
       "      <td>0.215686</td>\n",
       "      <td>0.098039</td>\n",
       "      <td>0.901961</td>\n",
       "      <td>2.392157</td>\n",
       "      <td>1.078431</td>\n",
       "      <td>0.254902</td>\n",
       "      <td>0.156863</td>\n",
       "    </tr>\n",
       "    <tr>\n",
       "      <th>364</th>\n",
       "      <td>2020</td>\n",
       "      <td>Kyle Lowry</td>\n",
       "      <td>TOR</td>\n",
       "      <td>396</td>\n",
       "      <td>187</td>\n",
       "      <td>342</td>\n",
       "      <td>40</td>\n",
       "      <td>497</td>\n",
       "      <td>1321</td>\n",
       "      <td>324</td>\n",
       "      <td>...</td>\n",
       "      <td>34</td>\n",
       "      <td>5.739130</td>\n",
       "      <td>2.710145</td>\n",
       "      <td>4.956522</td>\n",
       "      <td>0.579710</td>\n",
       "      <td>7.202899</td>\n",
       "      <td>19.144928</td>\n",
       "      <td>4.695652</td>\n",
       "      <td>1.463768</td>\n",
       "      <td>0.492754</td>\n",
       "    </tr>\n",
       "    <tr>\n",
       "      <th>386</th>\n",
       "      <td>2020</td>\n",
       "      <td>Malcolm Miller</td>\n",
       "      <td>TOR</td>\n",
       "      <td>26</td>\n",
       "      <td>18</td>\n",
       "      <td>6</td>\n",
       "      <td>4</td>\n",
       "      <td>22</td>\n",
       "      <td>76</td>\n",
       "      <td>28</td>\n",
       "      <td>...</td>\n",
       "      <td>4</td>\n",
       "      <td>0.194030</td>\n",
       "      <td>0.134328</td>\n",
       "      <td>0.044776</td>\n",
       "      <td>0.029851</td>\n",
       "      <td>0.164179</td>\n",
       "      <td>0.567164</td>\n",
       "      <td>0.208955</td>\n",
       "      <td>0.074627</td>\n",
       "      <td>0.029851</td>\n",
       "    </tr>\n",
       "  </tbody>\n",
       "</table>\n",
       "<p>150 rows × 21 columns</p>\n",
       "</div>"
      ],
      "text/plain": [
       "     season             player Team_Abbrev  sumfg  sumfg3  sumft  sumorb  \\\n",
       "0      2020       Aaron Gordon         ORL    335      73    151     107   \n",
       "1      2020      Aaron Holiday         IND    245      91     77      23   \n",
       "2      2020        Abdel Nader         OKC    248      98    104      30   \n",
       "3      2020        Adam Mokoka         CHI     12       6      2       7   \n",
       "4      2020  Admiral Schofield         WAS     35      19     10       7   \n",
       "..      ...                ...         ...    ...     ...    ...     ...   \n",
       "256    2020  Jarred Vanderbilt         DEN      5       0      0       3   \n",
       "274    2020       Jerami Grant         DEN    748     258    390     132   \n",
       "279    2020    Jerome Robinson         LAC     46      19     11       5   \n",
       "364    2020         Kyle Lowry         TOR    396     187    342      40   \n",
       "386    2020     Malcolm Miller         TOR     26      18      6       4   \n",
       "\n",
       "     sumast  sumpts  sumdrb  ...  sumblk     avgfg    avgfg3     avgft  \\\n",
       "0       228     894     368  ...      39  5.403226  1.177419  2.435484   \n",
       "1       235     658     138  ...      16  3.181818  1.181818  1.000000   \n",
       "2        76     698     176  ...      44  1.746479  0.690141  0.732394   \n",
       "3         4      32       3  ...       0  0.666667  0.333333  0.111111   \n",
       "4        15      99      40  ...       4  0.795455  0.431818  0.227273   \n",
       "..      ...     ...     ...  ...     ...       ...       ...       ...   \n",
       "256       2      10       5  ...       1  0.200000  0.000000  0.000000   \n",
       "274     226    2144     490  ...     144  4.109890  1.417582  2.142857   \n",
       "279      46     122      55  ...       8  0.901961  0.372549  0.215686   \n",
       "364     497    1321     324  ...      34  5.739130  2.710145  4.956522   \n",
       "386      22      76      28  ...       4  0.194030  0.134328  0.044776   \n",
       "\n",
       "       avgorb    avgast     avgpts    avgdrb    avgstl    avgblk  \n",
       "0    1.725806  3.677419  14.419355  5.935484  0.822581  0.629032  \n",
       "1    0.298701  3.051948   8.545455  1.792208  0.766234  0.207792  \n",
       "2    0.211268  0.535211   4.915493  1.239437  0.338028  0.309859  \n",
       "3    0.388889  0.222222   1.777778  0.166667  0.222222  0.000000  \n",
       "4    0.159091  0.340909   2.250000  0.909091  0.181818  0.090909  \n",
       "..        ...       ...        ...       ...       ...       ...  \n",
       "256  0.120000  0.080000   0.400000  0.200000  0.120000  0.040000  \n",
       "274  0.725275  1.241758  11.780220  2.692308  0.670330  0.791209  \n",
       "279  0.098039  0.901961   2.392157  1.078431  0.254902  0.156863  \n",
       "364  0.579710  7.202899  19.144928  4.695652  1.463768  0.492754  \n",
       "386  0.029851  0.164179   0.567164  0.208955  0.074627  0.029851  \n",
       "\n",
       "[150 rows x 21 columns]"
      ]
     },
     "execution_count": 10,
     "metadata": {},
     "output_type": "execute_result"
    }
   ],
   "source": [
    "by_team.head()"
   ]
  },
  {
   "cell_type": "code",
   "execution_count": 5,
   "id": "97ffa13f",
   "metadata": {},
   "outputs": [
    {
     "data": {
      "text/plain": [
       "Index(['season', 'player', 'Team_Abbrev', 'sumfg', 'sumfg3', 'sumft', 'sumorb',\n",
       "       'sumast', 'sumpts', 'sumdrb', 'sumstl', 'sumblk', 'avgfg', 'avgfg3',\n",
       "       'avgft', 'avgorb', 'avgast', 'avgpts', 'avgdrb', 'avgstl', 'avgblk'],\n",
       "      dtype='object')"
      ]
     },
     "execution_count": 5,
     "metadata": {},
     "output_type": "execute_result"
    }
   ],
   "source": [
    "df.columns"
   ]
  },
  {
   "cell_type": "code",
   "execution_count": 4,
   "id": "0fcc2c6d",
   "metadata": {},
   "outputs": [
    {
     "name": "stderr",
     "output_type": "stream",
     "text": [
      "C:\\Users\\theri\\anaconda3\\lib\\site-packages\\scipy\\__init__.py:146: UserWarning: A NumPy version >=1.16.5 and <1.23.0 is required for this version of SciPy (detected version 1.26.3\n",
      "  warnings.warn(f\"A NumPy version >={np_minversion} and <{np_maxversion}\"\n"
     ]
    },
    {
     "data": {
      "image/png": "[encoded data removed]",
      "text/plain": [
       "<Figure size 432x288 with 1 Axes>"
      ]
     },
     "metadata": {
      "needs_background": "light"
     },
     "output_type": "display_data"
    }
   ],
   "source": [
    "import matplotlib.pyplot as plt\n",
    "import seaborn as sns\n",
    "\n",
    "# Assuming 'data' is your DataFrame and 'column_name' is the column you want to check\n",
    "\n",
    "fig, (ax1, ax2, ax3) = plt.subplots(2, 1)\n",
    "\n",
    "ax1.sns.histplot(data=df, x = 'sumfg')\n",
    "ax1.titl\n",
    "ax2.sns.histplot(data=df, x = 'sumfg3')\n",
    "ax3.sns.histplot(data=df, x = 'sumft')\n",
    "plt.title('Histogram of Data Distribution')\n",
    "plt.xlabel('Values')\n",
    "plt.ylabel('Frequency')\n",
    "plt.show()"
   ]
  },
  {
   "cell_type": "code",
   "execution_count": 116,
   "id": "fa32e446",
   "metadata": {},
   "outputs": [
    {
     "data": {
      "image/png": "[encoded data removed]",
      "text/plain": [
       "<Figure size 432x720 with 1 Axes>"
      ]
     },
     "metadata": {
      "needs_background": "light"
     },
     "output_type": "display_data"
    }
   ],
   "source": [
    "data = df['avgstl']\n",
    "\n",
    "plt.figure(figsize=(6, 10))  # Adjust the width and height as needed\n",
    "\n",
    "\n",
    "# Create a box plot using seaborn\n",
    "ax = sns.boxplot(data=data)\n",
    "\n",
    "\n",
    "\n",
    "# Add median value\n",
    "median = np.median(data)\n",
    "ax.text(0.5, median, f'Median: {median:.2f}', fontsize=10, color='red', ha='center')\n",
    "\n",
    "# Add quartile values\n",
    "quartiles = np.percentile(data, [25, 75])\n",
    "ax.text(0.5, quartiles[0], f'Q1: {quartiles[0]:.2f}', fontsize=10, color='blue', ha='center')\n",
    "ax.text(0.5, quartiles[1], f'Q3: {quartiles[1]:.2f}', fontsize=10, color='blue', ha='center')\n",
    "\n",
    "# Add whisker values\n",
    "whiskers = ax.lines[:2]\n",
    "for whisker in whiskers:\n",
    "    ax.text(0.5, whisker.get_ydata()[1], f'Whisker: {whisker.get_ydata()[1]:.2f}', fontsize=10, color='green', ha='center')\n",
    "\n",
    "plt.title('Box Plot with Median, Quartiles, and Whiskers')\n",
    "plt.xlabel('Data')\n",
    "plt.ylabel('Values')\n",
    "\n",
    "plt.show()\n"
   ]
  },
  {
   "cell_type": "code",
   "execution_count": 117,
   "id": "94d70d68",
   "metadata": {},
   "outputs": [
    {
     "data": {
      "image/png": "[encoded data removed]",
      "text/plain": [
       "<Figure size 432x288 with 1 Axes>"
      ]
     },
     "metadata": {
      "needs_background": "light"
     },
     "output_type": "display_data"
    }
   ],
   "source": [
    "# Assuming 'data' is your DataFrame and 'column_name' is the column you want to check\n",
    "sns.boxplot(data=df, x='avgstl')\n",
    "plt.title('Box Plot of Data Distribution')\n",
    "plt.xlabel('Column')\n",
    "plt.show()"
   ]
  },
  {
   "cell_type": "code",
   "execution_count": 33,
   "id": "88b64fb1",
   "metadata": {},
   "outputs": [],
   "source": [
    "from sklearn.ensemble import IsolationForest"
   ]
  },
  {
   "cell_type": "code",
   "execution_count": 118,
   "id": "06d547b0",
   "metadata": {},
   "outputs": [],
   "source": [
    "points = df['avgstl'].values.reshape(1,-1)"
   ]
  },
  {
   "cell_type": "code",
   "execution_count": 157,
   "id": "7a1dd2cb",
   "metadata": {},
   "outputs": [],
   "source": [
    "model = IsolationForest(contamination = 0.1)"
   ]
  },
  {
   "cell_type": "code",
   "execution_count": 158,
   "id": "850b77a7",
   "metadata": {},
   "outputs": [
    {
     "data": {
      "text/html": [
       "<style>#sk-container-id-34 {color: black;}#sk-container-id-34 pre{padding: 0;}#sk-container-id-34 div.sk-toggleable {background-color: white;}#sk-container-id-34 label.sk-toggleable__label {cursor: pointer;display: block;width: 100%;margin-bottom: 0;padding: 0.3em;box-sizing: border-box;text-align: center;}#sk-container-id-34 label.sk-toggleable__label-arrow:before {content: \"▸\";float: left;margin-right: 0.25em;color: #696969;}#sk-container-id-34 label.sk-toggleable__label-arrow:hover:before {color: black;}#sk-container-id-34 div.sk-estimator:hover label.sk-toggleable__label-arrow:before {color: black;}#sk-container-id-34 div.sk-toggleable__content {max-height: 0;max-width: 0;overflow: hidden;text-align: left;background-color: #f0f8ff;}#sk-container-id-34 div.sk-toggleable__content pre {margin: 0.2em;color: black;border-radius: 0.25em;background-color: #f0f8ff;}#sk-container-id-34 input.sk-toggleable__control:checked~div.sk-toggleable__content {max-height: 200px;max-width: 100%;overflow: auto;}#sk-container-id-34 input.sk-toggleable__control:checked~label.sk-toggleable__label-arrow:before {content: \"▾\";}#sk-container-id-34 div.sk-estimator input.sk-toggleable__control:checked~label.sk-toggleable__label {background-color: #d4ebff;}#sk-container-id-34 div.sk-label input.sk-toggleable__control:checked~label.sk-toggleable__label {background-color: #d4ebff;}#sk-container-id-34 input.sk-hidden--visually {border: 0;clip: rect(1px 1px 1px 1px);clip: rect(1px, 1px, 1px, 1px);height: 1px;margin: -1px;overflow: hidden;padding: 0;position: absolute;width: 1px;}#sk-container-id-34 div.sk-estimator {font-family: monospace;background-color: #f0f8ff;border: 1px dotted black;border-radius: 0.25em;box-sizing: border-box;margin-bottom: 0.5em;}#sk-container-id-34 div.sk-estimator:hover {background-color: #d4ebff;}#sk-container-id-34 div.sk-parallel-item::after {content: \"\";width: 100%;border-bottom: 1px solid gray;flex-grow: 1;}#sk-container-id-34 div.sk-label:hover label.sk-toggleable__label {background-color: #d4ebff;}#sk-container-id-34 div.sk-serial::before {content: \"\";position: absolute;border-left: 1px solid gray;box-sizing: border-box;top: 0;bottom: 0;left: 50%;z-index: 0;}#sk-container-id-34 div.sk-serial {display: flex;flex-direction: column;align-items: center;background-color: white;padding-right: 0.2em;padding-left: 0.2em;position: relative;}#sk-container-id-34 div.sk-item {position: relative;z-index: 1;}#sk-container-id-34 div.sk-parallel {display: flex;align-items: stretch;justify-content: center;background-color: white;position: relative;}#sk-container-id-34 div.sk-item::before, #sk-container-id-34 div.sk-parallel-item::before {content: \"\";position: absolute;border-left: 1px solid gray;box-sizing: border-box;top: 0;bottom: 0;left: 50%;z-index: -1;}#sk-container-id-34 div.sk-parallel-item {display: flex;flex-direction: column;z-index: 1;position: relative;background-color: white;}#sk-container-id-34 div.sk-parallel-item:first-child::after {align-self: flex-end;width: 50%;}#sk-container-id-34 div.sk-parallel-item:last-child::after {align-self: flex-start;width: 50%;}#sk-container-id-34 div.sk-parallel-item:only-child::after {width: 0;}#sk-container-id-34 div.sk-dashed-wrapped {border: 1px dashed gray;margin: 0 0.4em 0.5em 0.4em;box-sizing: border-box;padding-bottom: 0.4em;background-color: white;}#sk-container-id-34 div.sk-label label {font-family: monospace;font-weight: bold;display: inline-block;line-height: 1.2em;}#sk-container-id-34 div.sk-label-container {text-align: center;}#sk-container-id-34 div.sk-container {/* jupyter's `normalize.less` sets `[hidden] { display: none; }` but bootstrap.min.css set `[hidden] { display: none !important; }` so we also need the `!important` here to be able to override the default hidden behavior on the sphinx rendered scikit-learn.org. See: https://github.com/scikit-learn/scikit-learn/issues/21755 */display: inline-block !important;position: relative;}#sk-container-id-34 div.sk-text-repr-fallback {display: none;}</style><div id=\"sk-container-id-34\" class=\"sk-top-container\"><div class=\"sk-text-repr-fallback\"><pre>IsolationForest(contamination=0.1)</pre><b>In a Jupyter environment, please rerun this cell to show the HTML representation or trust the notebook. <br />On GitHub, the HTML representation is unable to render, please try loading this page with nbviewer.org.</b></div><div class=\"sk-container\" hidden><div class=\"sk-item\"><div class=\"sk-estimator sk-toggleable\"><input class=\"sk-toggleable__control sk-hidden--visually\" id=\"sk-estimator-id-34\" type=\"checkbox\" checked><label for=\"sk-estimator-id-34\" class=\"sk-toggleable__label sk-toggleable__label-arrow\">IsolationForest</label><div class=\"sk-toggleable__content\"><pre>IsolationForest(contamination=0.1)</pre></div></div></div></div></div>"
      ],
      "text/plain": [
       "IsolationForest(contamination=0.1)"
      ]
     },
     "execution_count": 158,
     "metadata": {},
     "output_type": "execute_result"
    }
   ],
   "source": [
    "model.fit(points)"
   ]
  },
  {
   "cell_type": "code",
   "execution_count": 159,
   "id": "0800f270",
   "metadata": {},
   "outputs": [],
   "source": [
    "outliers = model.predict(points)"
   ]
  },
  {
   "cell_type": "code",
   "execution_count": 160,
   "id": "5e329ccd",
   "metadata": {},
   "outputs": [
    {
     "data": {
      "text/plain": [
       "(1,)"
      ]
     },
     "execution_count": 160,
     "metadata": {},
     "output_type": "execute_result"
    }
   ],
   "source": [
    "outliers.shape"
   ]
  },
  {
   "cell_type": "code",
   "execution_count": null,
   "id": "8e4f58dc",
   "metadata": {},
   "outputs": [],
   "source": []
  }
 ],
 "metadata": {
  "kernelspec": {
   "display_name": "Python 3 (ipykernel)",
   "language": "python",
   "name": "python3"
  },
  "language_info": {
   "codemirror_mode": {
    "name": "ipython",
    "version": 3
   },
   "file_extension": ".py",
   "mimetype": "text/x-python",
   "name": "python",
   "nbconvert_exporter": "python",
   "pygments_lexer": "ipython3",
   "version": "3.9.7"
  }
 },
 "nbformat": 4,
 "nbformat_minor": 5
}
